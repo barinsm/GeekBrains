{
 "cells": [
  {
   "cell_type": "markdown",
   "metadata": {},
   "source": [
    "## Урок 2. Видеоурок “Множество. Последовательность”"
   ]
  },
  {
   "cell_type": "markdown",
   "metadata": {},
   "source": [
    "### Тема “Введение в математических анализ”\n",
    "1. Как относятся друг к другу множество и последовательность? (в ответе использовать слова типа: часть, целое, общее, частное, родитель, дочерний субъект и т.д.)"
   ]
  },
  {
   "cell_type": "code",
   "execution_count": null,
   "metadata": {},
   "outputs": [],
   "source": []
  },
  {
   "attachments": {},
   "cell_type": "markdown",
   "metadata": {},
   "source": [
    "2. Прочитать высказывания математической логики, построить их отрицания и установить истинность.\n",
    "\n",
    "## $$\\forall y \\in [0;1] : sgn(y)=1$$\n",
    "## $$\\forall n \\in \\mathbb{N} > 2 : \\exists x,y,z \\in \\mathbb{N}: x^n=y^n+z^n$$\n",
    "## $$\\forall x \\in \\mathbb{R}\\exists X \\in \\mathbb{R} : X>x$$\n",
    "## $$\\forall x \\in \\mathbb{C}\\nexists y \\in \\mathbb{C} : x>y\\|x<y$$\n",
    "## $$\\forall y \\in [0;\\frac{\\pi}{2}]\\exists \\varepsilon >0 : \\sin(y)<\\sin(y+\\varepsilon)$$\n",
    "## $$\\forall y \\in [0;\\pi)\\exists \\varepsilon >0 : \\cos(y)>\\cos(y+\\varepsilon)$$\n",
    "## $$\\exists x : x \\in \\{\\mathbb{N,Z,Q,R,C}\\}$$\n"
   ]
  },
  {
   "cell_type": "code",
   "execution_count": null,
   "metadata": {},
   "outputs": [],
   "source": []
  },
  {
   "cell_type": "markdown",
   "metadata": {},
   "source": [
    "### Тема “Множество”\n",
    "1. Даны три множества a,b и с. Необходимо выполнить все изученные виды бинарных операций над всеми комбинациями множеств."
   ]
  },
  {
   "cell_type": "code",
   "execution_count": null,
   "metadata": {},
   "outputs": [],
   "source": []
  },
  {
   "cell_type": "markdown",
   "metadata": {},
   "source": [
    "2. *Выполнить задание 1 на языке Python"
   ]
  },
  {
   "cell_type": "code",
   "execution_count": null,
   "metadata": {},
   "outputs": [],
   "source": []
  },
  {
   "attachments": {},
   "cell_type": "markdown",
   "metadata": {},
   "source": [
    "### Тема 3 “Последовательность”\n",
    "1. Даны 4 последовательности. Необходимо:\n",
    "\n",
    "    a. исследовать их на монотонность;\n",
    "    \n",
    "    b. исследовать на ограниченность;\n",
    "    \n",
    "    c. найти пятый по счету член.\n",
    "    \n",
    "## $$\\{a_n\\}_{n=1}^{\\infty}=2^n-n$$\n",
    "## $$\\{b_n\\}_{n=2}^{\\infty}=\\frac{1}{1-n}$$\n",
    "## $$\\{c_n\\}_{n=1}^{\\infty}=-1^n+\\sqrt{2n}$$\n",
    "## $$\\{d_n\\}_{n=1}^{\\infty}=(-1)^{2n}+\\frac{1}{n^2}$$\n"
   ]
  },
  {
   "cell_type": "code",
   "execution_count": null,
   "metadata": {},
   "outputs": [],
   "source": []
  },
  {
   "cell_type": "markdown",
   "metadata": {},
   "source": [
    "2. Найти 12-й член заданной неявно последовательности\n",
    "\n",
    "## $$a_1=128,a_{n+1}-a_n=6$$"
   ]
  },
  {
   "cell_type": "code",
   "execution_count": null,
   "metadata": {},
   "outputs": [],
   "source": []
  },
  {
   "cell_type": "markdown",
   "metadata": {},
   "source": [
    "3. *На языке Python предложить алгоритм вычисляющий численно предел с точностью $\\varepsilon = 10^{-7}$\n",
    "\n",
    "## $$\\lim_{n\\to+\\infty}\\frac{n}{\\sqrt[n]{n!}}$$"
   ]
  },
  {
   "cell_type": "code",
   "execution_count": null,
   "metadata": {},
   "outputs": [],
   "source": []
  },
  {
   "cell_type": "markdown",
   "metadata": {},
   "source": [
    "4. *Предложить оптимизацию алгоритма, полученного в задании 3, ускоряющую его сходимость."
   ]
  },
  {
   "cell_type": "code",
   "execution_count": null,
   "metadata": {},
   "outputs": [],
   "source": []
  }
 ],
 "metadata": {
  "kernelspec": {
   "display_name": "Python 3",
   "language": "python",
   "name": "python3"
  },
  "language_info": {
   "codemirror_mode": {
    "name": "ipython",
    "version": 3
   },
   "file_extension": ".py",
   "mimetype": "text/x-python",
   "name": "python",
   "nbconvert_exporter": "python",
   "pygments_lexer": "ipython3",
   "version": "3.7.1"
  }
 },
 "nbformat": 4,
 "nbformat_minor": 2
}
