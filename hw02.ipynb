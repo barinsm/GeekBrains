{
 "cells": [
  {
   "cell_type": "markdown",
   "metadata": {},
   "source": [
    "## Урок 2. Веб запросы, работа с API, парсинг"
   ]
  },
  {
   "cell_type": "markdown",
   "metadata": {},
   "source": [
    "1. Доработать приложение по поиску авиабилетов, чтобы оно возвращало билеты по названию города, а не по IATA коду. (У aviasales есть для этого дополнительное API) Пункт отправления и пункт назначения должны передаваться в качестве параметров. Сделать форматированный вывод, который содержит в себе пункт отправления, пункт назначения, дату вылета, цену билета (можно добавить еще другие параметры по желанию)"
   ]
  },
  {
   "cell_type": "code",
   "execution_count": null,
   "metadata": {},
   "outputs": [],
   "source": [
    "from pprint import pprint\n",
    "import requests\n",
    "import json\n",
    "service = 'http://min-prices.aviasales.ru/calendar_preload?'\n",
    "fromCity = 'MOW'\n",
    "toCity = 'LED'\n",
    "link = f'{service}origin={fromCity}&destination={toCity}&one_way=true'\n",
    "req = requests.get(link)\n",
    "data = json.loads(req.text)\n",
    "for i in data['best_prices']:\n",
    "    print(i['value'],i['depart_date'],i['return_date'],i['gate'])\n"
   ]
  },
  {
   "cell_type": "markdown",
   "metadata": {},
   "source": [
    "2. В приложении парсинга википедии получить первую ссылку из раздела \"Ссылки\" и вывести все значимые слова из неё. Результат записать в файл в форматированном виде."
   ]
  },
  {
   "cell_type": "code",
   "execution_count": null,
   "metadata": {},
   "outputs": [],
   "source": [
    "from pprint import pprint\n",
    "import requests\n",
    "import re\n",
    "\n",
    "def get_link(topic):\n",
    "    link='https://ru.wikipedia.org/wiki/'+topic.capitalize()\n",
    "    return link\n",
    "\n",
    "def get_topic_page(topic):\n",
    "    link = get_link(topic)\n",
    "    html = requests.get(link).text\n",
    "    return html\n",
    "\n",
    "def get_topic_text(topic):\n",
    "    html_content = get_topic_page(topic)\n",
    "    words = re.findall(\"[а-яА-Я]{3,}\",html_content)\n",
    "    #text = ' '.join(words)\n",
    "    return words\n",
    "\n",
    "# text = get_topic_text('Дерево')\n",
    "# print(len(text))\n",
    "# print(text[0:1000])\n",
    "\n",
    "def get_common_words(topic):\n",
    "    words_list = get_topic_text(topic)\n",
    "    rate={}\n",
    "    for word in words_list:\n",
    "        if word in rate:\n",
    "            rate[word]+=1\n",
    "        else:\n",
    "            rate[word]=1\n",
    "    rate_list = list(rate.items())\n",
    "    rate_list.sort(key = lambda x: -x[1])\n",
    "    return rate_list\n",
    "\n",
    "dict1 = get_common_words('Россия')\n",
    "pprint(dict1)\n"
   ]
  },
  {
   "cell_type": "markdown",
   "metadata": {},
   "source": [
    "3. \\* Научить приложение определять количество ссылок в статье (раздел Ссылки). Выполнить поиск слов в статьях по каждой ссылке и результаты записать в отдельные файлы."
   ]
  },
  {
   "cell_type": "code",
   "execution_count": null,
   "metadata": {},
   "outputs": [],
   "source": []
  }
 ],
 "metadata": {
  "kernelspec": {
   "display_name": "Python 3",
   "language": "python",
   "name": "python3"
  },
  "language_info": {
   "codemirror_mode": {
    "name": "ipython",
    "version": 3
   },
   "file_extension": ".py",
   "mimetype": "text/x-python",
   "name": "python",
   "nbconvert_exporter": "python",
   "pygments_lexer": "ipython3",
   "version": "3.7.1"
  }
 },
 "nbformat": 4,
 "nbformat_minor": 2
}
