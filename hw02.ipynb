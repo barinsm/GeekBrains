{
 "cells": [
  {
   "cell_type": "markdown",
   "metadata": {},
   "source": [
    "## ДЗ к Уроку 2\n",
    "### Дискретные случайные величины. Закон распределения вероятностей. Биномиальный закон распределения. Распределение Пуассона"
   ]
  },
  {
   "cell_type": "markdown",
   "metadata": {},
   "source": [
    "### 1. Задание:"
   ]
  },
  {
   "cell_type": "markdown",
   "metadata": {},
   "source": [
    "_Вероятность того, что стрелок попадет в мишень, выстрелив один раз, равна 0.8. Стрелок выстрелил 100 раз. Найдите вероятность того, что стрелок попадет в цель ровно 85 раз._"
   ]
  },
  {
   "cell_type": "code",
   "execution_count": 1,
   "metadata": {},
   "outputs": [],
   "source": [
    "from math import factorial, exp "
   ]
  },
  {
   "cell_type": "code",
   "execution_count": 2,
   "metadata": {},
   "outputs": [],
   "source": [
    "def comb(n, k):\n",
    "    return int(factorial(n) / (factorial(k) * factorial(n - k)))"
   ]
  },
  {
   "cell_type": "code",
   "execution_count": 3,
   "metadata": {},
   "outputs": [
    {
     "data": {
      "text/plain": [
       "0.048061793700746355"
      ]
     },
     "execution_count": 3,
     "metadata": {},
     "output_type": "execute_result"
    }
   ],
   "source": [
    "p = 0.8\n",
    "q = 1 - p # 0.2\n",
    "n = 100\n",
    "k = 85\n",
    "C = comb(n, k)\n",
    "P = C * p**k * q**(n - k)\n",
    "P"
   ]
  },
  {
   "cell_type": "markdown",
   "metadata": {},
   "source": [
    "### 2. Задание:"
   ]
  },
  {
   "cell_type": "markdown",
   "metadata": {},
   "source": [
    "_Вероятность того, что лампочка перегорит в течение первого дня эксплуатации, равна 0.0004. В жилом комплексе после ремонта в один день включили 5000 новых лампочек. Какова вероятность, что ни одна из них не перегорит в первый день? Какова вероятность, что перегорят ровно две?_"
   ]
  },
  {
   "cell_type": "code",
   "execution_count": 4,
   "metadata": {},
   "outputs": [
    {
     "data": {
      "text/plain": [
       "(0.1353352832366127, 0.2706705664732254)"
      ]
     },
     "execution_count": 4,
     "metadata": {},
     "output_type": "execute_result"
    }
   ],
   "source": [
    "p = 0.0004\n",
    "n = 5000\n",
    "lambda_ = n * p # 2\n",
    "P_0 = (lambda_**0 / factorial(0)) * exp(-lambda_)\n",
    "P_2 = (lambda_**2 / factorial(2)) * exp(-lambda_)\n",
    "P_0, P_2"
   ]
  },
  {
   "cell_type": "markdown",
   "metadata": {},
   "source": [
    "### 3. Задание:"
   ]
  },
  {
   "cell_type": "markdown",
   "metadata": {},
   "source": [
    "_Монету подбросили 144 раза. Какова вероятность, что орел выпадет ровно 70 раз?_"
   ]
  },
  {
   "cell_type": "code",
   "execution_count": 5,
   "metadata": {},
   "outputs": [
    {
     "data": {
      "text/plain": [
       "0.06281178035144776"
      ]
     },
     "execution_count": 5,
     "metadata": {},
     "output_type": "execute_result"
    }
   ],
   "source": [
    "p = 1/2\n",
    "q = 1 - p # 1/2\n",
    "n = 144\n",
    "k = 70\n",
    "C = comb(n, k)\n",
    "P = C * p**k * q**(n - k)\n",
    "P"
   ]
  },
  {
   "cell_type": "markdown",
   "metadata": {},
   "source": [
    "### 4. Задание:"
   ]
  },
  {
   "cell_type": "markdown",
   "metadata": {},
   "source": [
    "_В первом ящике находится 10 мячей, из которых 7 - белые. Во втором ящике - 11 мячей, из которых 9 белых. Из каждого ящика вытаскивают случайным образом по два мяча. Какова вероятность того, что все мячи белые? Какова вероятность того, что ровно два мяча белые? Какова вероятность того, что хотя бы один мяч белый?_"
   ]
  },
  {
   "cell_type": "code",
   "execution_count": 6,
   "metadata": {},
   "outputs": [
    {
     "name": "stdout",
     "output_type": "stream",
     "text": [
      "0.3054545454545454\n",
      "0.20484848484848486\n",
      "0.9987878787878788\n"
     ]
    }
   ],
   "source": [
    "n1 = 10\n",
    "k1 = 7\n",
    "n2 = 11\n",
    "k2 = 9\n",
    "\n",
    "# случай 1\n",
    "P = (k1 / n1) * ((k1 - 1) / (n1 - 1)) * (k2 / n2) * ((k2 - 1) / (n2 - 1))\n",
    "print(P)\n",
    "\n",
    "# случай 2\n",
    "P_1 = (k1 / n1) * ((k1 - 1) / (n1 - 1)) * ((n2 - k2) / n2) * ((n2 - k2 - 1) / (n2 - 1))\n",
    "P_2 = (k2 / n2) * ((k2 - 1) / (n2 - 1)) * ((n1 - k1) / n1) * ((n1 - k1 - 1) / (n1 - 1))\n",
    "P_3 = ( (k1 / n1) * ((n1 - k1) / (n1 - 1)) + ((n1 - k1) / n1) * (k1 / (n1 - 1)) )       \\\n",
    "* ( (k2 / n2) * ((n2 - k2) / (n2 - 1)) + ((n2 - k2) / n2 ) * (k2 / (n2 - 1)) )\n",
    "P = P_1 + P_2 + P_3\n",
    "print(P)\n",
    "\n",
    "# случай 3\n",
    "P = 1 - ((n1 - k1) / n1) * ((n1 - k1 - 1) / (n1 - 1)) * ((n2 - k2) / n2) * ((n2 - k2 - 1) / (n2 - 1))\n",
    "print(P)"
   ]
  },
  {
   "cell_type": "code",
   "execution_count": null,
   "metadata": {},
   "outputs": [],
   "source": []
  }
 ],
 "metadata": {
  "kernelspec": {
   "display_name": "Python 3",
   "language": "python",
   "name": "python3"
  },
  "language_info": {
   "codemirror_mode": {
    "name": "ipython",
    "version": 3
   },
   "file_extension": ".py",
   "mimetype": "text/x-python",
   "name": "python",
   "nbconvert_exporter": "python",
   "pygments_lexer": "ipython3",
   "version": "3.7.1"
  }
 },
 "nbformat": 4,
 "nbformat_minor": 2
}
