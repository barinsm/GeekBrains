{
 "cells": [
  {
   "cell_type": "markdown",
   "metadata": {
    "colab_type": "text",
    "id": "8lXU1HKbnZPX"
   },
   "source": [
    "# ДЗ к Урок 2. Непрерывность, гладкость и сходимость ЦФ. Дискретные ЦФ"
   ]
  },
  {
   "cell_type": "code",
   "execution_count": null,
   "metadata": {
    "colab": {},
    "colab_type": "code",
    "id": "7Y5rCGsooGh2",
    "outputId": "8e0ea05d-446d-4609-bc31-ee195203f742"
   },
   "outputs": [
    {
     "data": {
      "image/png": "[encoded data removed]",
      "text/plain": [
       "<Figure size 432x288 with 1 Axes>"
      ]
     },
     "metadata": {
      "tags": []
     },
     "output_type": "display_data"
    }
   ],
   "source": [
    "import numpy as np              \n",
    "import matplotlib.pyplot as plt \n",
    "import math\n",
    "\n",
    "x = np.linspace(-10, 10, 21)                             # 21 равный промежуток от -10 до 10\n",
    "F = x**3                                                 # выражение ЦФ\n",
    "\n",
    "fig, ax = plt.subplots()                                 # прорисовка осей\n",
    "\n",
    "markerline, stemlines, baseline = plt.stem(x, F, ':')\n",
    "\n",
    "ax.grid()                                                # прорисовка сетки\n",
    " \n",
    "lgnd = ax.legend(['ЦФ'], loc='upper left', shadow=True)  # легенда\n",
    "lgnd.get_frame().set_facecolor('#ffb19a')                # рамка легенды\n",
    " \n",
    "plt.show()                                               # вывод графика"
   ]
  },
  {
   "cell_type": "markdown",
   "metadata": {
    "colab_type": "text",
    "id": "8HiaTKUfoGiH"
   },
   "source": [
    "## Практическое задание"
   ]
  },
  {
   "cell_type": "markdown",
   "metadata": {
    "colab_type": "text",
    "id": "Jk2M0GfnoGiI"
   },
   "source": [
    "Директор выделил машину под закупку оборудования, выделил достаточно большое количество денег и сказал: «Берите, что вам нужно, но не более 200 кг. И каждого товара берите не более одной единицы!»\n",
    "Есть прайс-лист на 2000 наименований.<br>\n",
    "Стоимости товаров варьируются от \\$100 до \\$5000 с шагом \\$100.<br>\n",
    "Массы товаров варьируются от 1 до 150 кг с шагом в 1 кг.<br>\n",
    "Зависимостей между массой и стоимостью нет (может выпасть товар массой 1 кг и стоимостью \\$5000 и массой 150 кг и стоимостью \\$100.<br>\n",
    "Необходимо составить ЦФ для этой задачи, выбрать критерий оптимальности и...<br>\n",
    "\\* ...предложить алгоритм её решения."
   ]
  },
  {
   "cell_type": "code",
   "execution_count": null,
   "metadata": {},
   "outputs": [],
   "source": []
  }
 ],
 "metadata": {
  "colab": {
   "collapsed_sections": [],
   "name": "Методичка 2.Часть 1. Методы оптимизации. Непрерывность, гладкость и сходимость ЦФ. Дискретные ЦФ.ipynb",
   "provenance": []
  },
  "kernelspec": {
   "display_name": "Python 3",
   "language": "python",
   "name": "python3"
  },
  "language_info": {
   "codemirror_mode": {
    "name": "ipython",
    "version": 3
   },
   "file_extension": ".py",
   "mimetype": "text/x-python",
   "name": "python",
   "nbconvert_exporter": "python",
   "pygments_lexer": "ipython3",
   "version": "3.7.1"
  }
 },
 "nbformat": 4,
 "nbformat_minor": 1
}
