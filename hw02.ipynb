{
 "cells": [
  {
   "cell_type": "markdown",
   "metadata": {},
   "source": [
    "## Урок 2. Файловое хранение данных"
   ]
  },
  {
   "cell_type": "markdown",
   "metadata": {},
   "source": [
    "### Практическая работа"
   ]
  },
  {
   "cell_type": "markdown",
   "metadata": {},
   "source": [
    "1. Задание на закрепление знаний по модулю CSV. Написать скрипт, осуществляющий выборку определенных данных из файлов info_1.txt, info_2.txt, info_3.txt и формирующий новый «отчетный» файл в формате CSV. Для этого:"
   ]
  },
  {
   "cell_type": "code",
   "execution_count": 1,
   "metadata": {},
   "outputs": [],
   "source": [
    "import csv"
   ]
  },
  {
   "cell_type": "markdown",
   "metadata": {},
   "source": [
    "2. Создать функцию get_data(), в которой в цикле осуществляется перебор файлов с данными, их открытие и считывание данных. В этой функции из считанных данных необходимо с помощью регулярных выражений извлечь значения параметров «Изготовитель системы», «Название ОС», «Код продукта», «Тип системы». Значения каждого параметра поместить в соответствующий список. Должно получиться четыре списка — например, os_prod_list, os_name_list, os_code_list, os_type_list. В этой же функции создать главный список для хранения данных отчета — например, main_data — и поместить в него названия столбцов отчета в виде списка: «Изготовитель системы», «Название ОС», «Код продукта», «Тип системы». Значения для этих столбцов также оформить в виде списка и поместить в файл main_data (также для каждого файла);"
   ]
  },
  {
   "cell_type": "code",
   "execution_count": 2,
   "metadata": {},
   "outputs": [],
   "source": [
    "def get_data():\n",
    "    os_prod, os_name, os_code, os_type = \"Изготовитель системы\", \"Название ОС\", \"Код продукта\", \"Тип системы\"\n",
    "    os_prod_list, os_name_list, os_code_list, os_type_list = [], [], [], []\n",
    "    for f in ([\"info_1.txt\", \"info_2.txt\", \"info_3.txt\"]):\n",
    "        with open(f, encoding=\"cp1251\") as f_n:\n",
    "            for el_str in f_n:\n",
    "                if el_str.find(os_prod) >= 0 : os_prod_list.append(el_str[1+len(os_prod):].strip())\n",
    "                if el_str.find(os_name) >= 0 : os_name_list.append(el_str[1+len(os_name):].strip())\n",
    "                if el_str.find(os_code) >= 0 : os_code_list.append(el_str[1+len(os_code):].strip())\n",
    "                if el_str.find(os_type) >= 0 : os_type_list.append(el_str[1+len(os_type):].strip())\n",
    "    main_data = [[os_prod, os_name, os_code, os_type]]\n",
    "    for i in range(3):\n",
    "        main_data.append([os_prod_list[i], os_name_list[i], os_code_list[i], os_type_list[i]])\n",
    "    return main_data"
   ]
  },
  {
   "cell_type": "markdown",
   "metadata": {},
   "source": [
    "3. Создать функцию write_to_csv(), в которую передавать ссылку на CSV-файл. В этой функции реализовать получение данных через вызов функции get_data(), а также сохранение подготовленных данных в соответствующий CSV-файл;"
   ]
  },
  {
   "cell_type": "code",
   "execution_count": 3,
   "metadata": {},
   "outputs": [],
   "source": [
    "def write_to_csv(file):\n",
    "    with open(file, 'w') as file:\n",
    "        writer = csv.writer(file, lineterminator = '\\n')\n",
    "        for row in get_data():\n",
    "            writer.writerow(row)\n",
    "    return"
   ]
  },
  {
   "cell_type": "markdown",
   "metadata": {},
   "source": [
    "4. Проверить работу программы через вызов функции write_to_csv()."
   ]
  },
  {
   "cell_type": "code",
   "execution_count": 4,
   "metadata": {},
   "outputs": [
    {
     "name": "stdout",
     "output_type": "stream",
     "text": [
      "['Изготовитель системы', 'Название ОС', 'Код продукта', 'Тип системы']\n",
      "['LENOVO', 'Microsoft Windows 7 Профессиональная', '00971-OEM-1982661-00231', 'x64-based PC']\n",
      "['ACER', 'Microsoft Windows 10 Professional', '00971-OEM-1982661-00231', 'x64-based PC']\n",
      "['DELL', 'Microsoft Windows 8.1 Professional', '00971-OEM-1982661-00231', 'x86-based PC']\n"
     ]
    }
   ],
   "source": [
    "write_to_csv('main_data.csv')\n",
    "with open('main_data.csv') as file:\n",
    "    reader = csv.reader(file)\n",
    "    for row in reader:\n",
    "        print(row)"
   ]
  },
  {
   "cell_type": "markdown",
   "metadata": {},
   "source": [
    "5. Задание на закрепление знаний по модулю json. Есть файл orders в формате JSON с информацией о заказах. Написать скрипт, автоматизирующий его заполнение данными. Для этого:"
   ]
  },
  {
   "cell_type": "code",
   "execution_count": 5,
   "metadata": {},
   "outputs": [],
   "source": [
    "import json\n",
    "from pprint import pprint"
   ]
  },
  {
   "cell_type": "markdown",
   "metadata": {},
   "source": [
    "6. Создать функцию write_order_to_json(), в которую передается 5 параметров — товар (item), количество (quantity), цена (price), покупатель (buyer), дата (date). Функция должна предусматривать запись данных в виде словаря в файл orders.json. При записи данных указать величину отступа в 4 пробельных символа;"
   ]
  },
  {
   "cell_type": "code",
   "execution_count": 6,
   "metadata": {},
   "outputs": [],
   "source": [
    "def write_order_to_json(item, quantity, price, buyer, date):\n",
    "    with open('orders.json') as file:\n",
    "        data = json.load(file)\n",
    "        data[\"orders\"].append({\"item\": item, \"quantity\": quantity, \"price\": price, \"buyer\": buyer, \"date\": date})\n",
    "    with open('orders.json', 'w') as file:\n",
    "        json.dump(data, file, indent=4)\n",
    "    return"
   ]
  },
  {
   "cell_type": "markdown",
   "metadata": {},
   "source": [
    "7. Проверить работу программы через вызов функции write_order_to_json() с передачей в нее значений каждого параметра."
   ]
  },
  {
   "cell_type": "code",
   "execution_count": 7,
   "metadata": {},
   "outputs": [
    {
     "name": "stdout",
     "output_type": "stream",
     "text": [
      "{'orders': [{'buyer': 'John Smith',\n",
      "             'date': '2019-08-01',\n",
      "             'item': 'iPhone SE',\n",
      "             'price': 500,\n",
      "             'quantity': 10},\n",
      "            {'buyer': 'Bill Gates',\n",
      "             'date': '2019-08-02',\n",
      "             'item': 'iPhone 6s',\n",
      "             'price': 750,\n",
      "             'quantity': 5},\n",
      "            {'buyer': 'Dick Dude',\n",
      "             'date': '2019-08-03',\n",
      "             'item': 'iPhone X',\n",
      "             'price': 1000,\n",
      "             'quantity': 2}]}\n"
     ]
    }
   ],
   "source": [
    "write_order_to_json('iPhone SE', 10, 500, 'John Smith', '2019-08-01')\n",
    "write_order_to_json('iPhone 6s', 5, 750, 'Bill Gates', '2019-08-02')\n",
    "write_order_to_json('iPhone X', 2, 1000, 'Dick Dude', '2019-08-03')\n",
    "with open('orders.json') as file:\n",
    "    pprint(json.load(file))"
   ]
  },
  {
   "cell_type": "markdown",
   "metadata": {},
   "source": [
    "8. Задание на закрепление знаний по модулю yaml. Написать скрипт, автоматизирующий сохранение данных в файле YAML-формата. Для этого:"
   ]
  },
  {
   "cell_type": "code",
   "execution_count": 8,
   "metadata": {},
   "outputs": [],
   "source": [
    "import yaml\n",
    "from pprint import pprint"
   ]
  },
  {
   "cell_type": "markdown",
   "metadata": {},
   "source": [
    "9. Подготовить данные для записи в виде словаря, в котором первому ключу соответствует список, второму — целое число, третьему — вложенный словарь, где значение каждого ключа — это целое число с юникод-символом, отсутствующим в кодировке ASCII (например, €);"
   ]
  },
  {
   "cell_type": "code",
   "execution_count": 9,
   "metadata": {},
   "outputs": [],
   "source": [
    "data = {\n",
    "    'attr1': ['value1', 'value2', 'value3'], \n",
    "    'attr2': 123, \n",
    "    'attr3': {'attr4': '\\u20AC 100', 'attr5': '\\u20AC 200', 'attr6': '\\u20AC 300'}\n",
    "}"
   ]
  },
  {
   "cell_type": "markdown",
   "metadata": {},
   "source": [
    "10. Реализовать сохранение данных в файл формата YAML — например, в файл file.yaml. При этом обеспечить стилизацию файла с помощью параметра default_flow_style, а также установить возможность работы с юникодом: allow_unicode = True;"
   ]
  },
  {
   "cell_type": "code",
   "execution_count": 10,
   "metadata": {},
   "outputs": [],
   "source": [
    "with open('file.yaml', 'w') as file:\n",
    "    yaml.dump(data, file, default_flow_style = False, allow_unicode = True)"
   ]
  },
  {
   "cell_type": "markdown",
   "metadata": {},
   "source": [
    "11. Реализовать считывание данных из созданного файла и проверить, совпадают ли они с исходными."
   ]
  },
  {
   "cell_type": "code",
   "execution_count": 11,
   "metadata": {},
   "outputs": [
    {
     "name": "stdout",
     "output_type": "stream",
     "text": [
      "attr1:\n",
      "- value1\n",
      "- value2\n",
      "- value3\n",
      "attr2: 123\n",
      "attr3:\n",
      "  attr4: € 100\n",
      "  attr5: € 200\n",
      "  attr6: € 300\n",
      "\n",
      "{'attr1': ['value1', 'value2', 'value3'],\n",
      " 'attr2': 123,\n",
      " 'attr3': {'attr4': '€ 100', 'attr5': '€ 200', 'attr6': '€ 300'}}\n"
     ]
    }
   ],
   "source": [
    "with open('file.yaml') as file:\n",
    "    data_load = file.read()\n",
    "    print(data_load)\n",
    "pprint(data)"
   ]
  },
  {
   "cell_type": "markdown",
   "metadata": {},
   "source": [
    "### Необходимые и достаточные условия"
   ]
  },
  {
   "cell_type": "markdown",
   "metadata": {},
   "source": [
    "1. Реализовать скрипт для чтения/записи данных в формате csv;"
   ]
  },
  {
   "cell_type": "code",
   "execution_count": 12,
   "metadata": {},
   "outputs": [],
   "source": [
    "def file_csv(file, mode, data=[]):\n",
    "    with open(file, mode) as file:\n",
    "        if mode == 'r':\n",
    "            reader = csv.DictReader(file)\n",
    "            data=[]\n",
    "            for row in reader:\n",
    "                data.append(dict(row))\n",
    "        if mode == 'w':\n",
    "            writer = csv.DictWriter(file, fieldnames=data[0].keys(), lineterminator = '\\n')\n",
    "            writer.writeheader()\n",
    "            for row in data:\n",
    "                writer.writerow(row)\n",
    "    return data"
   ]
  },
  {
   "cell_type": "code",
   "execution_count": 13,
   "metadata": {},
   "outputs": [
    {
     "data": {
      "text/plain": [
       "[{'Изготовитель системы': 'LENOVO',\n",
       "  'Название ОС': 'Microsoft Windows 7 Профессиональная',\n",
       "  'Код продукта': '00971-OEM-1982661-00231',\n",
       "  'Тип системы': 'x64-based PC'},\n",
       " {'Изготовитель системы': 'ACER',\n",
       "  'Название ОС': 'Microsoft Windows 10 Professional',\n",
       "  'Код продукта': '00971-OEM-1982661-00231',\n",
       "  'Тип системы': 'x64-based PC'},\n",
       " {'Изготовитель системы': 'DELL',\n",
       "  'Название ОС': 'Microsoft Windows 8.1 Professional',\n",
       "  'Код продукта': '00971-OEM-1982661-00231',\n",
       "  'Тип системы': 'x86-based PC'}]"
      ]
     },
     "execution_count": 13,
     "metadata": {},
     "output_type": "execute_result"
    }
   ],
   "source": [
    "data = file_csv('main_data.csv', 'r')\n",
    "data"
   ]
  },
  {
   "cell_type": "code",
   "execution_count": 14,
   "metadata": {},
   "outputs": [
    {
     "data": {
      "text/plain": [
       "[{'Изготовитель системы': 'LENOVO',\n",
       "  'Название ОС': 'Microsoft Windows 7 Профессиональная',\n",
       "  'Код продукта': '00971-OEM-1982661-00231',\n",
       "  'Тип системы': 'x64-based PC'},\n",
       " {'Изготовитель системы': 'ACER',\n",
       "  'Название ОС': 'Microsoft Windows 10 Professional',\n",
       "  'Код продукта': '00971-OEM-1982661-00231',\n",
       "  'Тип системы': 'x64-based PC'},\n",
       " {'Изготовитель системы': 'DELL',\n",
       "  'Название ОС': 'Microsoft Windows 8.1 Professional',\n",
       "  'Код продукта': '00971-OEM-1982661-00231',\n",
       "  'Тип системы': 'x86-based PC'}]"
      ]
     },
     "execution_count": 14,
     "metadata": {},
     "output_type": "execute_result"
    }
   ],
   "source": [
    "file_csv('main_data_2.csv', 'w', data)"
   ]
  },
  {
   "cell_type": "markdown",
   "metadata": {},
   "source": [
    "2. Реализовать скрипт для чтения/записи данных в формате json;"
   ]
  },
  {
   "cell_type": "code",
   "execution_count": 15,
   "metadata": {},
   "outputs": [],
   "source": [
    "def file_json(file, mode, data=[]):\n",
    "    with open(file, mode) as file:\n",
    "        if mode == 'r':\n",
    "            data = json.load(file)\n",
    "        if mode == 'w':\n",
    "            json.dump(data, file, indent=4)\n",
    "    return data"
   ]
  },
  {
   "cell_type": "code",
   "execution_count": 16,
   "metadata": {},
   "outputs": [
    {
     "data": {
      "text/plain": [
       "{'orders': [{'item': 'iPhone SE',\n",
       "   'quantity': 10,\n",
       "   'price': 500,\n",
       "   'buyer': 'John Smith',\n",
       "   'date': '2019-08-01'},\n",
       "  {'item': 'iPhone 6s',\n",
       "   'quantity': 5,\n",
       "   'price': 750,\n",
       "   'buyer': 'Bill Gates',\n",
       "   'date': '2019-08-02'},\n",
       "  {'item': 'iPhone X',\n",
       "   'quantity': 2,\n",
       "   'price': 1000,\n",
       "   'buyer': 'Dick Dude',\n",
       "   'date': '2019-08-03'}]}"
      ]
     },
     "execution_count": 16,
     "metadata": {},
     "output_type": "execute_result"
    }
   ],
   "source": [
    "data = file_json('orders.json', 'r')\n",
    "data"
   ]
  },
  {
   "cell_type": "code",
   "execution_count": 17,
   "metadata": {},
   "outputs": [
    {
     "data": {
      "text/plain": [
       "{'orders': [{'item': 'iPhone SE',\n",
       "   'quantity': 10,\n",
       "   'price': 500,\n",
       "   'buyer': 'John Smith',\n",
       "   'date': '2019-08-01'},\n",
       "  {'item': 'iPhone 6s',\n",
       "   'quantity': 5,\n",
       "   'price': 750,\n",
       "   'buyer': 'Bill Gates',\n",
       "   'date': '2019-08-02'},\n",
       "  {'item': 'iPhone X',\n",
       "   'quantity': 2,\n",
       "   'price': 1000,\n",
       "   'buyer': 'Dick Dude',\n",
       "   'date': '2019-08-03'}]}"
      ]
     },
     "execution_count": 17,
     "metadata": {},
     "output_type": "execute_result"
    }
   ],
   "source": [
    "file_json('orders_2.json', 'w', data)"
   ]
  },
  {
   "cell_type": "markdown",
   "metadata": {},
   "source": [
    "3. Реализовать скрипт для чтения/записи данных в формате yaml;"
   ]
  },
  {
   "cell_type": "code",
   "execution_count": 18,
   "metadata": {},
   "outputs": [],
   "source": [
    "def file_yaml(file, mode, data=[]):\n",
    "    with open(file, mode) as file:\n",
    "        if mode == 'r':\n",
    "            data = yaml.load(file)\n",
    "        if mode == 'w':\n",
    "            yaml.dump(data, file, default_flow_style = False, allow_unicode = True)\n",
    "    return data"
   ]
  },
  {
   "cell_type": "code",
   "execution_count": 19,
   "metadata": {},
   "outputs": [
    {
     "data": {
      "text/plain": [
       "{'attr1': ['value1', 'value2', 'value3'],\n",
       " 'attr2': 123,\n",
       " 'attr3': {'attr4': '€ 100', 'attr5': '€ 200', 'attr6': '€ 300'}}"
      ]
     },
     "execution_count": 19,
     "metadata": {},
     "output_type": "execute_result"
    }
   ],
   "source": [
    "data = file_yaml('file.yaml', 'r')\n",
    "data"
   ]
  },
  {
   "cell_type": "code",
   "execution_count": 20,
   "metadata": {},
   "outputs": [
    {
     "data": {
      "text/plain": [
       "{'attr1': ['value1', 'value2', 'value3'],\n",
       " 'attr2': 123,\n",
       " 'attr3': {'attr4': '€ 100', 'attr5': '€ 200', 'attr6': '€ 300'}}"
      ]
     },
     "execution_count": 20,
     "metadata": {},
     "output_type": "execute_result"
    }
   ],
   "source": [
    "file_yaml('file_2.yaml', 'w', data)"
   ]
  },
  {
   "cell_type": "markdown",
   "metadata": {},
   "source": [
    "4. Реализовать скрипт для преобразования данных в формате csv в формат json;"
   ]
  },
  {
   "cell_type": "code",
   "execution_count": 21,
   "metadata": {},
   "outputs": [
    {
     "data": {
      "text/plain": [
       "[{'Изготовитель системы': 'LENOVO',\n",
       "  'Название ОС': 'Microsoft Windows 7 Профессиональная',\n",
       "  'Код продукта': '00971-OEM-1982661-00231',\n",
       "  'Тип системы': 'x64-based PC'},\n",
       " {'Изготовитель системы': 'ACER',\n",
       "  'Название ОС': 'Microsoft Windows 10 Professional',\n",
       "  'Код продукта': '00971-OEM-1982661-00231',\n",
       "  'Тип системы': 'x64-based PC'},\n",
       " {'Изготовитель системы': 'DELL',\n",
       "  'Название ОС': 'Microsoft Windows 8.1 Professional',\n",
       "  'Код продукта': '00971-OEM-1982661-00231',\n",
       "  'Тип системы': 'x86-based PC'}]"
      ]
     },
     "execution_count": 21,
     "metadata": {},
     "output_type": "execute_result"
    }
   ],
   "source": [
    "data = file_csv('main_data.csv', 'r')\n",
    "data"
   ]
  },
  {
   "cell_type": "code",
   "execution_count": 22,
   "metadata": {},
   "outputs": [
    {
     "data": {
      "text/plain": [
       "[{'Изготовитель системы': 'LENOVO',\n",
       "  'Название ОС': 'Microsoft Windows 7 Профессиональная',\n",
       "  'Код продукта': '00971-OEM-1982661-00231',\n",
       "  'Тип системы': 'x64-based PC'},\n",
       " {'Изготовитель системы': 'ACER',\n",
       "  'Название ОС': 'Microsoft Windows 10 Professional',\n",
       "  'Код продукта': '00971-OEM-1982661-00231',\n",
       "  'Тип системы': 'x64-based PC'},\n",
       " {'Изготовитель системы': 'DELL',\n",
       "  'Название ОС': 'Microsoft Windows 8.1 Professional',\n",
       "  'Код продукта': '00971-OEM-1982661-00231',\n",
       "  'Тип системы': 'x86-based PC'}]"
      ]
     },
     "execution_count": 22,
     "metadata": {},
     "output_type": "execute_result"
    }
   ],
   "source": [
    "file_json('main_data_3.json', 'w', data)"
   ]
  },
  {
   "cell_type": "code",
   "execution_count": 23,
   "metadata": {},
   "outputs": [
    {
     "data": {
      "text/plain": [
       "[{'Изготовитель системы': 'LENOVO',\n",
       "  'Название ОС': 'Microsoft Windows 7 Профессиональная',\n",
       "  'Код продукта': '00971-OEM-1982661-00231',\n",
       "  'Тип системы': 'x64-based PC'},\n",
       " {'Изготовитель системы': 'ACER',\n",
       "  'Название ОС': 'Microsoft Windows 10 Professional',\n",
       "  'Код продукта': '00971-OEM-1982661-00231',\n",
       "  'Тип системы': 'x64-based PC'},\n",
       " {'Изготовитель системы': 'DELL',\n",
       "  'Название ОС': 'Microsoft Windows 8.1 Professional',\n",
       "  'Код продукта': '00971-OEM-1982661-00231',\n",
       "  'Тип системы': 'x86-based PC'}]"
      ]
     },
     "execution_count": 23,
     "metadata": {},
     "output_type": "execute_result"
    }
   ],
   "source": [
    "data = file_json('main_data_3.json', 'r')\n",
    "data"
   ]
  },
  {
   "cell_type": "markdown",
   "metadata": {},
   "source": [
    "5. Реализовать скрипт для преобразования данных в формате csv в формат yaml;"
   ]
  },
  {
   "cell_type": "code",
   "execution_count": 24,
   "metadata": {},
   "outputs": [
    {
     "data": {
      "text/plain": [
       "[{'Изготовитель системы': 'LENOVO',\n",
       "  'Название ОС': 'Microsoft Windows 7 Профессиональная',\n",
       "  'Код продукта': '00971-OEM-1982661-00231',\n",
       "  'Тип системы': 'x64-based PC'},\n",
       " {'Изготовитель системы': 'ACER',\n",
       "  'Название ОС': 'Microsoft Windows 10 Professional',\n",
       "  'Код продукта': '00971-OEM-1982661-00231',\n",
       "  'Тип системы': 'x64-based PC'},\n",
       " {'Изготовитель системы': 'DELL',\n",
       "  'Название ОС': 'Microsoft Windows 8.1 Professional',\n",
       "  'Код продукта': '00971-OEM-1982661-00231',\n",
       "  'Тип системы': 'x86-based PC'}]"
      ]
     },
     "execution_count": 24,
     "metadata": {},
     "output_type": "execute_result"
    }
   ],
   "source": [
    "data = file_csv('main_data.csv', 'r')\n",
    "data"
   ]
  },
  {
   "cell_type": "code",
   "execution_count": 25,
   "metadata": {},
   "outputs": [
    {
     "data": {
      "text/plain": [
       "[{'Изготовитель системы': 'LENOVO',\n",
       "  'Название ОС': 'Microsoft Windows 7 Профессиональная',\n",
       "  'Код продукта': '00971-OEM-1982661-00231',\n",
       "  'Тип системы': 'x64-based PC'},\n",
       " {'Изготовитель системы': 'ACER',\n",
       "  'Название ОС': 'Microsoft Windows 10 Professional',\n",
       "  'Код продукта': '00971-OEM-1982661-00231',\n",
       "  'Тип системы': 'x64-based PC'},\n",
       " {'Изготовитель системы': 'DELL',\n",
       "  'Название ОС': 'Microsoft Windows 8.1 Professional',\n",
       "  'Код продукта': '00971-OEM-1982661-00231',\n",
       "  'Тип системы': 'x86-based PC'}]"
      ]
     },
     "execution_count": 25,
     "metadata": {},
     "output_type": "execute_result"
    }
   ],
   "source": [
    "file_yaml('main_data_4.yaml', 'w', data)"
   ]
  },
  {
   "cell_type": "code",
   "execution_count": 26,
   "metadata": {},
   "outputs": [
    {
     "data": {
      "text/plain": [
       "[{'Изготовитель системы': 'LENOVO',\n",
       "  'Код продукта': '00971-OEM-1982661-00231',\n",
       "  'Название ОС': 'Microsoft Windows 7 Профессиональная',\n",
       "  'Тип системы': 'x64-based PC'},\n",
       " {'Изготовитель системы': 'ACER',\n",
       "  'Код продукта': '00971-OEM-1982661-00231',\n",
       "  'Название ОС': 'Microsoft Windows 10 Professional',\n",
       "  'Тип системы': 'x64-based PC'},\n",
       " {'Изготовитель системы': 'DELL',\n",
       "  'Код продукта': '00971-OEM-1982661-00231',\n",
       "  'Название ОС': 'Microsoft Windows 8.1 Professional',\n",
       "  'Тип системы': 'x86-based PC'}]"
      ]
     },
     "execution_count": 26,
     "metadata": {},
     "output_type": "execute_result"
    }
   ],
   "source": [
    "data = file_yaml('main_data_4.yaml', 'r')\n",
    "data"
   ]
  },
  {
   "cell_type": "markdown",
   "metadata": {},
   "source": [
    "6. Реализовать скрипт для преобразования данных в формате json в формат yaml."
   ]
  },
  {
   "cell_type": "code",
   "execution_count": 27,
   "metadata": {},
   "outputs": [
    {
     "data": {
      "text/plain": [
       "{'orders': [{'item': 'iPhone SE',\n",
       "   'quantity': 10,\n",
       "   'price': 500,\n",
       "   'buyer': 'John Smith',\n",
       "   'date': '2019-08-01'},\n",
       "  {'item': 'iPhone 6s',\n",
       "   'quantity': 5,\n",
       "   'price': 750,\n",
       "   'buyer': 'Bill Gates',\n",
       "   'date': '2019-08-02'},\n",
       "  {'item': 'iPhone X',\n",
       "   'quantity': 2,\n",
       "   'price': 1000,\n",
       "   'buyer': 'Dick Dude',\n",
       "   'date': '2019-08-03'}]}"
      ]
     },
     "execution_count": 27,
     "metadata": {},
     "output_type": "execute_result"
    }
   ],
   "source": [
    "data = file_json('orders.json', 'r')\n",
    "data"
   ]
  },
  {
   "cell_type": "code",
   "execution_count": 28,
   "metadata": {},
   "outputs": [
    {
     "data": {
      "text/plain": [
       "{'orders': [{'item': 'iPhone SE',\n",
       "   'quantity': 10,\n",
       "   'price': 500,\n",
       "   'buyer': 'John Smith',\n",
       "   'date': '2019-08-01'},\n",
       "  {'item': 'iPhone 6s',\n",
       "   'quantity': 5,\n",
       "   'price': 750,\n",
       "   'buyer': 'Bill Gates',\n",
       "   'date': '2019-08-02'},\n",
       "  {'item': 'iPhone X',\n",
       "   'quantity': 2,\n",
       "   'price': 1000,\n",
       "   'buyer': 'Dick Dude',\n",
       "   'date': '2019-08-03'}]}"
      ]
     },
     "execution_count": 28,
     "metadata": {},
     "output_type": "execute_result"
    }
   ],
   "source": [
    "file_yaml('orders_3.yaml', 'w', data)"
   ]
  },
  {
   "cell_type": "code",
   "execution_count": 29,
   "metadata": {},
   "outputs": [
    {
     "data": {
      "text/plain": [
       "{'orders': [{'buyer': 'John Smith',\n",
       "   'date': '2019-08-01',\n",
       "   'item': 'iPhone SE',\n",
       "   'price': 500,\n",
       "   'quantity': 10},\n",
       "  {'buyer': 'Bill Gates',\n",
       "   'date': '2019-08-02',\n",
       "   'item': 'iPhone 6s',\n",
       "   'price': 750,\n",
       "   'quantity': 5},\n",
       "  {'buyer': 'Dick Dude',\n",
       "   'date': '2019-08-03',\n",
       "   'item': 'iPhone X',\n",
       "   'price': 1000,\n",
       "   'quantity': 2}]}"
      ]
     },
     "execution_count": 29,
     "metadata": {},
     "output_type": "execute_result"
    }
   ],
   "source": [
    "data = file_yaml('orders_3.yaml', 'r')\n",
    "data"
   ]
  },
  {
   "cell_type": "code",
   "execution_count": null,
   "metadata": {},
   "outputs": [],
   "source": []
  }
 ],
 "metadata": {
  "kernelspec": {
   "display_name": "Python 3",
   "language": "python",
   "name": "python3"
  },
  "language_info": {
   "codemirror_mode": {
    "name": "ipython",
    "version": 3
   },
   "file_extension": ".py",
   "mimetype": "text/x-python",
   "name": "python",
   "nbconvert_exporter": "python",
   "pygments_lexer": "ipython3",
   "version": "3.7.1"
  }
 },
 "nbformat": 4,
 "nbformat_minor": 2
}
