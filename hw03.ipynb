{
 "cells": [
  {
   "cell_type": "markdown",
   "metadata": {},
   "source": [
    "## Урок 3. Линейные преобразования"
   ]
  },
  {
   "cell_type": "markdown",
   "metadata": {},
   "source": [
    "### Линейные преобразования"
   ]
  },
  {
   "cell_type": "markdown",
   "metadata": {},
   "source": [
    "__1.__ Найти собственные векторы и собственные значения для линейного оператора, заданного матрицей\n",
    "\n",
    "$$A=\\begin{pmatrix}\n",
    "-1 & -6\\\\ \n",
    "2 & 6\n",
    "\\end{pmatrix}.$$"
   ]
  },
  {
   "cell_type": "markdown",
   "metadata": {},
   "source": [
    "\n",
    "__Решение__\n",
    "\n",
    "$$\\begin{vmatrix}\n",
    "-1-\\lambda & -6\\\\ \n",
    "2 & 6-\\lambda\n",
    "\\end{vmatrix} = 0,$$\n",
    "\n",
    "$$(-1-\\lambda)(6-\\lambda)-2\\cdot(-6)=0,$$\n",
    "\n",
    "$$\\lambda^{2}-5\\lambda+6=0,$$\n",
    "\n",
    "Собственные значения: $$\\lambda_{1}=2, \\lambda_{2}=3.$$\n",
    "\n",
    "$\\textbf{A}x=\\lambda x$:\n",
    "\n",
    "$$\\begin{pmatrix}\n",
    "-1 & -6\\\\ \n",
    "2 & 6\n",
    "\\end{pmatrix}\n",
    "\\begin{pmatrix}\n",
    "x_{1}\\\\ \n",
    "x_{2}\n",
    "\\end{pmatrix}=\n",
    "\\lambda\n",
    "\\begin{pmatrix}\n",
    "x_{1}\\\\ \n",
    "x_{2}\n",
    "\\end{pmatrix}.\n",
    "$$"
   ]
  },
  {
   "cell_type": "markdown",
   "metadata": {},
   "source": [
    "Для собственного значения $\\lambda_{1}=2:$\n",
    "\n",
    "$$\\begin{cases}\n",
    "-1 \\cdot x_{1}-6 \\cdot x_{2}=2 \\cdot x_{1}, \\\\\n",
    "2 \\cdot x_{1}+6 \\cdot x_{2}=2 \\cdot x_{2}.\n",
    "\\end{cases}$$ \n",
    "\n",
    "$$\\begin{cases}\n",
    "-1 \\cdot x_{1}-6 \\cdot x_{2}-2 \\cdot x_{1}=0, \\\\\n",
    "2 \\cdot x_{1}+6 \\cdot x_{2}-2 \\cdot x_{2}=0.\n",
    "\\end{cases}$$ \n",
    "\n",
    "$$\\begin{cases}\n",
    "-3 \\cdot x_{1}-6 \\cdot x_{2}=0, \\\\\n",
    "2 \\cdot x_{1}+4 \\cdot x_{2}=0.\n",
    "\\end{cases}$$ \n",
    "\n",
    "$$\\begin{cases}\n",
    "1 \\cdot x_{1}+2 \\cdot x_{2}=0, \\\\\n",
    "1 \\cdot x_{1}+2 \\cdot x_{2}=0.\n",
    "\\end{cases}$$ \n",
    "\n",
    "$$\\begin{cases}\n",
    "x_{1}= -2 \\cdot x_{2}, \\\\\n",
    "x_{2} = -0.5 \\cdot x_{1}.\n",
    "\\end{cases}$$\n",
    "\n",
    "Собственный вектор 1 - это любой вектор с координатой $x_{1}$ в -2 раза большей чем координата $x_{2}.$ Например, вектор с координатами $x_{1}=-2$, $x_{2}=1.$"
   ]
  },
  {
   "cell_type": "markdown",
   "metadata": {},
   "source": [
    "Для собственного значения $\\lambda_{2}=3:$\n",
    "\n",
    "$$\\begin{cases}\n",
    "-1 \\cdot x_{1}-6 \\cdot x_{2}=3 \\cdot x_{1}, \\\\\n",
    "2 \\cdot x_{1}+6 \\cdot x_{2}=3 \\cdot x_{2}.\n",
    "\\end{cases}$$ \n",
    "\n",
    "$$\\begin{cases}\n",
    "-1 \\cdot x_{1}-6 \\cdot x_{2}-3 \\cdot x_{1}=0, \\\\\n",
    "2 \\cdot x_{1}+6 \\cdot x_{2}-3 \\cdot x_{2}=0.\n",
    "\\end{cases}$$ \n",
    "\n",
    "$$\\begin{cases}\n",
    "-4 \\cdot x_{1}-6 \\cdot x_{2}=0, \\\\\n",
    "2 \\cdot x_{1}+3 \\cdot x_{2}=0.\n",
    "\\end{cases}$$ \n",
    "\n",
    "$$\\begin{cases}\n",
    "1 \\cdot x_{1}+1.5 \\cdot x_{2}=0, \\\\\n",
    "1 \\cdot x_{1}+1.5 \\cdot x_{2}=0.\n",
    "\\end{cases}$$ \n",
    "\n",
    "$$\\begin{cases}\n",
    "x_{1}= -1.5 \\cdot x_{2}, \\\\\n",
    "x_{2} = -\\frac{2}{3} \\cdot x_{1}.\n",
    "\\end{cases}$$\n",
    "\n",
    "Собственный вектор 2 - это любой вектор с координатой $x_{1}$ в -1.5 раза большей чем координата $x_{2}.$ Например, вектор с координатами $x_{1}=3$, $x_{2}=-2.$"
   ]
  },
  {
   "cell_type": "code",
   "execution_count": 6,
   "metadata": {},
   "outputs": [],
   "source": [
    "import numpy as np\n",
    "np.set_printoptions(precision=2, suppress=True)"
   ]
  },
  {
   "cell_type": "code",
   "execution_count": 7,
   "metadata": {},
   "outputs": [
    {
     "name": "stdout",
     "output_type": "stream",
     "text": [
      "Матрица A:\n",
      "[[-1 -6]\n",
      " [ 2  6]]\n",
      "Собственные значения:\n",
      "[2. 3.]\n",
      "Собственные векторы:\n",
      "[[-0.89  0.83]\n",
      " [ 0.45 -0.55]]\n"
     ]
    }
   ],
   "source": [
    "a = np.array([[-1, -6],\n",
    "              [2, 6]])\n",
    "w, v = np.linalg.eig(a)\n",
    "\n",
    "print(f'Матрица A:\\n{a}')\n",
    "print(f'Собственные значения:\\n{w}')\n",
    "print(f'Собственные векторы:\\n{v}')"
   ]
  },
  {
   "cell_type": "markdown",
   "metadata": {},
   "source": [
    "__2.__ Дан оператор поворота на 180 градусов, задаваемый матрицей \n",
    "\n",
    "$$A=\\begin{pmatrix}\n",
    "-1 & 0\\\\ \n",
    "0 & -1\n",
    "\\end{pmatrix}.$$\n",
    "\n",
    "Показать, что __любой__ вектор является для него собственным."
   ]
  },
  {
   "cell_type": "markdown",
   "metadata": {},
   "source": [
    "\n",
    "__Решение__\n",
    "\n",
    "$$\\begin{vmatrix}\n",
    "-1-\\lambda & 0\\\\ \n",
    "0 & -1-\\lambda\n",
    "\\end{vmatrix} = 0,$$\n",
    "\n",
    "$$(-1-\\lambda)(-1-\\lambda)-0\\cdot0=0,$$\n",
    "\n",
    "$$(-1-\\lambda)^{2}=0,$$\n",
    "\n",
    "Собственные значения: $$\\lambda=-1.$$\n",
    "\n",
    "$\\textbf{A}x=\\lambda x$:\n",
    "\n",
    "$$\\begin{pmatrix}\n",
    "-1 & 0\\\\ \n",
    "0 & -1\n",
    "\\end{pmatrix}\n",
    "\\begin{pmatrix}\n",
    "x_{1}\\\\ \n",
    "x_{2}\n",
    "\\end{pmatrix}=\n",
    "\\lambda\n",
    "\\begin{pmatrix}\n",
    "x_{1}\\\\ \n",
    "x_{2}\n",
    "\\end{pmatrix}.\n",
    "$$\n",
    "\n",
    "Для собственного значения $\\lambda=-1:$\n",
    "\n",
    "$$\\begin{cases}\n",
    "-x_{1}+0 \\cdot x_{2}= -x_{1}, \\\\\n",
    "0 \\cdot x_{1}-x_{2}= -x_{2}.\n",
    "\\end{cases}$$ \n",
    "\n",
    "$$\\begin{cases}\n",
    "- x_{1} + x_{1} = 0, \\\\\n",
    "- x_{2} + x_{2} = 0;\n",
    "\\end{cases}$$ \n",
    "\n",
    "$$\\begin{cases}\n",
    "0 = 0, \\\\\n",
    "0 = 0.\n",
    "\\end{cases}$$\n",
    "\n",
    "Собственный вектор - это любой вектор с любыми координатами $x_{1}$ и $x_{2}.$"
   ]
  },
  {
   "cell_type": "markdown",
   "metadata": {},
   "source": [
    "__3.__ Пусть линейный оператор задан матрицей\n",
    "\n",
    "$$A=\\begin{pmatrix}\n",
    "1 & 1\\\\ \n",
    "-1 & 3\n",
    "\\end{pmatrix}.$$\n",
    "\n",
    "Установить, является ли вектор $x=(1,1)$ собственным вектором этого линейного оператора."
   ]
  },
  {
   "cell_type": "markdown",
   "metadata": {},
   "source": [
    "\n",
    "__Решение__\n",
    "\n",
    "Предположим, что вектор $x$ является собственным вектором заданного линейного оператора, тогда должно существовать некоторое вещественное число $\\lambda$, при котором \n",
    "\n",
    "$$\\begin{pmatrix}\n",
    "1 & 1\\\\ \n",
    "-1 & 3\n",
    "\\end{pmatrix}\n",
    "\\begin{pmatrix}\n",
    "1\\\\ \n",
    "-2 \n",
    "\\end{pmatrix}=\n",
    "\\lambda\n",
    "\\begin{pmatrix}\n",
    "1\\\\ \n",
    "-2\n",
    "\\end{pmatrix}.\n",
    "$$\n",
    "\n",
    "Из этого будет следовать, что \n",
    "\n",
    "$$\\begin{cases}\n",
    "1-2=1\\cdot\\lambda \\\\ \n",
    "-1-7 = -2\\cdot \\lambda\n",
    "\\end{cases}\n",
    "\\Rightarrow\n",
    "\\begin{cases}\n",
    "\\lambda=-1\\\\ \n",
    "\\lambda=3,5\n",
    "\\end{cases}.$$\n",
    "\n",
    "Такая система не имеет смысла, следовательно, вектор $x=(1,-2)$ не является собственным вектором линейного оператора, заданного матрицей $A$."
   ]
  },
  {
   "cell_type": "markdown",
   "metadata": {},
   "source": [
    "__4.__ Пусть линейный оператор задан матрицей\n",
    "\n",
    "$$A=\\begin{pmatrix}\n",
    "0 & 3 & 0\\\\ \n",
    "3 & 0 & 0\\\\\n",
    "0 & 0 & 3\n",
    "\\end{pmatrix}.$$\n",
    "\n",
    "Установить, является ли вектор $x=(3, -3, -4)$ собственным вектором этого линейного оператора."
   ]
  },
  {
   "cell_type": "code",
   "execution_count": null,
   "metadata": {},
   "outputs": [],
   "source": []
  }
 ],
 "metadata": {
  "kernelspec": {
   "display_name": "Python 3",
   "language": "python",
   "name": "python3"
  },
  "language_info": {
   "codemirror_mode": {
    "name": "ipython",
    "version": 3
   },
   "file_extension": ".py",
   "mimetype": "text/x-python",
   "name": "python",
   "nbconvert_exporter": "python",
   "pygments_lexer": "ipython3",
   "version": "3.7.1"
  }
 },
 "nbformat": 4,
 "nbformat_minor": 2
}
