{
 "cells": [
  {
   "cell_type": "markdown",
   "metadata": {},
   "source": [
    "## ДЗ к Уроку 3.\n",
    "### Описательная статистика. Качественные и количественные характеристики популяции. Графическое представление данных"
   ]
  },
  {
   "cell_type": "markdown",
   "metadata": {},
   "source": [
    "### 1. Задание:"
   ]
  },
  {
   "cell_type": "markdown",
   "metadata": {},
   "source": [
    "_Даны значения зарплат из выборки выпускников: 100, 80, 75, 77, 89, 33, 45, 25, 65, 17, 30, 24, 57, 55, 70, 75, 65, 84, 90, 150. Посчитать (желательно без использования статистических методов наподобие std, var, mean) среднее арифметическое, среднее квадратичное отклонение, смещенную и несмещенную оценки дисперсий для данной выборки._"
   ]
  },
  {
   "cell_type": "code",
   "execution_count": 1,
   "metadata": {},
   "outputs": [
    {
     "data": {
      "text/plain": [
       "(65.3, 950.11, 1000.1157894736842, 30.823854398825596, 31.624607341019814)"
      ]
     },
     "execution_count": 1,
     "metadata": {},
     "output_type": "execute_result"
    }
   ],
   "source": [
    "import numpy as np\n",
    "\n",
    "X = np.array([100, 80, 75, 77, 89, 33, 45, 25, 65, 17, 30, 24, 57, 55, 70, 75, 65, 84, 90, 150])\n",
    "\n",
    "summa = 0\n",
    "for i in range(len(X)):\n",
    "    summa += X[i]\n",
    "mean = summa / len(X)\n",
    "\n",
    "sum_sqr = 0\n",
    "for i in range(len(X)):\n",
    "    sum_sqr += (X[i] - mean) ** 2\n",
    "var = sum_sqr / len(X)\n",
    "var_delta = sum_sqr / (len(X) - 1)\n",
    "std = np.sqrt(var)\n",
    "std_delta = np.sqrt(var_delta)\n",
    "mean, var, var_delta, std, std_delta"
   ]
  },
  {
   "cell_type": "code",
   "execution_count": 2,
   "metadata": {},
   "outputs": [
    {
     "data": {
      "text/plain": [
       "(65.3, 950.11, 1000.1157894736842, 30.823854398825596, 31.624607341019814)"
      ]
     },
     "execution_count": 2,
     "metadata": {},
     "output_type": "execute_result"
    }
   ],
   "source": [
    "X.mean(), X.var(), X.var(ddof = 1),  X.std(), X.std(ddof = 1)"
   ]
  },
  {
   "cell_type": "markdown",
   "metadata": {},
   "source": [
    "### 2. Задание:"
   ]
  },
  {
   "cell_type": "markdown",
   "metadata": {},
   "source": [
    "_В первом ящике находится 8 мячей, из которых 5 - белые. Во втором ящике - 12 мячей, из которых 5 белых. Из первого ящика вытаскивают случайным образом два мяча, из второго - 4. Какова вероятность того, что 3 мяча белые?_"
   ]
  },
  {
   "cell_type": "code",
   "execution_count": 3,
   "metadata": {},
   "outputs": [],
   "source": [
    "from math import factorial, exp"
   ]
  },
  {
   "cell_type": "code",
   "execution_count": 4,
   "metadata": {},
   "outputs": [],
   "source": [
    "def comb(n, k):\n",
    "    return int(factorial(n) / (factorial(k) * factorial(n - k)))"
   ]
  },
  {
   "cell_type": "code",
   "execution_count": 5,
   "metadata": {},
   "outputs": [
    {
     "name": "stdout",
     "output_type": "stream",
     "text": [
      "0.36868686868686873\n"
     ]
    }
   ],
   "source": [
    "n1 = 8\n",
    "k1 = 5\n",
    "n2 = 12\n",
    "k2 = 5\n",
    "\n",
    "P_1 = (comb(k1, 0) * comb(n1 - k1, 2)) / comb(n1, 2) * (comb(k2, 3) * comb(n2 - k2, 1)) / comb(n2, 4)\n",
    "P_2 = (comb(k1, 1) * comb(n1 - k1, 1)) / comb(n1, 2) * (comb(k2, 2) * comb(n2 - k2, 2)) / comb(n2, 4)\n",
    "P_3 = (comb(k1, 2) * comb(n1 - k1, 0)) / comb(n1, 2) * (comb(k2, 1) * comb(n2 - k2, 3)) / comb(n2, 4)\n",
    "P = P_1 + P_2 + P_3\n",
    "print(P)"
   ]
  },
  {
   "cell_type": "markdown",
   "metadata": {},
   "source": [
    "### 3. Задание:"
   ]
  },
  {
   "cell_type": "markdown",
   "metadata": {},
   "source": [
    "_На соревновании по биатлону один из трех спортсменов стреляет и попадает в мишень. Вероятность попадания для первого спортсмена равна 0.9, для второго — 0.8, для третьего — 0.6. Найти вероятность того, что выстрел произведен: a). первым спортсменом б). вторым спортсменом в). третьим спортсменом._"
   ]
  },
  {
   "cell_type": "code",
   "execution_count": 6,
   "metadata": {},
   "outputs": [
    {
     "data": {
      "text/plain": [
       "(0.391304347826087, 0.3478260869565218, 0.2608695652173913)"
      ]
     },
     "execution_count": 6,
     "metadata": {},
     "output_type": "execute_result"
    }
   ],
   "source": [
    "P = 1/3 * 0.9 + 1/3 * 0.8 + 1/3 * 0.6\n",
    "P_1 = (1/3 * 0.9) / P\n",
    "P_2 = (1/3 * 0.8) / P\n",
    "P_3 = (1/3 * 0.6) / P\n",
    "P_1, P_2, P_3"
   ]
  },
  {
   "cell_type": "markdown",
   "metadata": {},
   "source": [
    "### 4. Задание:"
   ]
  },
  {
   "cell_type": "markdown",
   "metadata": {},
   "source": [
    "_В университет на факультеты A и B поступило равное количество студентов, а на факультет C студентов поступило столько же, сколько на A и B вместе. Вероятность того, что студент факультета A сдаст первую сессию, равна 0.8. Для студента факультета B эта вероятность равна 0.7, а для студента факультета C - 0.9. Студент сдал первую сессию. Какова вероятность, что он учится: a). на факультете A б). на факультете B в). на факультете C?_"
   ]
  },
  {
   "cell_type": "code",
   "execution_count": 7,
   "metadata": {},
   "outputs": [
    {
     "data": {
      "text/plain": [
       "(0.24242424242424246, 0.21212121212121213, 0.5454545454545455)"
      ]
     },
     "execution_count": 7,
     "metadata": {},
     "output_type": "execute_result"
    }
   ],
   "source": [
    "P_A = 1/4\n",
    "P_B = 1/4\n",
    "P_C = 1/2\n",
    "P = P_A * 0.8 + P_B * 0.7 + P_C * 0.9\n",
    "P\n",
    "P_1 = P_A * 0.8 / P\n",
    "P_2 = P_B * 0.7 / P\n",
    "P_3 = P_C * 0.9 / P\n",
    "P_1, P_2, P_3"
   ]
  },
  {
   "cell_type": "markdown",
   "metadata": {},
   "source": [
    "### 5. Задание:"
   ]
  },
  {
   "cell_type": "markdown",
   "metadata": {},
   "source": [
    "_Устройство состоит из трех деталей. Для первой детали вероятность выйти из строя в первый месяц равна 0.1, для второй - 0.2, для третьей - 0.25. Какова вероятность того, что в первый месяц выйдут из строя: а). все детали б). только две детали в). хотя бы одна деталь г). от одной до двух деталей?_"
   ]
  },
  {
   "cell_type": "code",
   "execution_count": 8,
   "metadata": {},
   "outputs": [
    {
     "data": {
      "text/plain": [
       "(0.005000000000000001, 0.08, 0.45999999999999996, 0.45499999999999996)"
      ]
     },
     "execution_count": 8,
     "metadata": {},
     "output_type": "execute_result"
    }
   ],
   "source": [
    "Q_1 = 0.1\n",
    "Q_2 = 0.2\n",
    "Q_3 = 0.25\n",
    "P_1 = Q_1 * Q_2 * Q_3\n",
    "P_2 = (1 - Q_1) * Q_2 * Q_3 + Q_1 * (1 - Q_2) * Q_3 + Q_1 * Q_2 * (1 - Q_3)\n",
    "P_3 = 1 - (1 - Q_1) * (1 - Q_2) * (1 - Q_3)\n",
    "P_4 = 1 - (1 - Q_1) * (1 - Q_2) * (1 - Q_3) - Q_1 * Q_2 * Q_3\n",
    "P_1, P_2, P_3, P_4"
   ]
  },
  {
   "cell_type": "code",
   "execution_count": null,
   "metadata": {},
   "outputs": [],
   "source": []
  }
 ],
 "metadata": {
  "kernelspec": {
   "display_name": "Python 3",
   "language": "python",
   "name": "python3"
  },
  "language_info": {
   "codemirror_mode": {
    "name": "ipython",
    "version": 3
   },
   "file_extension": ".py",
   "mimetype": "text/x-python",
   "name": "python",
   "nbconvert_exporter": "python",
   "pygments_lexer": "ipython3",
   "version": "3.7.1"
  }
 },
 "nbformat": 4,
 "nbformat_minor": 2
}
