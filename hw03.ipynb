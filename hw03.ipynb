{
 "cells": [
  {
   "cell_type": "markdown",
   "metadata": {},
   "source": [
    "## Урок 3. Вебинар “Множество. Последовательность”"
   ]
  },
  {
   "cell_type": "markdown",
   "metadata": {},
   "source": [
    "## Домашняя работа\n",
    "### Математическая логика. Последовательность."
   ]
  },
  {
   "cell_type": "markdown",
   "metadata": {},
   "source": [
    "#### Математическая логика"
   ]
  },
  {
   "cell_type": "markdown",
   "metadata": {},
   "source": [
    "Проверить любым способ, является ли данная логическая формула тавтологией:"
   ]
  },
  {
   "cell_type": "markdown",
   "metadata": {},
   "source": [
    "1. $(A \\cup B) \\rightarrow(B \\cup \\overline{A})$"
   ]
  },
  {
   "cell_type": "code",
   "execution_count": null,
   "metadata": {},
   "outputs": [],
   "source": [
    "\"\"\"\n",
    "С помощью таблицы истинности получаем:\n",
    "    A    B    (A ∪ B)    not(A)    (B ∪ not(A))    (A ∪ B) → (B ∪ not(A))\n",
    "    0    0       0         1            1                   1\n",
    "    0    1       1         1            1                   1\n",
    "    1    0       1         0            0                   0\n",
    "    1    1       1         0            1                   1\n",
    "Таким образом формула не является тавтологией, так как не всегда принимает значение \"истина\" и имеет один из случаев когда она равна \"ложь\".\n",
    "\"\"\""
   ]
  },
  {
   "cell_type": "markdown",
   "metadata": {},
   "source": [
    "2. $A \\rightarrow(A \\cup(\\overline{B} \\cap A))$"
   ]
  },
  {
   "cell_type": "code",
   "execution_count": null,
   "metadata": {},
   "outputs": [],
   "source": [
    "\"\"\"\n",
    "По закону поглащения для дизъюнкции в правой части формулы после упрощения получим A, то есть полученная формула:\n",
    "𝐴 → 𝐴\n",
    "Таким образом формула является тавтологией, так как формула будет всегда принимать \"истина\" при A = \"Л\" и при A = \"И\".\n",
    "\"\"\""
   ]
  },
  {
   "cell_type": "markdown",
   "metadata": {},
   "source": [
    "Сформулируйте словесно высказывания (А: сегодня светит солнце; В: сегодня сыро; С: я поеду на дачу.):"
   ]
  },
  {
   "cell_type": "markdown",
   "metadata": {},
   "source": [
    "3. $(\\overline{A} \\cup B) \\rightarrow \\overline{C}$"
   ]
  },
  {
   "cell_type": "code",
   "execution_count": null,
   "metadata": {},
   "outputs": [],
   "source": [
    "# Сегодня НЕ светит солнце и сегодня сыро, поэтому я НЕ поеду на дачу."
   ]
  },
  {
   "cell_type": "markdown",
   "metadata": {},
   "source": [
    "4. $C \\rightarrow(A \\cup \\overline{B})$"
   ]
  },
  {
   "cell_type": "code",
   "execution_count": null,
   "metadata": {},
   "outputs": [],
   "source": [
    "# Если я поеду на дачу, значит сегодня светит солнце и сегодня НЕ сыро."
   ]
  },
  {
   "cell_type": "markdown",
   "metadata": {},
   "source": [
    "Пользуясь правилом построения противоположного высказывания, записать утверждения, противоположные следующим:"
   ]
  },
  {
   "cell_type": "markdown",
   "metadata": {},
   "source": [
    "5. На любом курсе каждого факультета есть студенты, сдающие все экзамены на «отлично»."
   ]
  },
  {
   "cell_type": "code",
   "execution_count": null,
   "metadata": {},
   "outputs": [],
   "source": [
    "# Есть курс и есть факультет, где все студенты не сдают все экзамены на \"отлично\"."
   ]
  },
  {
   "cell_type": "markdown",
   "metadata": {},
   "source": [
    "6. Каждый студент философского факультета имеет друга, который умеет решать все логические задачи."
   ]
  },
  {
   "cell_type": "code",
   "execution_count": null,
   "metadata": {},
   "outputs": [],
   "source": [
    "# Есть студент не с философского факультета, который не имеет друга, не умеющего решать хотя бы одну логическую задачу."
   ]
  },
  {
   "cell_type": "markdown",
   "metadata": {},
   "source": [
    "7. В любом самолете на рейсе Вашингтон-Москва присутствует хотя бы один сотрудник силовых органов, в каждой пуговице одежды которого вмонтирован микрофон."
   ]
  },
  {
   "cell_type": "code",
   "execution_count": null,
   "metadata": {},
   "outputs": [],
   "source": [
    "# Есть самолет не на рейсе Вашингтон-Москва, где не присутствует любой сотрудник силовых органов, хотя бы в одной пуговице которого не вмонтирован микрофон."
   ]
  },
  {
   "cell_type": "markdown",
   "metadata": {},
   "source": [
    "#### Множества. Предел последовательности"
   ]
  },
  {
   "cell_type": "markdown",
   "metadata": {},
   "source": [
    "Представьте в виде несократимой рациональной дроби:"
   ]
  },
  {
   "cell_type": "markdown",
   "metadata": {},
   "source": [
    "8. 0.(216)"
   ]
  },
  {
   "cell_type": "code",
   "execution_count": 18,
   "metadata": {},
   "outputs": [
    {
     "data": {
      "text/plain": [
       "0.21621621621621623"
      ]
     },
     "execution_count": 18,
     "metadata": {},
     "output_type": "execute_result"
    }
   ],
   "source": [
    "\"\"\"\n",
    "a = 0.(216)\n",
    "1000*a = 1000 * 0.(216) = 216.(216) = 216 + 0.(216) = 216 + a\n",
    "1000*a - a = 216\n",
    "999*a = 216\n",
    "a = 216/999\n",
    "a = 8/37 # сокращение на 27\n",
    "\"\"\"\n",
    "a = 8 / 37\n",
    "a"
   ]
  },
  {
   "cell_type": "markdown",
   "metadata": {},
   "source": [
    "9. 1.0(01)"
   ]
  },
  {
   "cell_type": "code",
   "execution_count": null,
   "metadata": {},
   "outputs": [],
   "source": []
  },
  {
   "cell_type": "code",
   "execution_count": null,
   "metadata": {},
   "outputs": [],
   "source": []
  },
  {
   "cell_type": "markdown",
   "metadata": {},
   "source": [
    "10. Представьте 1 в виде суммы трех рациональных дробей с разными знаменателями и числителем равным 1."
   ]
  },
  {
   "cell_type": "code",
   "execution_count": 14,
   "metadata": {},
   "outputs": [
    {
     "data": {
      "text/plain": [
       "0.9999999999999999"
      ]
     },
     "execution_count": 14,
     "metadata": {},
     "output_type": "execute_result"
    }
   ],
   "source": [
    "a = 1/2 + 1/3 + 1/6\n",
    "a"
   ]
  },
  {
   "cell_type": "markdown",
   "metadata": {},
   "source": [
    "11*. Тоже задание, только в виде суммы шести дробей."
   ]
  },
  {
   "cell_type": "code",
   "execution_count": null,
   "metadata": {},
   "outputs": [],
   "source": []
  },
  {
   "cell_type": "markdown",
   "metadata": {},
   "source": [
    "12. Найдите значение предела:\n",
    "$$\n",
    "\\lim _{n \\rightarrow \\infty}\\left(\\frac{1}{1 \\cdot 2}+\\frac{1}{2 \\cdot 3}+\\frac{1}{3 \\cdot 4}+\\cdots+\\frac{1}{(n-1) \\cdot n}\\right)\n",
    "$$"
   ]
  },
  {
   "cell_type": "code",
   "execution_count": null,
   "metadata": {},
   "outputs": [],
   "source": []
  },
  {
   "cell_type": "markdown",
   "metadata": {},
   "source": [
    "#### Предел последовательности"
   ]
  },
  {
   "cell_type": "markdown",
   "metadata": {},
   "source": [
    "13. Пользуясь критерием Коши, докажите сходимость последовательности: $$\n",
    "a_{n}=\\frac{\\sin 1}{2}+\\frac{\\sin 2}{2^{2}}+\\frac{\\sin 3}{2^{3}}+\\cdots+\\frac{\\sin n}{2^{n}}\n",
    "$$ * Какой член последовательности можно взять в качестве предела с точностью $\n",
    "\\varepsilon=10^{-7}\n",
    "$"
   ]
  },
  {
   "cell_type": "code",
   "execution_count": null,
   "metadata": {},
   "outputs": [],
   "source": []
  },
  {
   "cell_type": "markdown",
   "metadata": {},
   "source": [
    "14*. Пользуясь критерием Коши, докажите расходимость последовательности:\n",
    "$$\n",
    "b_{n}=1+\\frac{1}{2}+\\frac{1}{3}+\\cdots+\\frac{1}{n}\n",
    "$$"
   ]
  },
  {
   "cell_type": "code",
   "execution_count": null,
   "metadata": {},
   "outputs": [],
   "source": []
  }
 ],
 "metadata": {
  "kernelspec": {
   "display_name": "Python 3",
   "language": "python",
   "name": "python3"
  },
  "language_info": {
   "codemirror_mode": {
    "name": "ipython",
    "version": 3
   },
   "file_extension": ".py",
   "mimetype": "text/x-python",
   "name": "python",
   "nbconvert_exporter": "python",
   "pygments_lexer": "ipython3",
   "version": "3.7.1"
  }
 },
 "nbformat": 4,
 "nbformat_minor": 2
}
