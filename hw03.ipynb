{
 "cells": [
  {
   "cell_type": "markdown",
   "metadata": {},
   "source": [
    "## Урок 3. Парсинг HTML"
   ]
  },
  {
   "cell_type": "markdown",
   "metadata": {},
   "source": [
    "1) Необходимо собрать информацию о вакансиях на должность программиста или разработчика с сайта superjob.ru или hh.ru. (Можно с обоих сразу) Приложение должно анализировать несколько страниц сайта. Получившийся список должен содержать в себе: \n",
    "- Наименование вакансии, \n",
    "- Предлагаемую зарплату,\n",
    "- Ссылку на саму вакансию"
   ]
  },
  {
   "cell_type": "code",
   "execution_count": 94,
   "metadata": {
    "scrolled": true
   },
   "outputs": [
    {
     "data": {
      "text/plain": [
       "[{'vacancy': 'Senior python developer в Трипстер (Python, Django, Celery, Redis, Elasticsearch)',\n",
       "  'salary': '200000',\n",
       "  'link': 'https://hh.ru/vacancy/33054998?query=Python'},\n",
       " {'vacancy': 'Программист Python',\n",
       "  'salary': '100000-120000',\n",
       "  'link': 'https://hh.ru/vacancy/32999518?query=Python'},\n",
       " {'vacancy': 'Программист Python',\n",
       "  'salary': '100000',\n",
       "  'link': 'https://hh.ru/vacancy/33082158?query=Python'},\n",
       " {'vacancy': 'Python Developer',\n",
       "  'salary': '-',\n",
       "  'link': 'https://hh.ru/vacancy/32648870?query=Python'},\n",
       " {'vacancy': 'Backend Developer (Python, Django)',\n",
       "  'salary': '180000-220000',\n",
       "  'link': 'https://hh.ru/vacancy/32690277?query=Python'},\n",
       " {'vacancy': 'Программист Python',\n",
       "  'salary': '90000',\n",
       "  'link': 'https://hh.ru/vacancy/32719006?query=Python'},\n",
       " {'vacancy': 'Разработчик Python Backend',\n",
       "  'salary': '150000',\n",
       "  'link': 'https://hh.ru/vacancy/33111826?query=Python'},\n",
       " {'vacancy': 'Python Developer',\n",
       "  'salary': '-',\n",
       "  'link': 'https://hh.ru/vacancy/32524298?query=Python'},\n",
       " {'vacancy': 'Back-end Developer (Python, Django)',\n",
       "  'salary': '150000-200000',\n",
       "  'link': 'https://hh.ru/vacancy/32740369?query=Python'},\n",
       " {'vacancy': 'Python Developer (ML)',\n",
       "  'salary': '-',\n",
       "  'link': 'https://hh.ru/vacancy/28570434?query=Python'},\n",
       " {'vacancy': 'Разработчик (Python,Django)',\n",
       "  'salary': '-',\n",
       "  'link': 'https://hh.ru/vacancy/32922843?query=Python'},\n",
       " {'vacancy': 'Python Data Scientist',\n",
       "  'salary': '150000',\n",
       "  'link': 'https://hh.ru/vacancy/32624830?query=Python'},\n",
       " {'vacancy': 'Программист Python',\n",
       "  'salary': '-',\n",
       "  'link': 'https://hh.ru/vacancy/32980973?query=Python'},\n",
       " {'vacancy': 'Разработчик Python/Django + React.js',\n",
       "  'salary': '145000-255000',\n",
       "  'link': 'https://hh.ru/vacancy/32872467?query=Python'},\n",
       " {'vacancy': 'Программист Python',\n",
       "  'salary': '-',\n",
       "  'link': 'https://hh.ru/vacancy/32996574?query=Python'},\n",
       " {'vacancy': 'Программист Python',\n",
       "  'salary': '-',\n",
       "  'link': 'https://hh.ru/vacancy/32983824?query=Python'},\n",
       " {'vacancy': 'Python-Разработчик/Python Developer',\n",
       "  'salary': '-',\n",
       "  'link': 'https://hh.ru/vacancy/32690988?query=Python'},\n",
       " {'vacancy': 'Веб-программист Python/Django, full-stack',\n",
       "  'salary': '80000',\n",
       "  'link': 'https://hh.ru/vacancy/33137281?query=Python'},\n",
       " {'vacancy': 'Data Sсientist (ML/Python)',\n",
       "  'salary': '-',\n",
       "  'link': 'https://hh.ru/vacancy/31380978?query=Python'},\n",
       " {'vacancy': 'Python/Django разработчик',\n",
       "  'salary': '60000-130000',\n",
       "  'link': 'https://hh.ru/vacancy/32707936?query=Python'}]"
      ]
     },
     "execution_count": 94,
     "metadata": {},
     "output_type": "execute_result"
    }
   ],
   "source": [
    "from bs4 import BeautifulSoup as bs\n",
    "import requests\n",
    "import re\n",
    "\n",
    "main_link = 'https://hh.ru'\n",
    "add_link = '/search/vacancy?area=1'\n",
    "key_word = '&text=Python'\n",
    "class_ = ['vacancy-serp-item', 'bloko-link HH-LinkModifier', 'vacancy-serp-item__compensation']\n",
    "\n",
    "def get_link(main_link, add_link, key_word):\n",
    "    link = main_link + add_link + key_word\n",
    "    return link\n",
    "\n",
    "def get_html(link):\n",
    "    if link[0:4] == 'http':\n",
    "        html = requests.get(link).text\n",
    "    else:\n",
    "        with open(link, 'rb') as f:\n",
    "            html = f.read()\n",
    "    return html\n",
    "\n",
    "def parsing_html(link):\n",
    "    html =  get_html(link)\n",
    "    parsed_html = bs(html, 'html.parser')\n",
    "    return parsed_html\n",
    "\n",
    "def find_class(html, class_):\n",
    "    found_class = html.findAll(class_=class_)\n",
    "    return found_class\n",
    "\n",
    "def find_item(html, class_, href=False):\n",
    "    found_item = html.find(class_=class_, href=href)\n",
    "    return found_item\n",
    "\n",
    "def get_vacancy(html, class_):\n",
    "    found_class = find_class(html, class_[0])\n",
    "    class_info = []\n",
    "    for i in found_class:\n",
    "        class_dict = {}\n",
    "        vacancy = find_item(i, class_[1], href=True)\n",
    "        class_dict['vacancy'] = vacancy.get_text()\n",
    "        salary = find_item(i, class_[2])\n",
    "        class_dict['salary'] = ''.join(re.findall('[0-9-]', salary.get_text())) if salary else '-'\n",
    "        class_dict['link'] = vacancy['href']\n",
    "        class_info.append(class_dict)\n",
    "    return class_info\n",
    "\n",
    "\n",
    "# У hh.ru не работает GET запрос через requests, поэтому заранее записан HTML-файл в браузере.\n",
    "# link = get_link(main_link, add_link, key_word)\n",
    "link = 'hh.html'\n",
    "parsed_html = parsing_html_page(link)\n",
    "class_info = get_vacancy(parsed_html, class_)\n",
    "class_info\n"
   ]
  },
  {
   "cell_type": "markdown",
   "metadata": {},
   "source": [
    "2) Доработать приложение таким образом, чтобы можно было искать разработчиков на разные языки программирования (Например Python, Java, C++)"
   ]
  },
  {
   "cell_type": "code",
   "execution_count": null,
   "metadata": {},
   "outputs": [],
   "source": []
  }
 ],
 "metadata": {
  "kernelspec": {
   "display_name": "Python 3",
   "language": "python",
   "name": "python3"
  },
  "language_info": {
   "codemirror_mode": {
    "name": "ipython",
    "version": 3
   },
   "file_extension": ".py",
   "mimetype": "text/x-python",
   "name": "python",
   "nbconvert_exporter": "python",
   "pygments_lexer": "ipython3",
   "version": "3.7.1"
  }
 },
 "nbformat": 4,
 "nbformat_minor": 2
}
