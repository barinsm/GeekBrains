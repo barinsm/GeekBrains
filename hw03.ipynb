{
 "cells": [
  {
   "cell_type": "markdown",
   "metadata": {},
   "source": [
    "## Урок 3. Парсинг HTML"
   ]
  },
  {
   "cell_type": "markdown",
   "metadata": {},
   "source": [
    "1) Необходимо собрать информацию о вакансиях на должность программиста или разработчика с сайта superjob.ru или hh.ru. (Можно с обоих сразу) Приложение должно анализировать несколько страниц сайта. Получившийся список должен содержать в себе: \n",
    "- Наименование вакансии, \n",
    "- Предлагаемую зарплату,\n",
    "- Ссылку на саму вакансию"
   ]
  },
  {
   "cell_type": "code",
   "execution_count": 165,
   "metadata": {},
   "outputs": [],
   "source": [
    "from bs4 import BeautifulSoup as bs\n",
    "import requests\n",
    "import re\n",
    "\n",
    "def get_link(main_link, add_link, key_word):\n",
    "    link = main_link + add_link + key_word\n",
    "    return link\n",
    "\n",
    "def get_html(link):\n",
    "    if link[0:4] == 'http':\n",
    "        html = requests.get(link).text\n",
    "    else:\n",
    "        with open(link, 'rb') as f:\n",
    "            html = f.read()\n",
    "    return html\n",
    "\n",
    "def parsing_html(link):\n",
    "    html =  get_html(link)\n",
    "    parsed_html = bs(html, 'html.parser')\n",
    "    return parsed_html\n",
    "\n",
    "def find_class(html, class_):\n",
    "    found_class = html.findAll(class_=class_)\n",
    "    return found_class\n",
    "\n",
    "def find_item(html, class_, href=False):\n",
    "    found_item = html.find(class_=class_, href=href)\n",
    "    return found_item\n",
    "\n",
    "def get_vacancy(html, class_):\n",
    "    found_class = find_class(html, class_[0])\n",
    "    class_info = []\n",
    "    for i in found_class:\n",
    "        class_dict = {}\n",
    "        vacancy = find_item(i, class_[1], href=True)\n",
    "        class_dict['vacancy'] = vacancy.get_text()\n",
    "        salary = find_item(i, class_[2])\n",
    "        class_dict['salary'] = ''.join(re.findall('[0-9-]', salary.get_text())) if salary else '-'\n",
    "        link = vacancy['href']\n",
    "        class_dict['link'] = link if link[0:4] == 'http' else main_link + link\n",
    "        class_info.append(class_dict)\n",
    "    return class_info"
   ]
  },
  {
   "cell_type": "markdown",
   "metadata": {},
   "source": [
    "#### hh.ru - НЕ работает GET запрос через requests, поэтому заранее записан HTML-файл в браузере."
   ]
  },
  {
   "cell_type": "code",
   "execution_count": 166,
   "metadata": {
    "scrolled": true
   },
   "outputs": [
    {
     "data": {
      "text/plain": [
       "[{'vacancy': 'Веб-программист',\n",
       "  'salary': '180000-200000',\n",
       "  'link': 'https://hh.ru/vacancy/32979955?query=%D0%9F%D1%80%D0%BE%D0%B3%D1%80%D0%B0%D0%BC%D0%BC%D0%B8%D1%81%D1%82%20%D0%A0%D0%B0%D0%B7%D1%80%D0%B0%D0%B1%D0%BE%D1%82%D1%87%D0%B8%D0%BA'},\n",
       " {'vacancy': 'Веб-программист',\n",
       "  'salary': '180000-200000',\n",
       "  'link': 'https://hh.ru/vacancy/32979956?query=%D0%9F%D1%80%D0%BE%D0%B3%D1%80%D0%B0%D0%BC%D0%BC%D0%B8%D1%81%D1%82%20%D0%A0%D0%B0%D0%B7%D1%80%D0%B0%D0%B1%D0%BE%D1%82%D1%87%D0%B8%D0%BA'},\n",
       " {'vacancy': 'Golang Developer',\n",
       "  'salary': '4000-6000',\n",
       "  'link': 'https://hh.ru/vacancy/33127912?query=%D0%9F%D1%80%D0%BE%D0%B3%D1%80%D0%B0%D0%BC%D0%BC%D0%B8%D1%81%D1%82%20%D0%A0%D0%B0%D0%B7%D1%80%D0%B0%D0%B1%D0%BE%D1%82%D1%87%D0%B8%D0%BA'},\n",
       " {'vacancy': 'Web-программист',\n",
       "  'salary': '90000-120000',\n",
       "  'link': 'https://hh.ru/vacancy/32895066?query=%D0%9F%D1%80%D0%BE%D0%B3%D1%80%D0%B0%D0%BC%D0%BC%D0%B8%D1%81%D1%82%20%D0%A0%D0%B0%D0%B7%D1%80%D0%B0%D0%B1%D0%BE%D1%82%D1%87%D0%B8%D0%BA'},\n",
       " {'vacancy': 'Программист SQL',\n",
       "  'salary': '-',\n",
       "  'link': 'https://hh.ru/vacancy/32827702?query=%D0%9F%D1%80%D0%BE%D0%B3%D1%80%D0%B0%D0%BC%D0%BC%D0%B8%D1%81%D1%82%20%D0%A0%D0%B0%D0%B7%D1%80%D0%B0%D0%B1%D0%BE%D1%82%D1%87%D0%B8%D0%BA'},\n",
       " {'vacancy': 'Программист 1С-Битрикс',\n",
       "  'salary': '2000',\n",
       "  'link': 'https://hh.ru/vacancy/32568280?query=%D0%9F%D1%80%D0%BE%D0%B3%D1%80%D0%B0%D0%BC%D0%BC%D0%B8%D1%81%D1%82%20%D0%A0%D0%B0%D0%B7%D1%80%D0%B0%D0%B1%D0%BE%D1%82%D1%87%D0%B8%D0%BA'},\n",
       " {'vacancy': 'Middle PHP-разработчик/Программист (Bitrix)',\n",
       "  'salary': '100000-120000',\n",
       "  'link': 'https://hh.ru/vacancy/31746332?query=%D0%9F%D1%80%D0%BE%D0%B3%D1%80%D0%B0%D0%BC%D0%BC%D0%B8%D1%81%D1%82%20%D0%A0%D0%B0%D0%B7%D1%80%D0%B0%D0%B1%D0%BE%D1%82%D1%87%D0%B8%D0%BA'},\n",
       " {'vacancy': 'Front-End разработчик (middle+ и выше)',\n",
       "  'salary': '-',\n",
       "  'link': 'https://hh.ru/vacancy/31942094?query=%D0%9F%D1%80%D0%BE%D0%B3%D1%80%D0%B0%D0%BC%D0%BC%D0%B8%D1%81%D1%82%20%D0%A0%D0%B0%D0%B7%D1%80%D0%B0%D0%B1%D0%BE%D1%82%D1%87%D0%B8%D0%BA'},\n",
       " {'vacancy': 'Full-Stack разработчик (.NET, SQL, JavaScript)',\n",
       "  'salary': '180000',\n",
       "  'link': 'https://hh.ru/vacancy/32942470?query=%D0%9F%D1%80%D0%BE%D0%B3%D1%80%D0%B0%D0%BC%D0%BC%D0%B8%D1%81%D1%82%20%D0%A0%D0%B0%D0%B7%D1%80%D0%B0%D0%B1%D0%BE%D1%82%D1%87%D0%B8%D0%BA'},\n",
       " {'vacancy': 'PHP-программист',\n",
       "  'salary': '-',\n",
       "  'link': 'https://hh.ru/vacancy/33138309?query=%D0%9F%D1%80%D0%BE%D0%B3%D1%80%D0%B0%D0%BC%D0%BC%D0%B8%D1%81%D1%82%20%D0%A0%D0%B0%D0%B7%D1%80%D0%B0%D0%B1%D0%BE%D1%82%D1%87%D0%B8%D0%BA'},\n",
       " {'vacancy': 'Фронтенд программист',\n",
       "  'salary': '-',\n",
       "  'link': 'https://hh.ru/vacancy/33102668?query=%D0%9F%D1%80%D0%BE%D0%B3%D1%80%D0%B0%D0%BC%D0%BC%D0%B8%D1%81%D1%82%20%D0%A0%D0%B0%D0%B7%D1%80%D0%B0%D0%B1%D0%BE%D1%82%D1%87%D0%B8%D0%BA'},\n",
       " {'vacancy': 'Программист 1С:ERP',\n",
       "  'salary': '2500',\n",
       "  'link': 'https://hh.ru/vacancy/33108934?query=%D0%9F%D1%80%D0%BE%D0%B3%D1%80%D0%B0%D0%BC%D0%BC%D0%B8%D1%81%D1%82%20%D0%A0%D0%B0%D0%B7%D1%80%D0%B0%D0%B1%D0%BE%D1%82%D1%87%D0%B8%D0%BA'},\n",
       " {'vacancy': 'Middle Front End Developer React.js',\n",
       "  'salary': '100000-160000',\n",
       "  'link': 'https://hh.ru/vacancy/33115372?query=%D0%9F%D1%80%D0%BE%D0%B3%D1%80%D0%B0%D0%BC%D0%BC%D0%B8%D1%81%D1%82%20%D0%A0%D0%B0%D0%B7%D1%80%D0%B0%D0%B1%D0%BE%D1%82%D1%87%D0%B8%D0%BA'},\n",
       " {'vacancy': 'Ведущий программист 1C',\n",
       "  'salary': '100000-130000',\n",
       "  'link': 'https://hh.ru/vacancy/33027486?query=%D0%9F%D1%80%D0%BE%D0%B3%D1%80%D0%B0%D0%BC%D0%BC%D0%B8%D1%81%D1%82%20%D0%A0%D0%B0%D0%B7%D1%80%D0%B0%D0%B1%D0%BE%D1%82%D1%87%D0%B8%D0%BA'},\n",
       " {'vacancy': 'Middle Node.js Developer',\n",
       "  'salary': '100000-160000',\n",
       "  'link': 'https://hh.ru/vacancy/33115373?query=%D0%9F%D1%80%D0%BE%D0%B3%D1%80%D0%B0%D0%BC%D0%BC%D0%B8%D1%81%D1%82%20%D0%A0%D0%B0%D0%B7%D1%80%D0%B0%D0%B1%D0%BE%D1%82%D1%87%D0%B8%D0%BA'},\n",
       " {'vacancy': 'Front-end разработчик',\n",
       "  'salary': '-',\n",
       "  'link': 'https://hh.ru/vacancy/31135974?query=%D0%9F%D1%80%D0%BE%D0%B3%D1%80%D0%B0%D0%BC%D0%BC%D0%B8%D1%81%D1%82%20%D0%A0%D0%B0%D0%B7%D1%80%D0%B0%D0%B1%D0%BE%D1%82%D1%87%D0%B8%D0%BA'},\n",
       " {'vacancy': 'JavaScript разработчик (React)',\n",
       "  'salary': '-',\n",
       "  'link': 'https://hh.ru/vacancy/33107877?query=%D0%9F%D1%80%D0%BE%D0%B3%D1%80%D0%B0%D0%BC%D0%BC%D0%B8%D1%81%D1%82%20%D0%A0%D0%B0%D0%B7%D1%80%D0%B0%D0%B1%D0%BE%D1%82%D1%87%D0%B8%D0%BA'},\n",
       " {'vacancy': 'Программист JS (WebVR/WebAR)',\n",
       "  'salary': '80000-150000',\n",
       "  'link': 'https://hh.ru/vacancy/32117045?query=%D0%9F%D1%80%D0%BE%D0%B3%D1%80%D0%B0%D0%BC%D0%BC%D0%B8%D1%81%D1%82%20%D0%A0%D0%B0%D0%B7%D1%80%D0%B0%D0%B1%D0%BE%D1%82%D1%87%D0%B8%D0%BA'},\n",
       " {'vacancy': 'Программист MS SQL',\n",
       "  'salary': '117000',\n",
       "  'link': 'https://hh.ru/vacancy/32877806?query=%D0%9F%D1%80%D0%BE%D0%B3%D1%80%D0%B0%D0%BC%D0%BC%D0%B8%D1%81%D1%82%20%D0%A0%D0%B0%D0%B7%D1%80%D0%B0%D0%B1%D0%BE%D1%82%D1%87%D0%B8%D0%BA'},\n",
       " {'vacancy': 'Программист С++/С#',\n",
       "  'salary': '100000',\n",
       "  'link': 'https://hh.ru/vacancy/32877293?query=%D0%9F%D1%80%D0%BE%D0%B3%D1%80%D0%B0%D0%BC%D0%BC%D0%B8%D1%81%D1%82%20%D0%A0%D0%B0%D0%B7%D1%80%D0%B0%D0%B1%D0%BE%D1%82%D1%87%D0%B8%D0%BA'}]"
      ]
     },
     "execution_count": 166,
     "metadata": {},
     "output_type": "execute_result"
    }
   ],
   "source": [
    "main_link = 'https://hh.ru'\n",
    "add_link = '/search/vacancy'\n",
    "key_word = '?text=Программист Разработчик'\n",
    "class_ = ['vacancy-serp-item', 'bloko-link HH-LinkModifier', 'vacancy-serp-item__compensation']\n",
    "\n",
    "# link = get_link(main_link, add_link, key_word)\n",
    "link = 'hh.html'\n",
    "parsed_html = parsing_html_page(link)\n",
    "vacancy_hh = get_vacancy(parsed_html, class_)\n",
    "vacancy_hh"
   ]
  },
  {
   "cell_type": "markdown",
   "metadata": {},
   "source": [
    "#### superjob.ru - работает GET запрос через requests, поэтому данные получаем напрямую с сайта"
   ]
  },
  {
   "cell_type": "code",
   "execution_count": 167,
   "metadata": {
    "scrolled": true
   },
   "outputs": [
    {
     "data": {
      "text/plain": [
       "[{'vacancy': 'Программист-разработчик 1С',\n",
       "  'salary': '120000',\n",
       "  'link': 'https://superjob.ru/vakansii/programmist-razrabotchik-1s-32066066.html'},\n",
       " {'vacancy': 'Программист / Разработчик',\n",
       "  'salary': '80000',\n",
       "  'link': 'https://superjob.ru/vakansii/programmist-32274027.html'},\n",
       " {'vacancy': 'Разработчик 1С (Программист)',\n",
       "  'salary': '170000',\n",
       "  'link': 'https://superjob.ru/vakansii/razrabotchik-1s-32191974.html'},\n",
       " {'vacancy': 'Web-программист, Web-разработчик',\n",
       "  'salary': '',\n",
       "  'link': 'https://superjob.ru/vakansii/web-programmist-32266222.html'},\n",
       " {'vacancy': 'Программист / Разработчик 1С 8.3 УПП',\n",
       "  'salary': '140000',\n",
       "  'link': 'https://superjob.ru/vakansii/programmist-32418578.html'},\n",
       " {'vacancy': 'Программист-разработчик (.NET) на ELMA BPM',\n",
       "  'salary': '',\n",
       "  'link': 'https://superjob.ru/vakansii/programmist-razrabotchik-32408682.html'},\n",
       " {'vacancy': 'Разработчик / Программист (Битрикс)',\n",
       "  'salary': '',\n",
       "  'link': 'https://superjob.ru/vakansii/razrabotchik-32409339.html'},\n",
       " {'vacancy': 'Программист (разработчик 1С)',\n",
       "  'salary': '80000',\n",
       "  'link': 'https://superjob.ru/vakansii/programmist-32221501.html'},\n",
       " {'vacancy': 'Программист-разработчик',\n",
       "  'salary': '60000',\n",
       "  'link': 'https://superjob.ru/vakansii/programmist-razrabotchik-32382559.html'},\n",
       " {'vacancy': 'Web-разработчик / Программист PHP',\n",
       "  'salary': '',\n",
       "  'link': 'https://superjob.ru/vakansii/web-razrabotchik-31995966.html'},\n",
       " {'vacancy': 'JavaScript (веб) программист',\n",
       "  'salary': '110000120000',\n",
       "  'link': 'https://superjob.ru/vakansii/javascript-32434463.html'},\n",
       " {'vacancy': 'Frontend-разработчик / Frontend-developer',\n",
       "  'salary': '140000',\n",
       "  'link': 'https://superjob.ru/vakansii/frontend-razrabotchik-32434348.html'},\n",
       " {'vacancy': 'Программист 1С',\n",
       "  'salary': '110000150000',\n",
       "  'link': 'https://superjob.ru/vakansii/programmist-1s-32355948.html'},\n",
       " {'vacancy': 'Программист 1С',\n",
       "  'salary': '',\n",
       "  'link': 'https://superjob.ru/vakansii/programmist-1s-32174069.html'},\n",
       " {'vacancy': 'Программист C++, Qt, QML',\n",
       "  'salary': '',\n",
       "  'link': 'https://superjob.ru/vakansii/programmist-c-32405114.html'},\n",
       " {'vacancy': 'Программист АБС ЦФТ',\n",
       "  'salary': '',\n",
       "  'link': 'https://superjob.ru/vakansii/programmist-abs-cft-32263158.html'},\n",
       " {'vacancy': 'Программист javascript (телекоммуникационные услуги связи)',\n",
       "  'salary': '60000',\n",
       "  'link': 'https://superjob.ru/vakansii/programmist-javascript-32159051.html'},\n",
       " {'vacancy': 'Инженер-программист C#',\n",
       "  'salary': '',\n",
       "  'link': 'https://superjob.ru/vakansii/inzhener-programmist-c-32330027.html'},\n",
       " {'vacancy': 'Ведущий программист 1С 8',\n",
       "  'salary': '150000',\n",
       "  'link': 'https://superjob.ru/vakansii/veduschij-programmist-1s-8-32399181.html'},\n",
       " {'vacancy': 'Разработчик',\n",
       "  'salary': '',\n",
       "  'link': 'https://superjob.ru/vakansii/razrabotchik-32422174.html'},\n",
       " {'vacancy': 'Инженер-программист',\n",
       "  'salary': '98310',\n",
       "  'link': 'https://superjob.ru/vakansii/inzhener-programmist-32154251.html'},\n",
       " {'vacancy': 'Программист PHP',\n",
       "  'salary': '',\n",
       "  'link': 'https://superjob.ru/vakansii/programmist-php-31914382.html'},\n",
       " {'vacancy': 'Технолог-разработчик рецептур',\n",
       "  'salary': '',\n",
       "  'link': 'https://superjob.ru/vakansii/tehnolog-razrabotchik-receptur-30506518.html'},\n",
       " {'vacancy': 'Программист 1С / Эксперт 1С / Системный архитектор',\n",
       "  'salary': '180000',\n",
       "  'link': 'https://superjob.ru/vakansii/programmist-1s-32136829.html'},\n",
       " {'vacancy': 'Старший программист 1С',\n",
       "  'salary': '110000150000',\n",
       "  'link': 'https://superjob.ru/vakansii/starshij-programmist-1s-32389271.html'},\n",
       " {'vacancy': 'Программист поддержки 1С',\n",
       "  'salary': '',\n",
       "  'link': 'https://superjob.ru/vakansii/programmist-podderzhki-1s-32355543.html'},\n",
       " {'vacancy': 'Full-stack разработчик',\n",
       "  'salary': '150000180000',\n",
       "  'link': 'https://superjob.ru/vakansii/full-stack-razrabotchik-31804795.html'},\n",
       " {'vacancy': 'Программист 1С',\n",
       "  'salary': '125000',\n",
       "  'link': 'https://superjob.ru/vakansii/programmist-1s-32373973.html'},\n",
       " {'vacancy': 'Web-разработчик',\n",
       "  'salary': '70000',\n",
       "  'link': 'https://superjob.ru/vakansii/web-razrabotchik-32355383.html'},\n",
       " {'vacancy': 'Ведущий программист 1С',\n",
       "  'salary': '',\n",
       "  'link': 'https://superjob.ru/vakansii/veduschij-programmist-1s-32220120.html'}]"
      ]
     },
     "execution_count": 167,
     "metadata": {},
     "output_type": "execute_result"
    }
   ],
   "source": [
    "main_link = 'https://superjob.ru'\n",
    "add_link = '/vacancy/search/'\n",
    "key_word = '?keywords=Программист|Разработчик'\n",
    "class_ = ['_3syPg', '_1QIBo', '_2Wp8I']\n",
    "\n",
    "link = get_link(main_link, add_link, key_word)\n",
    "# link = 'sj.html'\n",
    "parsed_html = parsing_html_page(link)\n",
    "vacancy_sj = get_vacancy(parsed_html, class_)\n",
    "vacancy_sj"
   ]
  },
  {
   "cell_type": "markdown",
   "metadata": {},
   "source": [
    "2) Доработать приложение таким образом, чтобы можно было искать разработчиков на разные языки программирования (Например Python, Java, C++)"
   ]
  },
  {
   "cell_type": "code",
   "execution_count": null,
   "metadata": {},
   "outputs": [],
   "source": []
  }
 ],
 "metadata": {
  "kernelspec": {
   "display_name": "Python 3",
   "language": "python",
   "name": "python3"
  },
  "language_info": {
   "codemirror_mode": {
    "name": "ipython",
    "version": 3
   },
   "file_extension": ".py",
   "mimetype": "text/x-python",
   "name": "python",
   "nbconvert_exporter": "python",
   "pygments_lexer": "ipython3",
   "version": "3.7.1"
  }
 },
 "nbformat": 4,
 "nbformat_minor": 2
}
