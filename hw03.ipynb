{
 "cells": [
  {
   "cell_type": "code",
   "execution_count": 3,
   "metadata": {},
   "outputs": [],
   "source": [
    "%matplotlib inline\n",
    "import numpy as np\n",
    "import matplotlib.pyplot as plt"
   ]
  },
  {
   "cell_type": "markdown",
   "metadata": {},
   "source": [
    "# Задания к уроку 5"
   ]
  },
  {
   "cell_type": "markdown",
   "metadata": {},
   "source": [
    "### 1. Задание:"
   ]
  },
  {
   "cell_type": "markdown",
   "metadata": {},
   "source": [
    "###### Вектор – это частный случай матрицы 1хN и Nх1. Повторите материал для векторов, уделяя особое внимание умножению A∙B."
   ]
  },
  {
   "cell_type": "code",
   "execution_count": 17,
   "metadata": {},
   "outputs": [
    {
     "name": "stdout",
     "output_type": "stream",
     "text": [
      "[[1. 2. 3. 4. 5. 6.]]\n",
      "3.0\n",
      "(1, 6)\n"
     ]
    }
   ],
   "source": [
    "a = np.array([[1, 2, 3, 4, 5, 6]], float)\n",
    "print(a)\n",
    "print(a[0, 2])\n",
    "print(a.shape)"
   ]
  },
  {
   "cell_type": "code",
   "execution_count": 18,
   "metadata": {},
   "outputs": [
    {
     "name": "stdout",
     "output_type": "stream",
     "text": [
      "[[ 2.  4.  6.  8. 10. 12.]]\n",
      "[[2. 3. 4. 5. 6. 7.]]\n",
      "[[ 4.  7. 10. 13. 16. 19.]]\n",
      "[[0. 1. 2. 3. 4. 5.]]\n"
     ]
    }
   ],
   "source": [
    "b = a * 2\n",
    "print(b)\n",
    "\n",
    "c = a + 1\n",
    "print(c)\n",
    "\n",
    "d = c + b\n",
    "print(d)\n",
    "\n",
    "d = b - c\n",
    "print(d)\n"
   ]
  },
  {
   "cell_type": "code",
   "execution_count": 19,
   "metadata": {},
   "outputs": [
    {
     "name": "stdout",
     "output_type": "stream",
     "text": [
      "[[0. 1. 2. 3. 4. 5.]]\n",
      "\n",
      "[[0.]\n",
      " [1.]\n",
      " [2.]\n",
      " [3.]\n",
      " [4.]\n",
      " [5.]]\n"
     ]
    }
   ],
   "source": [
    "f = d.T\n",
    "print(d)\n",
    "\n",
    "print(\"\")\n",
    "print(f)"
   ]
  },
  {
   "cell_type": "code",
   "execution_count": 24,
   "metadata": {},
   "outputs": [
    {
     "name": "stdout",
     "output_type": "stream",
     "text": [
      "55.0\n",
      "[[55.]]\n"
     ]
    },
    {
     "data": {
      "text/plain": [
       "((1, 6), (6, 1))"
      ]
     },
     "execution_count": 24,
     "metadata": {},
     "output_type": "execute_result"
    }
   ],
   "source": [
    "i, j = 0, 0\n",
    "print(d[i, 0] * f[0, j] + d[i, 1] * f[1, j] + d[i, 2] * f[2, j] + d[i, 3] * f[3, j] + d[i, 4] * f[4, j] + d[i, 5] * f[5, j])\n",
    "\n",
    "g = np.dot(d, f)\n",
    "print(g)\n",
    "d.shape, f.shape"
   ]
  },
  {
   "cell_type": "code",
   "execution_count": 28,
   "metadata": {},
   "outputs": [
    {
     "name": "stdout",
     "output_type": "stream",
     "text": [
      "25.0\n",
      "[[ 0.  0.  0.  0.  0.  0.]\n",
      " [ 0.  1.  2.  3.  4.  5.]\n",
      " [ 0.  2.  4.  6.  8. 10.]\n",
      " [ 0.  3.  6.  9. 12. 15.]\n",
      " [ 0.  4.  8. 12. 16. 20.]\n",
      " [ 0.  5. 10. 15. 20. 25.]]\n"
     ]
    },
    {
     "data": {
      "text/plain": [
       "((6, 1), (1, 6))"
      ]
     },
     "execution_count": 28,
     "metadata": {},
     "output_type": "execute_result"
    }
   ],
   "source": [
    "i, j = 5, 5\n",
    "print(f[i, 0] * d[0, j])\n",
    "\n",
    "g = np.dot(f, d)\n",
    "print(g)\n",
    "f.shape, d.shape"
   ]
  },
  {
   "cell_type": "markdown",
   "metadata": {},
   "source": [
    "###### Вычислите, по возможности не используя программирование: (5Е)–1, где Е – единичная матрица размера 5х5."
   ]
  },
  {
   "cell_type": "markdown",
   "metadata": {},
   "source": [
    "Пусть Е – единичная матрица размера 5х5:\n",
    "### $E =\n",
    "\\begin{pmatrix}\n",
    "1 & 0 & 0 & 0 & 0\\\\\n",
    "0 & 1 & 0 & 0 & 0\\\\\n",
    "0 & 0 & 1 & 0 & 0\\\\\n",
    "0 & 0 & 0 & 1 & 0\\\\\n",
    "0 & 0 & 0 & 0 & 1\n",
    "\\end{pmatrix}$\n",
    "Тогда P – матрица размера 5х5 равная 5E:\n",
    "### $P =\n",
    "\\begin{pmatrix}\n",
    "5 & 0 & 0 & 0 & 0\\\\\n",
    "0 & 5 & 0 & 0 & 0\\\\\n",
    "0 & 0 & 5 & 0 & 0\\\\\n",
    "0 & 0 & 0 & 5 & 0\\\\\n",
    "0 & 0 & 0 & 0 & 5\n",
    "\\end{pmatrix}$\n",
    "### $P \\cdot E = E \\cdot P = P$\n",
    "### $P \\cdot P^{-1} = E$\n",
    "### $P^{-1} = \\frac{E}{P} = \\frac{E}{5E} = \\frac{1}{5} E$\n",
    "– деление, как и умножение, единичных матриц дают единичную матрицу, тогда обратная матрица для P равна:\n",
    "### $P^{-1} =\n",
    "\\begin{pmatrix}\n",
    "1/5 & 0 & 0 & 0 & 0\\\\\n",
    "0 & 1/5 & 0 & 0 & 0\\\\\n",
    "0 & 0 & 1/5 & 0 & 0\\\\\n",
    "0 & 0 & 0 & 1/5 & 0\\\\\n",
    "0 & 0 & 0 & 0 & 1/5\n",
    "\\end{pmatrix}$\n",
    "Проверим вычислениями на Питоне:"
   ]
  },
  {
   "cell_type": "code",
   "execution_count": 32,
   "metadata": {},
   "outputs": [
    {
     "name": "stdout",
     "output_type": "stream",
     "text": [
      "[[1. 0. 0. 0. 0.]\n",
      " [0. 1. 0. 0. 0.]\n",
      " [0. 0. 1. 0. 0.]\n",
      " [0. 0. 0. 1. 0.]\n",
      " [0. 0. 0. 0. 1.]]\n",
      "[[5. 0. 0. 0. 0.]\n",
      " [0. 5. 0. 0. 0.]\n",
      " [0. 0. 5. 0. 0.]\n",
      " [0. 0. 0. 5. 0.]\n",
      " [0. 0. 0. 0. 5.]]\n",
      "[[ 0.2  0.   0.   0.   0. ]\n",
      " [ 0.   0.2  0.   0.   0. ]\n",
      " [ 0.   0.   0.2  0.   0. ]\n",
      " [-0.  -0.  -0.   0.2 -0. ]\n",
      " [ 0.   0.   0.   0.   0.2]]\n"
     ]
    }
   ],
   "source": [
    "e = np.identity(5)\n",
    "print(e)\n",
    "p = 5*e\n",
    "print(p)\n",
    "print(np.linalg.inv(p))"
   ]
  },
  {
   "cell_type": "markdown",
   "metadata": {},
   "source": [
    "### 2. Задание:"
   ]
  },
  {
   "cell_type": "markdown",
   "metadata": {},
   "source": [
    "###### Вычислите определитель:\n",
    "# $\n",
    "\\left|\\begin{matrix}\n",
    "1 & 2 & 3\\\\\n",
    "4 & 0 & 6\\\\\n",
    "7 & 8 & 9\n",
    "\\end{matrix}\n",
    "\\right|\n",
    "$"
   ]
  },
  {
   "cell_type": "markdown",
   "metadata": {},
   "source": [
    "## $\\det A = \\left|\n",
    "\\begin{array}{cccc}\n",
    "1 & 2 & 3\\\\\n",
    "4 & 0 & 6\\\\\n",
    "7 & 8 & 9\n",
    "\\end{array}\n",
    "\\right|=\n",
    "-4\\left| \n",
    "\\begin{array}{cccc}\n",
    "2 & 3\\\\ \n",
    "8 & 9\n",
    "\\end{array} \n",
    "\\right|\n",
    "+0\\left| \n",
    "\\begin{array}{cccc}\n",
    "1 & 3\\\\ \n",
    "7 & 9\n",
    "\\end{array} \n",
    "\\right|\n",
    "-6\\left| \n",
    "\\begin{array}{cccc}\n",
    "1 & 2\\\\ \n",
    "7 & 8\n",
    "\\end{array} \n",
    "\\right|=60\n",
    "$\n"
   ]
  },
  {
   "cell_type": "code",
   "execution_count": 35,
   "metadata": {},
   "outputs": [
    {
     "data": {
      "text/plain": [
       "60"
      ]
     },
     "execution_count": 35,
     "metadata": {},
     "output_type": "execute_result"
    }
   ],
   "source": [
    "- 4 * (2 * 9 - 3 * 8) + 0 * (1 * 9 - 3 * 7) - 6 * (1 * 8 - 2 * 7)"
   ]
  },
  {
   "cell_type": "markdown",
   "metadata": {},
   "source": [
    "Проверим вычислениями на Питоне:"
   ]
  },
  {
   "cell_type": "code",
   "execution_count": 36,
   "metadata": {},
   "outputs": [
    {
     "data": {
      "text/plain": [
       "59.999999999999986"
      ]
     },
     "execution_count": 36,
     "metadata": {},
     "output_type": "execute_result"
    }
   ],
   "source": [
    "a = np.array([[1, 2, 3], [4, 0, 6], [7, 8, 9]])\n",
    "np.linalg.det(a)"
   ]
  },
  {
   "cell_type": "markdown",
   "metadata": {},
   "source": [
    "### 3. Задание:"
   ]
  },
  {
   "cell_type": "markdown",
   "metadata": {},
   "source": [
    "###### 1. Вычислите матрицу, обратную данной:\n",
    "# $\n",
    "\\left|\\begin{matrix}\n",
    "1 & 2 & 3\\\\\n",
    "4 & 0 & 6\\\\\n",
    "7 & 8 & 9\n",
    "\\end{matrix}\n",
    "\\right|\n",
    "$"
   ]
  },
  {
   "cell_type": "markdown",
   "metadata": {},
   "source": [
    "Определитель найден в предыдущем задании:\n",
    "## $\\det A = \\left|\n",
    "\\begin{array}{cccc}\n",
    "1 & 2 & 3\\\\\n",
    "4 & 0 & 6\\\\\n",
    "7 & 8 & 9\n",
    "\\end{array}\n",
    "\\right|=\n",
    "-4\\left| \n",
    "\\begin{array}{cccc}\n",
    "2 & 3\\\\ \n",
    "8 & 9\n",
    "\\end{array} \n",
    "\\right|\n",
    "+0\\left| \n",
    "\\begin{array}{cccc}\n",
    "1 & 3\\\\ \n",
    "7 & 9\n",
    "\\end{array} \n",
    "\\right|\n",
    "-6\\left| \n",
    "\\begin{array}{cccc}\n",
    "1 & 2\\\\ \n",
    "7 & 8\n",
    "\\end{array} \n",
    "\\right|=60\n",
    "$"
   ]
  },
  {
   "cell_type": "markdown",
   "metadata": {},
   "source": [
    "Найдем матрицу миноров M, вычислив их для каждого элемента матрицы A:\n",
    "### $m_{00} = \\left| \n",
    "\\begin{array}{cccc}\n",
    "0 & 6\\\\ \n",
    "8 & 9\n",
    "\\end{array} \n",
    "\\right| = 0\\cdot 9 - 6\\cdot 8\n",
    "= -48\n",
    ", m_{01} = \\left| \n",
    "\\begin{array}{cccc}\n",
    "4 & 6\\\\ \n",
    "7 & 9\n",
    "\\end{array} \n",
    "\\right| = 4\\cdot 9 - 6\\cdot 7\n",
    "= -6\n",
    ", m_{02} = \\left| \n",
    "\\begin{array}{cccc}\n",
    "4 & 0\\\\ \n",
    "7 & 8\n",
    "\\end{array} \n",
    "\\right| = 4\\cdot 8 - 0\\cdot 7\n",
    "= 32\n",
    "\\\\m_{10} = \\left| \n",
    "\\begin{array}{cccc}\n",
    "2 & 3\\\\ \n",
    "8 & 9\n",
    "\\end{array} \n",
    "\\right| = 2\\cdot 9 - 3\\cdot 8\n",
    "= -6\n",
    ", m_{11} = \\left| \n",
    "\\begin{array}{cccc}\n",
    "1 & 3\\\\ \n",
    "7 & 9\n",
    "\\end{array} \n",
    "\\right| = 1\\cdot 9 - 3\\cdot 7\n",
    "= -12\n",
    ", m_{12} = \\left| \n",
    "\\begin{array}{cccc}\n",
    "1 & 2\\\\ \n",
    "7 & 8\n",
    "\\end{array} \n",
    "\\right| = 1\\cdot 8 - 2\\cdot 7\n",
    "= -6\n",
    "\\\\ m_{20} = \\left| \n",
    "\\begin{array}{cccc}\n",
    "2 & 3\\\\ \n",
    "0 & 6\n",
    "\\end{array} \n",
    "\\right| = 2\\cdot 6 - 3\\cdot 0\n",
    "= 12\n",
    ", m_{21} = \\left| \n",
    "\\begin{array}{cccc}\n",
    "1 & 3\\\\ \n",
    "4 & 6\n",
    "\\end{array} \n",
    "\\right| = 1\\cdot 6 - 3\\cdot 4\n",
    "= -6\n",
    ", m_{22} = \\left| \n",
    "\\begin{array}{cccc}\n",
    "1 & 2\\\\ \n",
    "4 & 0\n",
    "\\end{array} \n",
    "\\right| = 1\\cdot 0 - 2\\cdot 4\n",
    "= -8\n",
    "$\n",
    "## $ M = \\left|\n",
    "\\begin{array}{cccc}\n",
    "-48 & -6 & 32\\\\\n",
    "-6 & -12 & -6\\\\\n",
    "12 & -6 & -8\n",
    "\\end{array}\n",
    "\\right|\n",
    "$"
   ]
  },
  {
   "cell_type": "markdown",
   "metadata": {},
   "source": [
    "Найдем также матрицу алгебраических дополнений и транспонируем ее:\n",
    "## $ A_* = \\left|\n",
    "\\begin{array}{cccc}\n",
    "-48 & 6 & 32\\\\\n",
    "6 & -12 & 6\\\\\n",
    "12 & 6 & -8\n",
    "\\end{array}\n",
    "\\right|\n",
    "$\n",
    "## $ A_*^T = \\left|\n",
    "\\begin{array}{cccc}\n",
    "-48 & 6 & 12\\\\\n",
    "6 & -12 & 6\\\\\n",
    "32 & 6 & -8\n",
    "\\end{array}\n",
    "\\right|\n",
    "$"
   ]
  },
  {
   "cell_type": "markdown",
   "metadata": {},
   "source": [
    "Наконец вычислим обратную матрицу для матрицы A:\n",
    "## $ A^{-1} \n",
    "= \\frac{A_*^T}{\\det A}\n",
    "= \\frac{1}{60}\\left|\n",
    "\\begin{array}{cccc}\n",
    "-48 & 6 & 12\\\\\n",
    "6 & -12 & 6\\\\\n",
    "32 & 6 & -8\n",
    "\\end{array}\n",
    "\\right|\n",
    "= \\left|\n",
    "\\begin{array}{cccc}\n",
    "-0.8 & 0.1 & 0.2\\\\\n",
    "0.1 & -0.2 & 0.1\\\\\n",
    "0.53 & 0.1 & -0.13\n",
    "\\end{array}\n",
    "\\right|\n",
    "$"
   ]
  },
  {
   "cell_type": "markdown",
   "metadata": {},
   "source": [
    "Также проверим результат через умножение матрицы $A$ на обратную матрицу $A^{-1}$ в результате должна получиться единичная матрица:\n",
    "## $A \\cdot A^{-1}\n",
    "=\n",
    "\\left|\n",
    "\\begin{array}{cccc}\n",
    "1 & 2 & 3\\\\\n",
    "4 & 0 & 6\\\\\n",
    "7 & 8 & 9\n",
    "\\end{array}\n",
    "\\right|\n",
    "\\cdot\n",
    "\\left|\n",
    "\\begin{array}{cccc}\n",
    "-0.8 & 0.1 & 0.2\\\\\n",
    "0.1 & -0.2 & 0.1\\\\\n",
    "0.53 & 0.1 & -0.13\n",
    "\\end{array}\n",
    "\\right|\n",
    "=\n",
    "$\n",
    "### $\n",
    "=\n",
    "\\left|\n",
    "\\begin{array}{cccc}\n",
    "1*-0.8+2*0.1+3*0.53 & 1*0.1+2*-0.2+3*0.1 & 1*0.2+2*0.1+3*-0.13\\\\\n",
    "4*-0.8+0*0.1+6*0.53 & 4*0.1+0*-0.2+6*0.1 & 4*0.2+0*0.1+6*-0.13\\\\\n",
    "7*-0.8+8*0.1+9*0.53 & 7*0.1+8*-0.2+9*0.1 & 7*0.2+8*0.1+9*-0.13\n",
    "\\end{array}\n",
    "\\right|\n",
    "=\n",
    "$\n",
    "## $\n",
    "= \\left|\n",
    "\\begin{array}{cccc}\n",
    "1 & 0 & 0\\\\\n",
    "0 & 1 & 0\\\\\n",
    "0 & 0 & 1\n",
    "\\end{array}\n",
    "\\right|\n",
    "= E\n",
    "$\n"
   ]
  },
  {
   "cell_type": "markdown",
   "metadata": {},
   "source": [
    "Проверим вычислениями на Питоне:"
   ]
  },
  {
   "cell_type": "code",
   "execution_count": 61,
   "metadata": {},
   "outputs": [
    {
     "name": "stdout",
     "output_type": "stream",
     "text": [
      "[[-0.8         0.1         0.2       ]\n",
      " [ 0.1        -0.2         0.1       ]\n",
      " [ 0.53333333  0.1        -0.13333333]]\n"
     ]
    },
    {
     "data": {
      "text/plain": [
       "array([[ 1.00000000e+00, -2.77555756e-17,  5.55111512e-17],\n",
       "       [ 0.00000000e+00,  1.00000000e+00,  1.11022302e-16],\n",
       "       [ 0.00000000e+00,  2.77555756e-17,  1.00000000e+00]])"
      ]
     },
     "execution_count": 61,
     "metadata": {},
     "output_type": "execute_result"
    }
   ],
   "source": [
    "b = np.linalg.inv(a)\n",
    "print(b)\n",
    "np.dot(a, b)"
   ]
  },
  {
   "cell_type": "markdown",
   "metadata": {},
   "source": [
    "###### 2. Приведите пример матрицы 4х4, ранг которой равен 1."
   ]
  },
  {
   "cell_type": "markdown",
   "metadata": {},
   "source": [
    "Примером матрицы с рангом 1 может быть любая квадратная матрица с одинаковыми ненулевыми элементами (миноры первого ранга будут все ненулевые, так как это элементы матрицы, а все миноры второго и выше ранга будут нулевые, так как определители матриц с одинаковыми элементами всегда нулевые) :\n",
    "## $\n",
    "\\left|\n",
    "\\begin{array}{cccc}\n",
    "5 & 5 & 5 & 5\\\\\n",
    "5 & 5 & 5 & 5\\\\\n",
    "5 & 5 & 5 & 5\\\\\n",
    "5 & 5 & 5 & 5\n",
    "\\end{array}\n",
    "\\right|\n",
    "$\n",
    "## $\n",
    "M_1 = 5\\\\\n",
    "M_2 = \\left| \n",
    "\\begin{array}{cccc}\n",
    "5 & 5\\\\ \n",
    "5 & 5\n",
    "\\end{array}\n",
    "\\right|\n",
    "= 5*5 -5*5 = 0\n",
    "$"
   ]
  },
  {
   "cell_type": "markdown",
   "metadata": {},
   "source": [
    "Проверим вычислениями на Питоне:"
   ]
  },
  {
   "cell_type": "code",
   "execution_count": 66,
   "metadata": {},
   "outputs": [
    {
     "name": "stdout",
     "output_type": "stream",
     "text": [
      "[[5 5 5 5]\n",
      " [5 5 5 5]\n",
      " [5 5 5 5]\n",
      " [5 5 5 5]]\n"
     ]
    },
    {
     "data": {
      "text/plain": [
       "1"
      ]
     },
     "execution_count": 66,
     "metadata": {},
     "output_type": "execute_result"
    }
   ],
   "source": [
    "c = np.array([[5, 5, 5, 5], [5, 5, 5, 5], [5, 5, 5, 5], [5, 5, 5, 5]])\n",
    "print(c)\n",
    "np.linalg.matrix_rank(c, 0.0001)"
   ]
  },
  {
   "cell_type": "markdown",
   "metadata": {},
   "source": [
    "### 4. Задание:"
   ]
  },
  {
   "cell_type": "markdown",
   "metadata": {},
   "source": [
    "###### Вычислите скалярное произведение двух векторов:  (1, 5)  и  (2, 8)\n"
   ]
  },
  {
   "cell_type": "markdown",
   "metadata": {},
   "source": [
    "_Вариант 1 (через сумму произведений координат)_\n",
    "### $\n",
    "S = 1 \\cdot 2 + 5 \\cdot 8 = 42\n",
    "$\n",
    "_Вариант 2 (через произведение норм и косинуса угла)_\n",
    "### $(\\vec a \\cdot \\vec b)  = a \\cdot b  \\cdot \\cos \\alpha =\\\\\n",
    "= \\sqrt{1^2 + 5^2} \\cdot \\sqrt{2^2 + 8^2} \\cdot \\cos|\\alpha_a - \\alpha_b| =\\\\\n",
    "= 5.10 \\cdot 8.25 \\cdot \\cos|\\alpha_a - \\alpha_b| =\\\\\n",
    "= 42.048 \\cdot \\cos|\\arctan\\frac{5}{1} - \\arctan\\frac{8}{2}| = \\\\\n",
    "= 42.048 \\cdot 0.999 = 42\n",
    "$"
   ]
  },
  {
   "cell_type": "markdown",
   "metadata": {},
   "source": [
    "Проверим вычислениями на Питоне:"
   ]
  },
  {
   "cell_type": "code",
   "execution_count": 80,
   "metadata": {},
   "outputs": [
    {
     "name": "stdout",
     "output_type": "stream",
     "text": [
      "42.0\n",
      "42.0\n"
     ]
    }
   ],
   "source": [
    "# Вариант 1 (через сумму произведений координат)\n",
    "a = np.array([1, 5], float)\n",
    "b = np.array([2, 8], float)\n",
    "s = np.inner(a, b)\n",
    "print(s)\n",
    "# Вариант 2 (через произведение норм и косинуса угла)\n",
    "s = np.linalg.norm(a) * np.linalg.norm(b) * np.cos(abs(np.arctan(5/1) - np.arctan(8/2)))\n",
    "print(s)"
   ]
  },
  {
   "cell_type": "markdown",
   "metadata": {},
   "source": [
    "### 5. Задание:"
   ]
  },
  {
   "cell_type": "markdown",
   "metadata": {},
   "source": [
    "###### Вычислите смешанное произведение трех векторов: (1, 5, 0), (2, 8, 7) и (7, 1.5, 3) \n"
   ]
  },
  {
   "cell_type": "code",
   "execution_count": 74,
   "metadata": {},
   "outputs": [
    {
     "name": "stdout",
     "output_type": "stream",
     "text": [
      "228.5\n",
      "228.5\n"
     ]
    }
   ],
   "source": [
    "a = np.array([1, 5, 0], float)\n",
    "b = np.array([2, 8, 7], float)\n",
    "c = np.array([7, 1.5, 3], float)\n",
    "v = np.cross(a, b)\n",
    "print (np.inner(v, c))\n",
    "w = np.cross(b, c)\n",
    "print (np.inner(w, a))"
   ]
  },
  {
   "cell_type": "markdown",
   "metadata": {},
   "source": [
    "# Задания к уроку 6"
   ]
  },
  {
   "cell_type": "markdown",
   "metadata": {},
   "source": [
    "### 1. Задание:"
   ]
  },
  {
   "cell_type": "markdown",
   "metadata": {},
   "source": [
    "Решите линейную систему:\n",
    "# $\n",
    "\\left[\\begin{matrix}\n",
    "1 & 2 & 3\\\\\n",
    "4 & 0 & 6\\\\\n",
    "7 & 8 & 9\n",
    "\\end{matrix}\n",
    "\\right]\\cdot X = \\left[\\begin{matrix}\n",
    "12\\\\\n",
    "2\\\\\n",
    "1\n",
    "\\end{matrix}\n",
    "\\right]\n",
    "$"
   ]
  },
  {
   "cell_type": "code",
   "execution_count": null,
   "metadata": {},
   "outputs": [],
   "source": []
  },
  {
   "cell_type": "markdown",
   "metadata": {},
   "source": [
    "### 2. Задание:"
   ]
  },
  {
   "cell_type": "markdown",
   "metadata": {},
   "source": [
    "Найдите псевдорешение:\n",
    "# $x + 2y - z = 1\\\\\n",
    "3x - 4y = 7\\\\\n",
    "8x - 5y + 2z = 12\\\\\n",
    "2x - 5z = 7\\\\\n",
    "11x + 4y - 7z = 15\n",
    "$"
   ]
  },
  {
   "cell_type": "code",
   "execution_count": null,
   "metadata": {
    "scrolled": true
   },
   "outputs": [],
   "source": []
  },
  {
   "cell_type": "markdown",
   "metadata": {},
   "source": [
    "### 3. Задание:"
   ]
  },
  {
   "cell_type": "markdown",
   "metadata": {},
   "source": [
    "Сколько решений имеет линейная система:\n",
    "# $\n",
    "\\left[\\begin{matrix}\n",
    "1 & 2 & 3\\\\\n",
    "4 & 5 & 6\\\\\n",
    "7 & 8 & 9\n",
    "\\end{matrix}\n",
    "\\right]\\cdot X = \\left[\\begin{matrix}\n",
    "12\\\\\n",
    "2\\\\\n",
    "1\n",
    "\\end{matrix}\n",
    "\\right]\n",
    "$"
   ]
  },
  {
   "cell_type": "code",
   "execution_count": null,
   "metadata": {},
   "outputs": [],
   "source": []
  },
  {
   "cell_type": "markdown",
   "metadata": {},
   "source": [
    "Если ноль – то измените вектор правой части так, чтобы система стала совместной, и решите ее."
   ]
  },
  {
   "cell_type": "code",
   "execution_count": null,
   "metadata": {},
   "outputs": [],
   "source": []
  },
  {
   "cell_type": "markdown",
   "metadata": {},
   "source": [
    "### 4. Задание:"
   ]
  },
  {
   "cell_type": "markdown",
   "metadata": {},
   "source": [
    " Вычислите LU-разложение матрицы:\n",
    " # $\n",
    "\\left[\\begin{matrix}\n",
    "1 & 2 & 3\\\\\n",
    "2 & 16 & 21\\\\\n",
    "4 & 28 & 73\n",
    "\\end{matrix}\n",
    "\\right]\n",
    "$"
   ]
  },
  {
   "cell_type": "code",
   "execution_count": null,
   "metadata": {},
   "outputs": [],
   "source": []
  },
  {
   "cell_type": "markdown",
   "metadata": {},
   "source": [
    "После этого придумайте вектор правых частей и решите полученную линейную систему трех уравнений с данной матрицей.\n"
   ]
  },
  {
   "cell_type": "code",
   "execution_count": null,
   "metadata": {},
   "outputs": [],
   "source": []
  },
  {
   "cell_type": "markdown",
   "metadata": {},
   "source": [
    "### 5. Задание:"
   ]
  },
  {
   "cell_type": "markdown",
   "metadata": {},
   "source": [
    "Найдите нормальное псевдорешение недоопределенной системы:\n",
    "# $\n",
    "x + 2y - z = 1\\\\\n",
    "8x - 5y + 2z = 12\n",
    "$\n",
    "Для этого определите функцию Q(x,y,z), равную норме решения, и найдите ее минимум. \n"
   ]
  },
  {
   "cell_type": "code",
   "execution_count": null,
   "metadata": {},
   "outputs": [],
   "source": []
  },
  {
   "cell_type": "markdown",
   "metadata": {},
   "source": [
    "### 6. Задание:"
   ]
  },
  {
   "cell_type": "markdown",
   "metadata": {},
   "source": [
    "Найдите одно из псевдорешений вырожденной системы:\n",
    "# $\n",
    "\\left[\\begin{matrix}\n",
    "1 & 2 & 3\\\\\n",
    "4 & 5 & 6\\\\\n",
    "7 & 8 & 9\n",
    "\\end{matrix}\n",
    "\\right]\\cdot X = \\left[\\begin{matrix}\n",
    "2\\\\\n",
    "5\\\\\n",
    "11\n",
    "\\end{matrix}\n",
    "\\right]\n",
    "$\n"
   ]
  },
  {
   "cell_type": "code",
   "execution_count": null,
   "metadata": {},
   "outputs": [],
   "source": []
  },
  {
   "cell_type": "markdown",
   "metadata": {
    "scrolled": true
   },
   "source": [
    "Попробуйте также отыскать и нормальное псевдорешение."
   ]
  },
  {
   "cell_type": "code",
   "execution_count": null,
   "metadata": {},
   "outputs": [],
   "source": []
  }
 ],
 "metadata": {
  "kernelspec": {
   "display_name": "Python 3",
   "language": "python",
   "name": "python3"
  },
  "language_info": {
   "codemirror_mode": {
    "name": "ipython",
    "version": 3
   },
   "file_extension": ".py",
   "mimetype": "text/x-python",
   "name": "python",
   "nbconvert_exporter": "python",
   "pygments_lexer": "ipython3",
   "version": "3.7.1"
  }
 },
 "nbformat": 4,
 "nbformat_minor": 2
}
