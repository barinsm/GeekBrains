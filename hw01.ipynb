{
 "cells": [
  {
   "cell_type": "markdown",
   "metadata": {},
   "source": [
    "## ДЗ к Уроку 1\n",
    "### Случайные события. Условная вероятность. Формула Байеса.  Независимые испытания"
   ]
  },
  {
   "cell_type": "markdown",
   "metadata": {},
   "source": [
    "### 1. Задание:"
   ]
  },
  {
   "cell_type": "markdown",
   "metadata": {},
   "source": [
    "Из колоды в 52 карты извлекаются случайным образом 4 карты. a) Найти вероятность того, что все карты – крести. б) Найти вероятность, что среди 4-х карт окажется хотя бы один туз."
   ]
  },
  {
   "cell_type": "markdown",
   "metadata": {},
   "source": [
    "Пусть событие A - вытащить 4 крестовые карты. Необходимо вычислить вероятность события P(A) - ?\n",
    "P = m / n\n",
    "\n",
    "Вычислим число исходов для 4 карт из масти крести (13 карт):\n",
    "$$C_{13}^{4} = \\frac{13!}{4!(13 - 4)!} = \\frac{13!}{4! \\cdot 9!} = \\frac{10 \\cdot 11 \\cdot 12 \\cdot 13}{4!} = \\frac{10 \\cdot 11 \\cdot 12 \\cdot 13}{2 \\cdot 3 \\cdot 4} = 715$$\n",
    "\n",
    "Вычислим число исходов для 4 карт из всей колоды:\n",
    "$$C_{52}^{4} = \\frac{52!}{4!(52 - 4)!} = \\frac{52!}{4! \\cdot 48!} = \\frac{49 \\cdot 50 \\cdot 51 \\cdot 52}{4!} = \\frac{49 \\cdot 50 \\cdot 51 \\cdot 52}{2 \\cdot 3 \\cdot 4} = 270725$$"
   ]
  },
  {
   "cell_type": "code",
   "execution_count": 7,
   "metadata": {},
   "outputs": [
    {
     "name": "stdout",
     "output_type": "stream",
     "text": [
      "715.0\n",
      "270725.0\n"
     ]
    }
   ],
   "source": [
    "import math \n",
    "C_4_13 = math.factorial(13) / (math.factorial(4) * math.factorial(13 - 4))\n",
    "print(C_4_13)\n",
    "C_4_52 = math.factorial(52) / (math.factorial(4) * math.factorial(52 - 4))\n",
    "print(C_4_52)"
   ]
  },
  {
   "cell_type": "markdown",
   "metadata": {},
   "source": [
    "### 2. Задание:"
   ]
  },
  {
   "cell_type": "markdown",
   "metadata": {},
   "source": [
    "На входной двери подъезда установлен кодовый замок, содержащий десять кнопок с цифрами от 0 до 9. Код содержит три цифры, которые нужно нажать одновременно. Какова вероятность того, что человек, не знающий код, откроет дверь с первой попытки?"
   ]
  },
  {
   "cell_type": "code",
   "execution_count": null,
   "metadata": {},
   "outputs": [],
   "source": []
  },
  {
   "cell_type": "markdown",
   "metadata": {},
   "source": [
    "### 3. Задание:"
   ]
  },
  {
   "cell_type": "markdown",
   "metadata": {},
   "source": [
    "В ящике имеется 15 деталей, из которых 9 окрашены. Рабочий случайным образом извлекает 3 детали. Какова вероятность того, что все извлеченные детали окрашены?"
   ]
  },
  {
   "cell_type": "code",
   "execution_count": null,
   "metadata": {},
   "outputs": [],
   "source": []
  },
  {
   "cell_type": "markdown",
   "metadata": {},
   "source": [
    "### 4. Задание:"
   ]
  },
  {
   "cell_type": "markdown",
   "metadata": {},
   "source": [
    "В лотерее 100 билетов. Из них 2 выигрышных. Какова вероятность того, что 2 приобретенных билета окажутся выигрышными?"
   ]
  },
  {
   "cell_type": "code",
   "execution_count": null,
   "metadata": {},
   "outputs": [],
   "source": []
  }
 ],
 "metadata": {
  "kernelspec": {
   "display_name": "Python 3",
   "language": "python",
   "name": "python3"
  },
  "language_info": {
   "codemirror_mode": {
    "name": "ipython",
    "version": 3
   },
   "file_extension": ".py",
   "mimetype": "text/x-python",
   "name": "python",
   "nbconvert_exporter": "python",
   "pygments_lexer": "ipython3",
   "version": "3.7.1"
  }
 },
 "nbformat": 4,
 "nbformat_minor": 2
}
