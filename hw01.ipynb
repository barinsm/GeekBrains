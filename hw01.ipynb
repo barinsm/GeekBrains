{
 "cells": [
  {
   "cell_type": "markdown",
   "metadata": {},
   "source": [
    "## ДЗ к Урок 1. Введение в PyTorch"
   ]
  },
  {
   "cell_type": "markdown",
   "metadata": {},
   "source": [
    "1. Добиться вразумительного результата от модели, собранной на занятии (3 угаданные картинки из 4 предложенных на семинаре). Варианты изменений:\n",
    "\n",
    "    a. изменение слоёв и их количества;\n",
    "    \n",
    "    b. изменение метода оптимизации; \n",
    "    \n",
    "    c. изменение процесса обучения; \n",
    "    \n",
    "    d. для продвинутых: преобразование данных."
   ]
  },
  {
   "cell_type": "markdown",
   "metadata": {},
   "source": [
    "2. Взять часть, где мы делали один шаг обучения, и обернуть его в цикл по схеме, как обучали модель в конце занятия."
   ]
  },
  {
   "attachments": {
    "image.png": {
     "image/png": "[encoded data removed]"
    }
   },
   "cell_type": "markdown",
   "metadata": {},
   "source": [
    "3. Переписать эту программу на PyTorch:\n",
    "![image.png](attachment:image.png)\n",
    "Не забудьте про реализацию функции forward! "
   ]
  },
  {
   "cell_type": "code",
   "execution_count": 54,
   "metadata": {},
   "outputs": [
    {
     "name": "stdout",
     "output_type": "stream",
     "text": [
      "Defaulting to user installation because normal site-packages is not writeable\n",
      "Requirement already satisfied: torch in /home/kompaso/.local/lib/python3.7/site-packages (1.4.0)\n",
      "Requirement already satisfied: torchvision in /home/kompaso/.local/lib/python3.7/site-packages (0.5.0)\n",
      "Requirement already satisfied: numpy in /home/kompaso/.local/lib/python3.7/site-packages (from torchvision) (1.18.5)\n",
      "Requirement already satisfied: pillow>=4.1.1 in /home/kompaso/.local/lib/python3.7/site-packages (from torchvision) (7.0.0)\n",
      "Requirement already satisfied: six in /home/kompaso/.local/lib/python3.7/site-packages (from torchvision) (1.15.0)\n",
      "\u001b[33mWARNING: You are using pip version 20.1; however, version 20.2.3 is available.\n",
      "You should consider upgrading via the '/usr/local/bin/python3.7 -m pip install --upgrade pip' command.\u001b[0m\n"
     ]
    }
   ],
   "source": [
    "!pip3 install torch torchvision"
   ]
  },
  {
   "cell_type": "code",
   "execution_count": 55,
   "metadata": {},
   "outputs": [
    {
     "name": "stdout",
     "output_type": "stream",
     "text": [
      "nvcc: NVIDIA (R) Cuda compiler driver\r\n",
      "Copyright (c) 2005-2017 NVIDIA Corporation\r\n",
      "Built on Fri_Nov__3_21:07:56_CDT_2017\r\n",
      "Cuda compilation tools, release 9.1, V9.1.85\r\n"
     ]
    }
   ],
   "source": [
    "!nvcc --version"
   ]
  },
  {
   "cell_type": "code",
   "execution_count": 56,
   "metadata": {},
   "outputs": [],
   "source": [
    "import torch\n",
    "import torchvision"
   ]
  },
  {
   "cell_type": "code",
   "execution_count": 57,
   "metadata": {},
   "outputs": [],
   "source": [
    "import numpy as np"
   ]
  },
  {
   "cell_type": "code",
   "execution_count": 59,
   "metadata": {},
   "outputs": [
    {
     "name": "stdout",
     "output_type": "stream",
     "text": [
      "X :\n",
      "[[0 1 2]\n",
      " [3 4 5]\n",
      " [6 7 8]]\n",
      "\n",
      "X размеры : (3, 3)\n",
      "\n",
      "X тип : <class 'numpy.ndarray'>\n",
      "\n"
     ]
    }
   ],
   "source": [
    "x = np.arange(9).reshape(3, 3)\n",
    "\n",
    "print(\"X :\\n%s\\n\" % x)\n",
    "print(\"X размеры : %s\\n\" % (x.shape,))\n",
    "print(\"X тип : %s\\n\" % (type(x)))\n",
    "# print(\"Добавим 10 :\\n%s\\n\" % (x + 10))\n",
    "# print(\"Среднее по строчке :\\n%s\\n\" % (x.mean(axis=-1)))\n",
    "# print(\"Среднее по столбцу :\\n%s\\n\" % (x.mean(axis=0)))"
   ]
  },
  {
   "cell_type": "markdown",
   "metadata": {},
   "source": [
    "##### PyTorch поддерживает разные типы тензоров:\n",
    "\n",
    "* HalfTensor: 16-bit float\n",
    "* FloatTensor: 32-bit float (torch.Tensor)\n",
    "* DoubleTensor: 64-bit float\n",
    "\n",
    "* ShortTensor: 16-bit int\n",
    "* IntTensor: 32-bit int\n",
    "* LongTensor: 64-bit int\n",
    "\n",
    "\n",
    "\n",
    "#####  Весь список:\n",
    "* https://pytorch.org/docs/stable/tensors.html"
   ]
  },
  {
   "cell_type": "markdown",
   "metadata": {},
   "source": [
    "##### Функция для вывода данных о тензоре:"
   ]
  },
  {
   "cell_type": "code",
   "execution_count": 60,
   "metadata": {},
   "outputs": [],
   "source": [
    "def print_tens_info(tensor):\n",
    "    print(\"X :\\n%s\\n\" % tensor)\n",
    "    print(\"X количество измерений:\\n%s\\n\" % tensor.dim())\n",
    "    print(\"X размеры : \",  tensor.size())\n",
    "    print(\"X тип : %s\\n\" % (tensor.type()))\n",
    "#     print(\"Добавим 10 :\\n%s\\n\" % (tensor + 10))\n",
    "#     print(\"Среднее по строчке :\\n%s\\n\" % (tensor.mean(axis=-1)))\n",
    "#     print(\"Среднее по столбцу :\\n%s\\n\" % (tensor.mean(axis=0)))\n",
    "    "
   ]
  },
  {
   "cell_type": "code",
   "execution_count": 74,
   "metadata": {},
   "outputs": [],
   "source": [
    "# y = np.arange(9).reshape(3, 3).astype(float)\n",
    "# x = torch.tensor(y)  \n",
    "# x = torch.DoubleTensor(3, 3, 3)\n",
    "x = torch.LongTensor([[1.0, 2.0],[2.0,3.0]])  "
   ]
  },
  {
   "cell_type": "code",
   "execution_count": 75,
   "metadata": {
    "scrolled": true
   },
   "outputs": [
    {
     "name": "stdout",
     "output_type": "stream",
     "text": [
      "X :\n",
      "tensor([[1, 2],\n",
      "        [2, 3]])\n",
      "\n",
      "X количество измерений:\n",
      "2\n",
      "\n",
      "X размеры :  torch.Size([2, 2])\n",
      "X тип : torch.LongTensor\n",
      "\n"
     ]
    }
   ],
   "source": [
    "print_tens_info(x)"
   ]
  },
  {
   "cell_type": "code",
   "execution_count": 76,
   "metadata": {},
   "outputs": [],
   "source": [
    "x = torch.arange(9).view(3,3) \n",
    "x = torch.arange(0,9).view(3,3).type(torch.float32)\n",
    "# y = np.arange(9).reshape(3, 3).astype(float)"
   ]
  },
  {
   "cell_type": "code",
   "execution_count": 77,
   "metadata": {
    "scrolled": true
   },
   "outputs": [
    {
     "name": "stdout",
     "output_type": "stream",
     "text": [
      "X :\n",
      "tensor([[0., 1., 2.],\n",
      "        [3., 4., 5.],\n",
      "        [6., 7., 8.]])\n",
      "\n",
      "X количество измерений:\n",
      "2\n",
      "\n",
      "X размеры :  torch.Size([3, 3])\n",
      "X тип : torch.FloatTensor\n",
      "\n"
     ]
    }
   ],
   "source": [
    "print_tens_info(x)"
   ]
  },
  {
   "cell_type": "markdown",
   "metadata": {},
   "source": [
    "#####  Из numpy в tensor и обратно"
   ]
  },
  {
   "cell_type": "code",
   "execution_count": 78,
   "metadata": {
    "scrolled": true
   },
   "outputs": [
    {
     "name": "stdout",
     "output_type": "stream",
     "text": [
      "X :\n",
      "[[0. 1. 2.]\n",
      " [3. 4. 5.]\n",
      " [6. 7. 8.]]\n",
      "\n",
      "X размеры : (3, 3)\n",
      "\n",
      "X тип : <class 'numpy.ndarray'>\n",
      "\n"
     ]
    }
   ],
   "source": [
    "x = x.numpy()\n",
    "print(\"X :\\n%s\\n\" % x)\n",
    "print(\"X размеры : %s\\n\" % (x.shape,))\n",
    "print(\"X тип : %s\\n\" % (type(x)))\n",
    "# print(\"Добавим 10 :\\n%s\\n\" % (x + 10))\n",
    "# print(\"Среднее по строчке :\\n%s\\n\" % (x.mean(axis=-1)))\n",
    "# print(\"Среднее по столбцу :\\n%s\\n\" % (x.mean(axis=0)))"
   ]
  },
  {
   "cell_type": "code",
   "execution_count": 79,
   "metadata": {},
   "outputs": [
    {
     "name": "stdout",
     "output_type": "stream",
     "text": [
      "X :\n",
      "tensor([[ 0.6482, -0.3881,  0.1024],\n",
      "        [-1.0829,  1.7242, -0.3081],\n",
      "        [ 1.1604,  0.6551,  1.5915]])\n",
      "\n",
      "X количество измерений:\n",
      "2\n",
      "\n",
      "X размеры :  torch.Size([3, 3])\n",
      "X тип : torch.FloatTensor\n",
      "\n"
     ]
    }
   ],
   "source": [
    "x = torch.randn(3, 3)\n",
    "print_tens_info(x)"
   ]
  },
  {
   "cell_type": "markdown",
   "metadata": {},
   "source": [
    "#####  Некоторые отличия:"
   ]
  },
  {
   "cell_type": "markdown",
   "metadata": {},
   "source": [
    "* ```x.astype('int64') -> x.type(torch.LongTensor)```\n",
    "* ``` np.concatenate ->\ttorch.cat ```\n",
    "* ``` np.multiply ->\ttorch.cmul ```\n",
    "* ``` np.copy(x) ->\tx:clone() ```\n"
   ]
  },
  {
   "cell_type": "markdown",
   "metadata": {},
   "source": [
    "### Градиент"
   ]
  },
  {
   "attachments": {
    "Simple-graph-example-260x300.png": {
     "image/png": "[encoded data removed]"
    }
   },
   "cell_type": "markdown",
   "metadata": {},
   "source": [
    "$$a = (b + c)*(c + 2) $$\n",
    "![Simple-graph-example-260x300.png](attachment:Simple-graph-example-260x300.png)"
   ]
  },
  {
   "cell_type": "code",
   "execution_count": 13,
   "metadata": {},
   "outputs": [],
   "source": [
    "from torch.autograd import Variable"
   ]
  },
  {
   "cell_type": "code",
   "execution_count": 80,
   "metadata": {},
   "outputs": [
    {
     "data": {
      "text/plain": [
       "tensor([1., 1., 1.])"
      ]
     },
     "execution_count": 80,
     "metadata": {},
     "output_type": "execute_result"
    }
   ],
   "source": [
    "torch.ones(3)"
   ]
  },
  {
   "cell_type": "code",
   "execution_count": 82,
   "metadata": {},
   "outputs": [],
   "source": [
    "x = Variable(torch.ones(3), requires_grad = True)"
   ]
  },
  {
   "cell_type": "markdown",
   "metadata": {},
   "source": [
    "#### requires_grad \n",
    "Флаг, что необходимо автоматически вычислять градиент на тензоре при вызове функции .backward(). Если стоит False - градиент не нужен, обучение не происходит. \n",
    "Пример:"
   ]
  },
  {
   "cell_type": "code",
   "execution_count": 83,
   "metadata": {},
   "outputs": [
    {
     "name": "stdout",
     "output_type": "stream",
     "text": [
      "X :\n",
      "tensor([1., 1., 1.], requires_grad=True)\n",
      "\n",
      "X количество измерений:\n",
      "1\n",
      "\n",
      "X размеры :  torch.Size([3])\n",
      "X тип : torch.FloatTensor\n",
      "\n"
     ]
    }
   ],
   "source": [
    "print_tens_info(x)"
   ]
  },
  {
   "cell_type": "code",
   "execution_count": 84,
   "metadata": {},
   "outputs": [
    {
     "name": "stdout",
     "output_type": "stream",
     "text": [
      "None\n"
     ]
    }
   ],
   "source": [
    "print(x.grad)"
   ]
  },
  {
   "cell_type": "code",
   "execution_count": 85,
   "metadata": {},
   "outputs": [],
   "source": [
    "z = (x * x) + 5.0 * x #задание - посчитать производную ручками"
   ]
  },
  {
   "cell_type": "code",
   "execution_count": 89,
   "metadata": {},
   "outputs": [
    {
     "name": "stdout",
     "output_type": "stream",
     "text": [
      "X :\n",
      "tensor([6., 6., 6.], grad_fn=<AddBackward0>)\n",
      "\n",
      "X количество измерений:\n",
      "1\n",
      "\n",
      "X размеры :  torch.Size([3])\n",
      "X тип : torch.FloatTensor\n",
      "\n"
     ]
    }
   ],
   "source": [
    "print_tens_info(z)"
   ]
  },
  {
   "cell_type": "code",
   "execution_count": 86,
   "metadata": {},
   "outputs": [],
   "source": [
    "z.backward(torch.ones(3))"
   ]
  },
  {
   "cell_type": "code",
   "execution_count": 87,
   "metadata": {},
   "outputs": [
    {
     "name": "stdout",
     "output_type": "stream",
     "text": [
      "tensor([7., 7., 7.])\n"
     ]
    }
   ],
   "source": [
    "print(x.grad)"
   ]
  },
  {
   "cell_type": "markdown",
   "metadata": {},
   "source": [
    "#### Подключаемые модули"
   ]
  },
  {
   "cell_type": "code",
   "execution_count": 21,
   "metadata": {},
   "outputs": [],
   "source": [
    "from torch import nn \n",
    "from torch import optim"
   ]
  },
  {
   "cell_type": "markdown",
   "metadata": {},
   "source": [
    "* nn - формирование вычислительных графов для слоев нейронных сетей. TensorFlow: Keras.\n",
    "* optim - алгоритмы оптимизации (SGD, Adam и т.д.). TensorFlow: модуль optimizers.\n",
    "* Dataset – представление входных и выходных данных в разных форматах: TensorDataset, IterableDataset)\n",
    "* DataLoader преобразует Dataset в формат, с помощью которого можно контролировать размера пакета (batch size), перемешивать данные, распределять процессы и т.д. В TensorFlow за это отвечает модуль data."
   ]
  },
  {
   "cell_type": "code",
   "execution_count": 90,
   "metadata": {},
   "outputs": [],
   "source": [
    "linear = nn.Linear(2, 2)"
   ]
  },
  {
   "cell_type": "code",
   "execution_count": 91,
   "metadata": {
    "scrolled": true
   },
   "outputs": [
    {
     "name": "stdout",
     "output_type": "stream",
     "text": [
      "w:  Parameter containing:\n",
      "tensor([[-0.1135,  0.1813],\n",
      "        [ 0.3234,  0.6520]], requires_grad=True)\n",
      "b:  Parameter containing:\n",
      "tensor([0.5534, 0.2229], requires_grad=True)\n"
     ]
    }
   ],
   "source": [
    "print ('w: ', linear.weight)\n",
    "print ('b: ', linear.bias)"
   ]
  },
  {
   "cell_type": "code",
   "execution_count": 92,
   "metadata": {},
   "outputs": [],
   "source": [
    "criterion = nn.MSELoss()"
   ]
  },
  {
   "cell_type": "code",
   "execution_count": 93,
   "metadata": {},
   "outputs": [],
   "source": [
    "optimizer = torch.optim.SGD(linear.parameters(), lr=0.01)"
   ]
  },
  {
   "cell_type": "code",
   "execution_count": 94,
   "metadata": {},
   "outputs": [],
   "source": [
    "x = Variable(torch.randn(2), requires_grad = True)\n",
    "y = Variable(torch.randn(2), requires_grad = False)"
   ]
  },
  {
   "cell_type": "code",
   "execution_count": 95,
   "metadata": {
    "scrolled": true
   },
   "outputs": [
    {
     "name": "stdout",
     "output_type": "stream",
     "text": [
      "loss:  2.687652587890625\n"
     ]
    }
   ],
   "source": [
    "optimizer.zero_grad()\n",
    "pred = linear(x)\n",
    "loss = criterion(pred, y)\n",
    "print('loss: ', loss.item())"
   ]
  },
  {
   "cell_type": "code",
   "execution_count": 96,
   "metadata": {},
   "outputs": [
    {
     "name": "stdout",
     "output_type": "stream",
     "text": [
      "dL/dw:  None\n",
      "dL/db:  None\n"
     ]
    }
   ],
   "source": [
    "print ('dL/dw: ', linear.weight.grad) \n",
    "print ('dL/db: ', linear.bias.grad)"
   ]
  },
  {
   "cell_type": "code",
   "execution_count": 97,
   "metadata": {
    "scrolled": true
   },
   "outputs": [],
   "source": [
    "loss.backward()"
   ]
  },
  {
   "cell_type": "code",
   "execution_count": 98,
   "metadata": {},
   "outputs": [
    {
     "name": "stdout",
     "output_type": "stream",
     "text": [
      "dL/dw:  tensor([[ 1.9938, -1.6598],\n",
      "        [-2.6913,  2.2405]])\n",
      "dL/db:  tensor([ 1.3801, -1.8629])\n"
     ]
    }
   ],
   "source": [
    "print ('dL/dw: ', linear.weight.grad) \n",
    "print ('dL/db: ', linear.bias.grad)"
   ]
  },
  {
   "cell_type": "code",
   "execution_count": 31,
   "metadata": {},
   "outputs": [
    {
     "name": "stdout",
     "output_type": "stream",
     "text": [
      "w:  Parameter containing:\n",
      "tensor([[ 0.2045, -0.4792],\n",
      "        [ 0.1043,  0.1117]], requires_grad=True)\n",
      "b:  Parameter containing:\n",
      "tensor([-0.0256, -0.0523], requires_grad=True)\n"
     ]
    }
   ],
   "source": [
    "print ('w: ', linear.weight)\n",
    "print ('b: ', linear.bias)"
   ]
  },
  {
   "cell_type": "code",
   "execution_count": 99,
   "metadata": {},
   "outputs": [],
   "source": [
    "optimizer.step()"
   ]
  },
  {
   "cell_type": "code",
   "execution_count": 100,
   "metadata": {},
   "outputs": [
    {
     "name": "stdout",
     "output_type": "stream",
     "text": [
      "w:  Parameter containing:\n",
      "tensor([[-0.1334,  0.1979],\n",
      "        [ 0.3503,  0.6296]], requires_grad=True)\n",
      "b:  Parameter containing:\n",
      "tensor([0.5396, 0.2415], requires_grad=True)\n"
     ]
    }
   ],
   "source": [
    "print ('w: ', linear.weight)\n",
    "print ('b: ', linear.bias)"
   ]
  },
  {
   "cell_type": "markdown",
   "metadata": {},
   "source": [
    "#### Загрузка существующего датасета:"
   ]
  },
  {
   "cell_type": "code",
   "execution_count": 34,
   "metadata": {},
   "outputs": [],
   "source": [
    "import torchvision.transforms as transforms\n",
    "import matplotlib.pyplot as plt ### воспользуемся для отображения изображения"
   ]
  },
  {
   "cell_type": "code",
   "execution_count": 107,
   "metadata": {},
   "outputs": [
    {
     "name": "stdout",
     "output_type": "stream",
     "text": [
      "torch.Size([3, 32, 32])\n",
      "6\n"
     ]
    }
   ],
   "source": [
    "train_dataset = torchvision.datasets.CIFAR10(root='../../data/',\n",
    "                                             train=True,  \n",
    "                                             transform=transforms.ToTensor(), \n",
    "                                             download=False)\n",
    "\n",
    "\n",
    "image, label = train_dataset[0]\n",
    "print (image.size())\n",
    "print (label)"
   ]
  },
  {
   "cell_type": "code",
   "execution_count": 36,
   "metadata": {
    "scrolled": true
   },
   "outputs": [
    {
     "data": {
      "text/plain": [
       "<matplotlib.image.AxesImage at 0x7f6fc57bbe10>"
      ]
     },
     "execution_count": 36,
     "metadata": {},
     "output_type": "execute_result"
    },
    {
     "data": {
      "image/png": "[encoded data removed]",
      "text/plain": [
       "<Figure size 432x288 with 1 Axes>"
      ]
     },
     "metadata": {
      "needs_background": "light"
     },
     "output_type": "display_data"
    }
   ],
   "source": [
    "plt.imshow(image.permute(1, 2, 0).numpy())"
   ]
  },
  {
   "cell_type": "code",
   "execution_count": 108,
   "metadata": {},
   "outputs": [],
   "source": [
    "train_loader = torch.utils.data.DataLoader(dataset=train_dataset,\n",
    "                                           batch_size=64, \n",
    "                                           shuffle=True)"
   ]
  },
  {
   "cell_type": "code",
   "execution_count": 102,
   "metadata": {},
   "outputs": [
    {
     "name": "stdout",
     "output_type": "stream",
     "text": [
      "Files already downloaded and verified\n"
     ]
    }
   ],
   "source": [
    "test_dataset = torchvision.datasets.CIFAR10(root='./data', train=False,\n",
    "                                       download=True, transform=transforms.ToTensor())\n",
    "test_loader = torch.utils.data.DataLoader(test_dataset, batch_size=4,\n",
    "                                         shuffle=False)"
   ]
  },
  {
   "cell_type": "code",
   "execution_count": 103,
   "metadata": {},
   "outputs": [],
   "source": [
    "classes = ('plane', 'car', 'bird', 'cat',\n",
    "           'deer', 'dog', 'frog', 'horse', 'ship', 'truck')"
   ]
  },
  {
   "cell_type": "markdown",
   "metadata": {},
   "source": [
    "Определим следующую модель:"
   ]
  },
  {
   "cell_type": "code",
   "execution_count": 112,
   "metadata": {},
   "outputs": [],
   "source": [
    "import torch.nn.functional as F\n",
    "\n",
    "\n",
    "class Net(nn.Module):\n",
    "    def __init__(self):\n",
    "        super().__init__()\n",
    "        self.conv1 = nn.Conv2d(3, 6, 5)\n",
    "        self.pool = nn.MaxPool2d(2, 2)\n",
    "        self.conv2 = nn.Conv2d(6, 16, 5)\n",
    "        self.fc1 = nn.Linear(16 * 5 * 5, 120)\n",
    "        self.fc2 = nn.Linear(120, 84)\n",
    "        self.fc3 = nn.Linear(84, 10)\n",
    "\n",
    "    def forward(self, x):\n",
    "        x = self.pool(F.relu(self.conv1(x)))\n",
    "        x = self.pool(F.relu(self.conv2(x)))\n",
    "        x = x.view(-1, 16 * 5 * 5)\n",
    "        x = F.relu(self.fc1(x))\n",
    "        x = F.relu(self.fc2(x))\n",
    "        x = self.fc3(x)\n",
    "        return x\n",
    "\n",
    "\n",
    "net = Net().to('cpu')"
   ]
  },
  {
   "cell_type": "code",
   "execution_count": 109,
   "metadata": {},
   "outputs": [],
   "source": [
    "criterion = nn.CrossEntropyLoss()\n",
    "optimizer = optim.SGD(net.parameters(), lr=0.001, momentum=0.9)"
   ]
  },
  {
   "cell_type": "code",
   "execution_count": null,
   "metadata": {},
   "outputs": [
    {
     "name": "stdout",
     "output_type": "stream",
     "text": [
      "[1,     1] loss: 0.001\n",
      "[1,   301] loss: 0.345\n",
      "[1,   601] loss: 0.345\n",
      "[2,     1] loss: 0.001\n",
      "[2,   301] loss: 0.345\n",
      "[2,   601] loss: 0.345\n",
      "[3,     1] loss: 0.001\n"
     ]
    }
   ],
   "source": [
    "for epoch in range(10):  \n",
    "    running_loss = 0.0\n",
    "    for i, data in enumerate(train_loader, 0):\n",
    "        inputs, labels = data[0], data[1]\n",
    "\n",
    "        # обнуляем градиент\n",
    "        optimizer.zero_grad()\n",
    "\n",
    "        outputs = net(inputs)\n",
    "        loss = criterion(outputs, labels)\n",
    "        loss.backward()\n",
    "        optimizer.step()\n",
    "\n",
    "        # выводим статистику о процессе обучения\n",
    "        running_loss += loss.item()\n",
    "        if i % 300 == 0:    # печатаем каждые 300 mini-batches\n",
    "            print('[%d, %5d] loss: %.3f' %\n",
    "                  (epoch + 1, i + 1, running_loss / 2000))\n",
    "            running_loss = 0.0\n",
    "\n",
    "print('Training is finished!')"
   ]
  },
  {
   "cell_type": "markdown",
   "metadata": {},
   "source": [
    "#### Сохранение модели"
   ]
  },
  {
   "cell_type": "code",
   "execution_count": 43,
   "metadata": {},
   "outputs": [],
   "source": [
    "PATH = './cifar_net_version_test_intro.pth'\n",
    "torch.save(net.state_dict(), PATH)"
   ]
  },
  {
   "cell_type": "code",
   "execution_count": 53,
   "metadata": {},
   "outputs": [
    {
     "name": "stdout",
     "output_type": "stream",
     "text": [
      "Model state_dict: \n",
      "conv1.weight  \\  torch.Size([6, 3, 5, 5])\n",
      "conv1.bias  \\  torch.Size([6])\n",
      "conv2.weight  \\  torch.Size([16, 6, 5, 5])\n",
      "conv2.bias  \\  torch.Size([16])\n",
      "fc1.weight  \\  torch.Size([120, 400])\n",
      "fc1.bias  \\  torch.Size([120])\n",
      "fc2.weight  \\  torch.Size([84, 120])\n",
      "fc2.bias  \\  torch.Size([84])\n",
      "fc3.weight  \\  torch.Size([10, 84])\n",
      "fc3.bias  \\  torch.Size([10])\n"
     ]
    }
   ],
   "source": [
    "print(\"Model state_dict: \")\n",
    "for param in net.state_dict():\n",
    "    print(param,\" \\ \", net.state_dict()[param].size())"
   ]
  },
  {
   "cell_type": "markdown",
   "metadata": {},
   "source": [
    "#### Загрузка и использование модели "
   ]
  },
  {
   "cell_type": "code",
   "execution_count": 44,
   "metadata": {},
   "outputs": [
    {
     "data": {
      "text/plain": [
       "<All keys matched successfully>"
      ]
     },
     "execution_count": 44,
     "metadata": {},
     "output_type": "execute_result"
    }
   ],
   "source": [
    "net = Net()\n",
    "net.load_state_dict(torch.load(PATH))"
   ]
  },
  {
   "cell_type": "code",
   "execution_count": 45,
   "metadata": {},
   "outputs": [],
   "source": [
    "data_iter = iter(test_loader)\n",
    "images, labels = data_iter.next()"
   ]
  },
  {
   "cell_type": "code",
   "execution_count": 46,
   "metadata": {},
   "outputs": [
    {
     "name": "stdout",
     "output_type": "stream",
     "text": [
      "GroundTruth:    cat  ship  ship plane\n"
     ]
    },
    {
     "data": {
      "image/png": "[encoded data removed]",
      "text/plain": [
       "<Figure size 432x288 with 1 Axes>"
      ]
     },
     "metadata": {
      "needs_background": "light"
     },
     "output_type": "display_data"
    }
   ],
   "source": [
    "outputs = net(images)\n",
    "imgs = torchvision.utils.make_grid(images)\n",
    "plt.imshow(imgs.permute(1, 2, 0).numpy())\n",
    "print('GroundTruth: ', ' '.join('%5s' % classes[labels[j]] for j in range(4)))"
   ]
  },
  {
   "cell_type": "code",
   "execution_count": 47,
   "metadata": {},
   "outputs": [
    {
     "name": "stdout",
     "output_type": "stream",
     "text": [
      "tensor([[-1.0140, -0.4172,  0.7943,  1.7267, -0.3132,  1.6487,  1.0944, -1.3442,\n",
      "          0.3265, -0.2044],\n",
      "        [ 4.2120,  3.3777, -0.6366, -3.4576,  0.0717, -4.3322, -3.6657, -3.5366,\n",
      "          5.7506,  2.9089],\n",
      "        [ 2.1425,  3.7064, -1.0406, -2.0158, -1.0331, -2.6569, -2.5709, -2.9577,\n",
      "          3.7213,  3.1935],\n",
      "        [ 3.5605,  2.0153,  0.3879, -1.9209,  0.2129, -2.4324, -3.0770, -2.5827,\n",
      "          4.7159,  0.6809]], grad_fn=<AddmmBackward>)\n"
     ]
    }
   ],
   "source": [
    "print(outputs)"
   ]
  },
  {
   "cell_type": "code",
   "execution_count": 48,
   "metadata": {},
   "outputs": [
    {
     "name": "stdout",
     "output_type": "stream",
     "text": [
      "Predicted:    cat  ship  ship  ship\n"
     ]
    }
   ],
   "source": [
    "_, predicted = torch.max(outputs, 1)\n",
    "\n",
    "print('Predicted: ', ' '.join('%5s' % classes[predicted[j]]\n",
    "                              for j in range(4)))"
   ]
  },
  {
   "attachments": {
    "a0Rv7LQ_700b.jpg": {
     "image/jpeg": "[encoded data removed]"
    }
   },
   "cell_type": "markdown",
   "metadata": {},
   "source": [
    "![a0Rv7LQ_700b.jpg](attachment:a0Rv7LQ_700b.jpg)"
   ]
  },
  {
   "cell_type": "markdown",
   "metadata": {},
   "source": [
    "#### Подключение GPU "
   ]
  },
  {
   "cell_type": "code",
   "execution_count": 49,
   "metadata": {},
   "outputs": [
    {
     "name": "stdout",
     "output_type": "stream",
     "text": [
      "cuda:0\n"
     ]
    }
   ],
   "source": [
    "device = torch.device(\"cuda:0\" if torch.cuda.is_available() else \"cpu\")\n",
    "print(device)"
   ]
  },
  {
   "cell_type": "code",
   "execution_count": 50,
   "metadata": {},
   "outputs": [
    {
     "data": {
      "text/plain": [
       "tensor([[-1.1673e+00, -4.4547e-01,  1.0386e+00, -8.7516e-01, -3.5741e-01,\n",
       "          8.5138e-01, -1.1577e+00,  1.3708e+00, -5.2753e-01, -5.3392e-01],\n",
       "        [ 1.5675e-03, -3.4978e-01,  1.6073e+00, -1.7114e+00,  3.8542e-02,\n",
       "          3.1676e-01,  4.4632e-01, -1.1929e+00,  5.2055e-03, -6.4465e-01],\n",
       "        [ 1.4146e+00, -1.1439e-01,  1.2020e+00, -1.3957e-01, -1.9631e+00,\n",
       "          2.6970e-01, -6.7097e-01, -1.0678e+00,  8.9411e-01,  5.5723e-01],\n",
       "        [ 2.0426e-01,  1.3255e+00, -1.0611e+00, -3.0638e-01, -1.8725e-01,\n",
       "          5.4164e-01, -8.1759e-01,  1.0486e-01,  9.1875e-03, -2.4288e+00],\n",
       "        [-9.6765e-01, -1.0468e+00,  1.6859e-01,  1.0626e+00, -5.5881e-01,\n",
       "          3.3930e-01, -1.7819e-01, -4.2448e-01, -1.3382e+00, -5.8529e-01],\n",
       "        [ 1.2879e+00, -3.0908e-01,  5.6328e-01, -1.2010e+00,  1.4069e+00,\n",
       "          4.3076e-01, -6.8986e-01,  1.5604e+00, -4.8704e-01, -2.0964e+00],\n",
       "        [ 8.8558e-01, -4.8685e-01,  2.9001e-01,  1.5581e+00, -1.3618e+00,\n",
       "          1.5163e+00,  6.4413e-01, -1.0781e-01,  7.0673e-01,  6.7241e-01],\n",
       "        [ 7.2888e-01,  1.1845e-01, -1.7672e+00,  3.3296e-01,  4.5527e-01,\n",
       "         -1.4915e-01, -1.7216e+00, -3.7370e-02, -7.4740e-01, -2.7401e-02],\n",
       "        [-8.4331e-01, -3.0640e-01, -6.5792e-01, -1.0790e+00,  1.6824e-01,\n",
       "          7.0540e-01, -3.7004e-01,  1.1610e-01, -1.4765e-01,  4.2906e-01],\n",
       "        [ 2.0907e+00, -9.5635e-01, -4.8274e-01,  3.1891e-01, -9.2258e-01,\n",
       "         -1.8836e+00, -2.7632e-01, -1.3120e+00,  2.2688e-01,  9.2730e-01]],\n",
       "       device='cuda:0')"
      ]
     },
     "execution_count": 50,
     "metadata": {},
     "output_type": "execute_result"
    }
   ],
   "source": [
    "torch.randn(10, 10, device=device)"
   ]
  },
  {
   "cell_type": "code",
   "execution_count": 51,
   "metadata": {},
   "outputs": [
    {
     "data": {
      "text/plain": [
       "Net(\n",
       "  (conv1): Conv2d(3, 6, kernel_size=(5, 5), stride=(1, 1))\n",
       "  (pool): MaxPool2d(kernel_size=2, stride=2, padding=0, dilation=1, ceil_mode=False)\n",
       "  (conv2): Conv2d(6, 16, kernel_size=(5, 5), stride=(1, 1))\n",
       "  (fc1): Linear(in_features=400, out_features=120, bias=True)\n",
       "  (fc2): Linear(in_features=120, out_features=84, bias=True)\n",
       "  (fc3): Linear(in_features=84, out_features=10, bias=True)\n",
       ")"
      ]
     },
     "execution_count": 51,
     "metadata": {},
     "output_type": "execute_result"
    }
   ],
   "source": [
    "net.to(device)"
   ]
  },
  {
   "cell_type": "code",
   "execution_count": null,
   "metadata": {},
   "outputs": [],
   "source": []
  }
 ],
 "metadata": {
  "kernelspec": {
   "display_name": "Python 3",
   "language": "python",
   "name": "python3"
  },
  "language_info": {
   "codemirror_mode": {
    "name": "ipython",
    "version": 3
   },
   "file_extension": ".py",
   "mimetype": "text/x-python",
   "name": "python",
   "nbconvert_exporter": "python",
   "pygments_lexer": "ipython3",
   "version": "3.7.6"
  }
 },
 "nbformat": 4,
 "nbformat_minor": 4
}
