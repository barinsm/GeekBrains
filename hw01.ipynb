{
 "cells": [
  {
   "cell_type": "code",
   "execution_count": 1,
   "metadata": {},
   "outputs": [],
   "source": [
    "import numpy as np\n",
    "import matplotlib.pyplot as plt"
   ]
  },
  {
   "cell_type": "markdown",
   "metadata": {
    "colab_type": "text",
    "id": "huXrhXQsZTMt"
   },
   "source": [
    "1. Подберите скорость обучения (alpha) и количество итераций:"
   ]
  },
  {
   "cell_type": "code",
   "execution_count": 36,
   "metadata": {
    "colab": {
     "base_uri": "https://localhost:8080/",
     "height": 34
    },
    "colab_type": "code",
    "id": "VEXjDozNHdAo",
    "outputId": "7d12bb79-21b7-43fb-fd8e-d116a2af3bb7"
   },
   "outputs": [
    {
     "data": {
      "text/plain": [
       "(array([1. , 0.5]), 0.0001)"
      ]
     },
     "execution_count": 36,
     "metadata": {
      "tags": []
     },
     "output_type": "execute_result"
    }
   ],
   "source": [
    "n = X.shape[1]\n",
    "alpha = 1e-4\n",
    "W = np.array([1, 0.5])\n",
    "W, alpha"
   ]
  },
  {
   "cell_type": "code",
   "execution_count": 37,
   "metadata": {
    "colab": {
     "base_uri": "https://localhost:8080/",
     "height": 185
    },
    "colab_type": "code",
    "id": "IDB22MQKMYaJ",
    "outputId": "4c03219e-a57c-4583-f439-6699fd0619bb"
   },
   "outputs": [
    {
     "name": "stdout",
     "output_type": "stream",
     "text": [
      "0 [1.01102 0.534  ] 3173.15\n",
      "100 [2.02168794 3.452835  ] 2207.6942101483005\n",
      "200 [2.88306663 5.58962851] 1670.7027004086372\n",
      "300 [3.63289519 7.14848061] 1368.0832412796256\n",
      "400 [4.29908617 8.28027926] 1193.7493344933293\n",
      "500 [4.90228732 9.09657298] 1089.714750358689\n",
      "600 [5.45777535 9.67982684] 1024.2828984889416\n",
      "700 [ 5.97685612 10.0910047 ] 980.1260644155933\n",
      "800 [ 6.46789973 10.37517467] 947.770026039189\n",
      "900 [ 6.93710574 10.56565326] 922.0330206910178\n"
     ]
    }
   ],
   "source": [
    "for i in range(1000):\n",
    "  y_pred = np.dot(W, X)\n",
    "  err = calc_mse(y, y_pred)\n",
    "  for ii in range(W.shape[0]):\n",
    "    W[ii] -= alpha * (1/n * 2 * np.sum(X[ii] * (y_pred - y)))\n",
    "  if i % 100 == 0:\n",
    "    print(i, W, err)"
   ]
  },
  {
   "cell_type": "markdown",
   "metadata": {
    "colab_type": "text",
    "id": "5Qu1o4JhZYwI"
   },
   "source": [
    "*2. В этом коде мы избавляемся от итераций по весам, но тут есть ошибка, исправьте ее:"
   ]
  },
  {
   "cell_type": "code",
   "execution_count": 38,
   "metadata": {
    "colab": {
     "base_uri": "https://localhost:8080/",
     "height": 185
    },
    "colab_type": "code",
    "id": "WZZzDCQLY4pA",
    "outputId": "28f58ade-72f2-4381-809d-2417752d56e4",
    "scrolled": true
   },
   "outputs": [
    {
     "name": "stdout",
     "output_type": "stream",
     "text": [
      "0 [ 7.39000543 10.69151537] 900.0794345405571\n",
      "100 [ 7.82926291 11.13077285] 880.3833200630097\n",
      "200 [ 8.11878108 11.42029102] 871.8268647349327\n",
      "300 [ 8.30960485 11.61111479] 868.1097393158641\n",
      "400 [ 8.43537835 11.7368883 ] 866.494932617143\n",
      "500 [ 8.51827669 11.81978663] 865.7934226113582\n",
      "600 [ 8.57291566 11.8744256 ] 865.4886701672382\n",
      "700 [ 8.60892865 11.91043859] 865.3562785385644\n",
      "800 [ 8.6326651  11.93417504] 865.2987645015771\n",
      "900 [ 8.64830999 11.94981993] 865.2737790513362\n"
     ]
    }
   ],
   "source": [
    "for i in range(1000):\n",
    "  y_pred = np.dot(W, X)\n",
    "  err = calc_mse(y, y_pred)\n",
    "  '''for ii in range(W.shape[0]):\n",
    "    W[ii] -= alpha * (1/n * 2 * np.sum(X[ii] * (y_pred - y)))'''\n",
    "  W -= (alpha * (1/n * 2 * np.sum(X * (y_pred - y))))\n",
    "  if i % 100 == 0:\n",
    "    print(i, W, err)"
   ]
  },
  {
   "cell_type": "code",
   "execution_count": null,
   "metadata": {},
   "outputs": [],
   "source": []
  }
 ],
 "metadata": {
  "kernelspec": {
   "display_name": "Python 3",
   "language": "python",
   "name": "python3"
  },
  "language_info": {
   "codemirror_mode": {
    "name": "ipython",
    "version": 3
   },
   "file_extension": ".py",
   "mimetype": "text/x-python",
   "name": "python",
   "nbconvert_exporter": "python",
   "pygments_lexer": "ipython3",
   "version": "3.7.1"
  }
 },
 "nbformat": 4,
 "nbformat_minor": 2
}
