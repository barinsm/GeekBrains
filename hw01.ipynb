{
 "cells": [
  {
   "cell_type": "markdown",
   "metadata": {},
   "source": [
    "## Урок 1. Концепции хранения информации"
   ]
  },
  {
   "cell_type": "markdown",
   "metadata": {},
   "source": [
    "### Практическая работа"
   ]
  },
  {
   "cell_type": "markdown",
   "metadata": {},
   "source": [
    "1. Каждое из слов «разработка», «сокет», «декоратор» представить в строковом формате и проверить тип и содержание соответствующих переменных. Затем с помощью онлайн-конвертера преобразовать строковое представление в формат Unicode и также проверить тип и содержимое переменных."
   ]
  },
  {
   "cell_type": "code",
   "execution_count": 36,
   "metadata": {},
   "outputs": [
    {
     "name": "stdout",
     "output_type": "stream",
     "text": [
      "разработка\n",
      "<class 'str'>\n"
     ]
    }
   ],
   "source": [
    "data1 = \"разработка\"\n",
    "print(data1)\n",
    "print(type(data1))"
   ]
  },
  {
   "cell_type": "code",
   "execution_count": 37,
   "metadata": {},
   "outputs": [
    {
     "name": "stdout",
     "output_type": "stream",
     "text": [
      "сокет\n",
      "<class 'str'>\n"
     ]
    }
   ],
   "source": [
    "data2 = \"сокет\"\n",
    "print(data2)\n",
    "print(type(data2))"
   ]
  },
  {
   "cell_type": "code",
   "execution_count": 38,
   "metadata": {},
   "outputs": [
    {
     "name": "stdout",
     "output_type": "stream",
     "text": [
      "декоратор\n",
      "<class 'str'>\n"
     ]
    }
   ],
   "source": [
    "data3 = \"декоратор\"\n",
    "print(data3)\n",
    "print(type(data3))"
   ]
  },
  {
   "cell_type": "markdown",
   "metadata": {},
   "source": [
    "2. Каждое из слов «class», «function», «method» записать в байтовом типе без преобразования в последовательность кодов (не используя методы encode и decode) и определить тип, содержимое и длину соответствующих переменных."
   ]
  },
  {
   "cell_type": "code",
   "execution_count": 43,
   "metadata": {},
   "outputs": [
    {
     "name": "stdout",
     "output_type": "stream",
     "text": [
      "b'class'\n",
      "<class 'bytes'>\n",
      "5\n"
     ]
    }
   ],
   "source": [
    "data4 = b\"class\"\n",
    "print(data4)\n",
    "print(type(data4))\n",
    "print(len(data4))"
   ]
  },
  {
   "cell_type": "code",
   "execution_count": 44,
   "metadata": {},
   "outputs": [
    {
     "name": "stdout",
     "output_type": "stream",
     "text": [
      "b'function'\n",
      "<class 'bytes'>\n",
      "8\n"
     ]
    }
   ],
   "source": [
    "data5 = b\"function\"\n",
    "print(data5)\n",
    "print(type(data5))\n",
    "print(len(data5))"
   ]
  },
  {
   "cell_type": "code",
   "execution_count": 45,
   "metadata": {},
   "outputs": [
    {
     "name": "stdout",
     "output_type": "stream",
     "text": [
      "b'method'\n",
      "<class 'bytes'>\n",
      "6\n"
     ]
    }
   ],
   "source": [
    "data6 = b\"method\"\n",
    "print(data6)\n",
    "print(type(data6))\n",
    "print(len(data6))"
   ]
  },
  {
   "cell_type": "markdown",
   "metadata": {},
   "source": [
    "3. Определить, какие из слов «attribute», «класс», «функция», «type» невозможно записать в байтовом типе."
   ]
  },
  {
   "cell_type": "code",
   "execution_count": null,
   "metadata": {},
   "outputs": [],
   "source": []
  },
  {
   "cell_type": "markdown",
   "metadata": {},
   "source": [
    "4. Преобразовать слова «разработка», «администрирование», «protocol», «standard» из строкового представления в байтовое и выполнить обратное преобразование (используя методы encode и decode)."
   ]
  },
  {
   "cell_type": "code",
   "execution_count": null,
   "metadata": {},
   "outputs": [],
   "source": []
  },
  {
   "cell_type": "markdown",
   "metadata": {},
   "source": [
    "5. Выполнить пинг веб-ресурсов yandex.ru, youtube.com и преобразовать результаты из байтовового в строковый тип на кириллице."
   ]
  },
  {
   "cell_type": "code",
   "execution_count": null,
   "metadata": {},
   "outputs": [],
   "source": []
  },
  {
   "cell_type": "markdown",
   "metadata": {},
   "source": [
    "6. Создать текстовый файл test_file.txt, заполнить его тремя строками: «сетевое программирование», «сокет», «декоратор». Проверить кодировку файла по умолчанию. Принудительно открыть файл в формате Unicode и вывести его содержимое."
   ]
  },
  {
   "cell_type": "code",
   "execution_count": null,
   "metadata": {},
   "outputs": [],
   "source": []
  },
  {
   "cell_type": "markdown",
   "metadata": {},
   "source": [
    "### Необходимые и достаточные условия"
   ]
  },
  {
   "cell_type": "markdown",
   "metadata": {},
   "source": [
    "1. Реализовать приведение строк \"разработка\", \"сокет\", \"декоратор\" к типу bytes используя нативные методы строк;"
   ]
  },
  {
   "cell_type": "code",
   "execution_count": 14,
   "metadata": {},
   "outputs": [
    {
     "name": "stdout",
     "output_type": "stream",
     "text": [
      "b'\\xd1\\x80\\xd0\\xb0\\xd0\\xb7\\xd1\\x80\\xd0\\xb0\\xd0\\xb1\\xd0\\xbe\\xd1\\x82\\xd0\\xba\\xd0\\xb0'\n",
      "<class 'bytes'>\n"
     ]
    }
   ],
   "source": [
    "data1 = \"разработка\"\n",
    "data1b = data1.encode()\n",
    "print(data1b)\n",
    "print(type(data1b))"
   ]
  },
  {
   "cell_type": "code",
   "execution_count": 15,
   "metadata": {},
   "outputs": [
    {
     "name": "stdout",
     "output_type": "stream",
     "text": [
      "b'\\xd1\\x81\\xd0\\xbe\\xd0\\xba\\xd0\\xb5\\xd1\\x82'\n",
      "<class 'bytes'>\n"
     ]
    }
   ],
   "source": [
    "data2 = \"сокет\"\n",
    "data2b = data2.encode()\n",
    "print(data2b)\n",
    "print(type(data2b))"
   ]
  },
  {
   "cell_type": "code",
   "execution_count": 16,
   "metadata": {},
   "outputs": [
    {
     "name": "stdout",
     "output_type": "stream",
     "text": [
      "b'\\xd0\\xb4\\xd0\\xb5\\xd0\\xba\\xd0\\xbe\\xd1\\x80\\xd0\\xb0\\xd1\\x82\\xd0\\xbe\\xd1\\x80'\n",
      "<class 'bytes'>\n"
     ]
    }
   ],
   "source": [
    "data3 = \"декоратор\"\n",
    "data3b = data3.encode()\n",
    "print(data3b)\n",
    "print(type(data3b))"
   ]
  },
  {
   "cell_type": "markdown",
   "metadata": {},
   "source": [
    "2. Реализовать приведение полученных экземпляров типа bytes к типу str;"
   ]
  },
  {
   "cell_type": "code",
   "execution_count": 29,
   "metadata": {},
   "outputs": [
    {
     "name": "stdout",
     "output_type": "stream",
     "text": [
      "разработка\n",
      "<class 'str'>\n"
     ]
    }
   ],
   "source": [
    "data1s = data1b.decode()\n",
    "print(data1s)\n",
    "print(type(data1s))"
   ]
  },
  {
   "cell_type": "code",
   "execution_count": 30,
   "metadata": {},
   "outputs": [
    {
     "name": "stdout",
     "output_type": "stream",
     "text": [
      "сокет\n",
      "<class 'str'>\n"
     ]
    }
   ],
   "source": [
    "data2s = data2b.decode()\n",
    "print(data2s)\n",
    "print(type(data2s))"
   ]
  },
  {
   "cell_type": "code",
   "execution_count": 31,
   "metadata": {},
   "outputs": [
    {
     "name": "stdout",
     "output_type": "stream",
     "text": [
      "декоратор\n",
      "<class 'str'>\n"
     ]
    }
   ],
   "source": [
    "data3s = data3b.decode()\n",
    "print(data3s)\n",
    "print(type(data3s))"
   ]
  },
  {
   "cell_type": "markdown",
   "metadata": {},
   "source": [
    "3. Реализовать приведение полученных строк и байтовых последовательностей с использование различных кодировок utf-8 latin-1."
   ]
  },
  {
   "cell_type": "code",
   "execution_count": 26,
   "metadata": {},
   "outputs": [
    {
     "name": "stdout",
     "output_type": "stream",
     "text": [
      "ÑÐ¾ÐºÐµÑ\n"
     ]
    }
   ],
   "source": [
    "data1s_enc = data1s.encode('utf-8')\n",
    "print(data1s_enc.decode('latin-1'))"
   ]
  },
  {
   "cell_type": "code",
   "execution_count": 27,
   "metadata": {},
   "outputs": [
    {
     "name": "stdout",
     "output_type": "stream",
     "text": [
      "ÑÐ¾ÐºÐµÑ\n"
     ]
    }
   ],
   "source": [
    "data2s_enc = data2s.encode('utf-8')\n",
    "print(data2s_enc.decode('latin-1'))"
   ]
  },
  {
   "cell_type": "code",
   "execution_count": 28,
   "metadata": {},
   "outputs": [
    {
     "name": "stdout",
     "output_type": "stream",
     "text": [
      "Ð´ÐµÐºÐ¾ÑÐ°ÑÐ¾Ñ\n"
     ]
    }
   ],
   "source": [
    "data3s_enc = data3s.encode('utf-8')\n",
    "print(data3s_enc.decode('latin-1'))"
   ]
  },
  {
   "cell_type": "code",
   "execution_count": 33,
   "metadata": {},
   "outputs": [
    {
     "name": "stdout",
     "output_type": "stream",
     "text": [
      "ÑÐ°Ð·ÑÐ°Ð±Ð¾ÑÐºÐ°\n"
     ]
    }
   ],
   "source": [
    "data1b_dec = data1b.decode('latin-1')\n",
    "print(data1b_dec)"
   ]
  },
  {
   "cell_type": "code",
   "execution_count": 34,
   "metadata": {},
   "outputs": [
    {
     "name": "stdout",
     "output_type": "stream",
     "text": [
      "ÑÐ¾ÐºÐµÑ\n"
     ]
    }
   ],
   "source": [
    "data2b_dec = data2b.decode('latin-1')\n",
    "print(data2b_dec)"
   ]
  },
  {
   "cell_type": "code",
   "execution_count": 35,
   "metadata": {},
   "outputs": [
    {
     "name": "stdout",
     "output_type": "stream",
     "text": [
      "Ð´ÐµÐºÐ¾ÑÐ°ÑÐ¾Ñ\n"
     ]
    }
   ],
   "source": [
    "data3b_dec = data3b.decode('latin-1')\n",
    "print(data3b_dec)"
   ]
  },
  {
   "cell_type": "code",
   "execution_count": null,
   "metadata": {},
   "outputs": [],
   "source": []
  }
 ],
 "metadata": {
  "kernelspec": {
   "display_name": "Python 3",
   "language": "python",
   "name": "python3"
  },
  "language_info": {
   "codemirror_mode": {
    "name": "ipython",
    "version": 3
   },
   "file_extension": ".py",
   "mimetype": "text/x-python",
   "name": "python",
   "nbconvert_exporter": "python",
   "pygments_lexer": "ipython3",
   "version": "3.7.1"
  }
 },
 "nbformat": 4,
 "nbformat_minor": 2
}
