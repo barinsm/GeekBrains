{
 "cells": [
  {
   "cell_type": "markdown",
   "metadata": {},
   "source": [
    "## Урок 1. Основы клиент-серверного взаимодействия"
   ]
  },
  {
   "cell_type": "markdown",
   "metadata": {},
   "source": [
    "● Выбрать тематику данных: лучшего всего для этого посмотреть, какие сервисы есть в публичном доступе там, откуда вы сможете эти данные собрать. Нам нужны RESTful- и SOAP-сервисы."
   ]
  },
  {
   "cell_type": "code",
   "execution_count": null,
   "metadata": {},
   "outputs": [],
   "source": []
  },
  {
   "cell_type": "markdown",
   "metadata": {},
   "source": [
    "● Выполнить запрос методом GET к ресурсам, на которых есть данные/информация по выбранной теме, при помощи утилиты curl/приложения Postman/requests в Python. Полученный вывод сохранить в файл."
   ]
  },
  {
   "cell_type": "code",
   "execution_count": null,
   "metadata": {},
   "outputs": [],
   "source": []
  },
  {
   "cell_type": "markdown",
   "metadata": {},
   "source": [
    "● * Подготовить команду для любого запроса к API, использующему Basic Authorization"
   ]
  },
  {
   "cell_type": "code",
   "execution_count": null,
   "metadata": {},
   "outputs": [],
   "source": []
  }
 ],
 "metadata": {
  "kernelspec": {
   "display_name": "Python 3",
   "language": "python",
   "name": "python3"
  },
  "language_info": {
   "codemirror_mode": {
    "name": "ipython",
    "version": 3
   },
   "file_extension": ".py",
   "mimetype": "text/x-python",
   "name": "python",
   "nbconvert_exporter": "python",
   "pygments_lexer": "ipython3",
   "version": "3.7.1"
  }
 },
 "nbformat": 4,
 "nbformat_minor": 2
}
