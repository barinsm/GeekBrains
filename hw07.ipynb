{
 "cells": [
  {
   "cell_type": "markdown",
   "metadata": {},
   "source": [
    "## Урок 7. Вебинар “Производная функции одной переменной”"
   ]
  },
  {
   "cell_type": "markdown",
   "metadata": {},
   "source": [
    "### Найти производную функции:"
   ]
  },
  {
   "cell_type": "markdown",
   "metadata": {},
   "source": [
    "---\n",
    "1. $$y = \\frac{1}{x} + \\frac{2}{x^2} - \\frac{5}{x^3} + \\sqrt{x} - \\sqrt[3]{x} + \\frac{3}{\\sqrt{x}}$$"
   ]
  },
  {
   "cell_type": "markdown",
   "metadata": {},
   "source": [
    "С помощью производной от суммы и производных от степеней:"
   ]
  },
  {
   "cell_type": "markdown",
   "metadata": {},
   "source": [
    "$$\n",
    "y' = \\left(\\frac{1}{x} + \\frac{2}{x^2} - \\frac{5}{x^3} + \\sqrt{x} - \\sqrt[3]{x} + \\frac{3}{\\sqrt{x}}\\right)' = - \\frac{1}{x^2} - \\frac{4}{x^3} + \\frac{15}{x^4} + \\frac{1}{2\\sqrt{x}} - \\frac{1}{3\\sqrt[3]{x^2}} - \\frac{3}{2\\sqrt{x^3}}\n",
    "$$"
   ]
  },
  {
   "cell_type": "markdown",
   "metadata": {},
   "source": [
    "---\n",
    "2. $$y = x \\cdot \\sqrt{1 + x^2}$$"
   ]
  },
  {
   "cell_type": "markdown",
   "metadata": {},
   "source": [
    "С помощью производной от произведения и производных от степеней и вложенных функций:"
   ]
  },
  {
   "cell_type": "markdown",
   "metadata": {},
   "source": [
    "$$\n",
    "y' = \\left(x \\cdot \\sqrt{1 + x^2}\\right)' = (x)' \\cdot \\sqrt{1 + x^2} + \\left(\\sqrt{1 + x^2}\\right)' \\cdot x = 1 \\cdot \\sqrt{1 + x^2} + \\frac{1}{2\\sqrt{1 + x^2}} \\cdot 2x \\cdot x =\n",
    "$$"
   ]
  },
  {
   "cell_type": "markdown",
   "metadata": {},
   "source": [
    "$$\n",
    "= \\frac{\\sqrt{1 + x^2} \\cdot \\sqrt{1 + x^2}}{\\sqrt{1 + x^2}} + \\frac{x^2}{\\sqrt{1 + x^2}} = \\frac{1 + x^2 + x^2}{\\sqrt{1 + x^2}} = \\frac{1 + 2x^2}{\\sqrt{1 + x^2}}\n",
    "$$"
   ]
  },
  {
   "cell_type": "markdown",
   "metadata": {},
   "source": [
    "Вариант более простого решения без производной от произведения:"
   ]
  },
  {
   "cell_type": "markdown",
   "metadata": {},
   "source": [
    "$$\n",
    "y' = \\left(x \\cdot \\sqrt{1 + x^2}\\right)' = \\left(\\sqrt{x^2 + x^4}\\right)' = \\frac{1}{2\\sqrt{x^2 + x^4}} \\cdot (2x + 4x^3) = \\frac{2x(1 + 2x^2)}{2x\\sqrt{1 + x^2}} = \\frac{1 + 2x^2}{\\sqrt{1 + x^2}}\n",
    "$$"
   ]
  },
  {
   "cell_type": "markdown",
   "metadata": {},
   "source": [
    "---\n",
    "3. $$y = \\sqrt{x + \\sqrt{x}}$$"
   ]
  },
  {
   "cell_type": "markdown",
   "metadata": {},
   "source": [
    "С помощью производных от степеней и вложенных функций:"
   ]
  },
  {
   "cell_type": "markdown",
   "metadata": {},
   "source": [
    "$$\n",
    "y' = \\left(\\sqrt{x + \\sqrt{x}}\\right)' = \\frac{1}{2\\sqrt{x + \\sqrt{x}}} \\cdot \\left(1 + \\frac{1}{2\\sqrt{x}}\\right) = \\frac{1 + 2\\sqrt{x}}{4\\sqrt{x}\\sqrt{x + \\sqrt{x}}} = \\frac{1 + 2\\sqrt{x}}{4\\sqrt{x^2 + x\\sqrt{x}}}\n",
    "$$"
   ]
  },
  {
   "cell_type": "markdown",
   "metadata": {},
   "source": [
    "---\n",
    "4. \\* $$y = \\sqrt{x + \\sqrt{x + \\sqrt{x}}}$$"
   ]
  },
  {
   "cell_type": "markdown",
   "metadata": {},
   "source": [
    "С помощью производных от степеней и вложенных функций и значения производной из предыдушего задания:"
   ]
  },
  {
   "cell_type": "markdown",
   "metadata": {},
   "source": [
    "$$\n",
    "y' = \\left( \\sqrt{x + \\sqrt{x + \\sqrt{x}}} \\right)' = \\frac{1}{2\\sqrt{x + \\sqrt{x + \\sqrt{x}}}} \\cdot \\left( 1 + \\frac{1 + 2\\sqrt{x}}{4\\sqrt{x^2 + x\\sqrt{x}}} \\right)\n",
    "$$"
   ]
  },
  {
   "cell_type": "markdown",
   "metadata": {},
   "source": [
    "---\n",
    "5. $$y = (x^2 + 2)^5 \\cdot (3x - x^3)^3$$"
   ]
  },
  {
   "cell_type": "markdown",
   "metadata": {},
   "source": [
    "С помощью производной от произведения и производных от степеней и вложенных функций:"
   ]
  },
  {
   "cell_type": "markdown",
   "metadata": {},
   "source": [
    "$$\n",
    "y' = \\left( (x^2 + 2)^5 \\cdot (3x - x^3)^3 \\right)' = \\left( (x^2 + 2)^5 \\right)' \\cdot (3x - x^3)^3 + (x^2 + 2)^5 \\cdot \\left( (3x - x^3)^3 \\right)' =\n",
    "$$"
   ]
  },
  {
   "cell_type": "markdown",
   "metadata": {},
   "source": [
    "$$\n",
    "= 5 \\cdot (x^2 + 2)^4 \\cdot 2x \\cdot (3x - x^3)^3 + (x^2 + 2)^5 \\cdot 3 \\cdot (3x - x^3)^2 \\cdot (3 - 3 x^2) = 10x \\cdot (x^2 + 2)^4 \\cdot (3x - x^3)^3 + 9 \\cdot (1-x^2) \\cdot (x^2 + 2)^5 \\cdot (3x - x^3)^2\n",
    "$$"
   ]
  },
  {
   "cell_type": "markdown",
   "metadata": {},
   "source": [
    "С помощью логарифмирования и производных от вложенных функций:"
   ]
  },
  {
   "cell_type": "markdown",
   "metadata": {},
   "source": [
    "$$\n",
    "y' = \\left( (x^2 + 2)^5 \\cdot (3x - x^3)^3 \\right)'= (x^2 + 2)^5 \\cdot (3x - x^3)^3 \\cdot \\left( \\ln \\left( (x^2 + 2)^5 \\cdot (3x - x^3)^3 \\right) \\right)' = (x^2 + 2)^5 \\cdot (3x - x^3)^3 \\cdot \\left( \\frac{5}{x^2 + 2} \\cdot 2x + \\frac{3}{3x - x^3} \\cdot (3-3x^2) \\right) =\n",
    "$$"
   ]
  },
  {
   "cell_type": "markdown",
   "metadata": {},
   "source": [
    "$$\n",
    "= (x^2 + 2)^5 \\cdot (3x - x^3)^3 \\cdot \\left( \\frac{10x}{x^2 + 2} + \\frac{9 \\cdot (1-x^2)}{3x - x^3}\\right) = 10x \\cdot (x^2 + 2)^4 \\cdot (3x - x^3)^3 + 9 \\cdot (1-x^2) \\cdot (x^2 + 2)^5 \\cdot (3x - x^3)^2\n",
    "$$"
   ]
  },
  {
   "cell_type": "markdown",
   "metadata": {},
   "source": [
    "---\n",
    "6. \\* $$y = (1 + x) \\cdot (2 - x)^2 \\cdot (x^2 - 3x)^3 \\cdot \\sin x$$"
   ]
  },
  {
   "cell_type": "markdown",
   "metadata": {},
   "source": [
    "С помощью логарифмирования и производных от вложенных функций:"
   ]
  },
  {
   "cell_type": "markdown",
   "metadata": {},
   "source": [
    "$$\n",
    "y' = ((1 + x) \\cdot (2 - x)^2 \\cdot (x^2 - 3x)^3 \\cdot \\sin x)' = (1 + x) \\cdot (2 - x)^2 \\cdot (x^2 - 3x)^3 \\cdot \\sin x \\cdot \\left( \\frac{1}{1 + x} + \\frac{2}{2 - x} + \\frac{3}{x^2 - 3x} \\cdot (2x - 3) + \\frac{\\cos x}{\\sin x} \\right)\n",
    "$$"
   ]
  },
  {
   "cell_type": "markdown",
   "metadata": {},
   "source": [
    "---\n",
    "7. $$y = \\sqrt[x]{x}$$"
   ]
  },
  {
   "cell_type": "markdown",
   "metadata": {},
   "source": [
    "С помощью замены степени на _e_ в степени умноженной на логарифм основания и производных от вложенных функций:"
   ]
  },
  {
   "cell_type": "markdown",
   "metadata": {},
   "source": [
    "$$\n",
    "y' = \\left( \\sqrt[x]{x} \\right)' = \\left( x^\\frac{1}{x} \\right)' = \\left( e^{\\frac{1}{x}\\ln x} \\right)' = e^{\\frac{1}{x}\\ln x} \\cdot \\left( -\\frac{1}{x^2} \\cdot \\ln x + \\frac{1}{x} \\cdot \\frac{1}{x} \\right) = \\frac{\\sqrt[x]{x}}{x^2} \\cdot \\left( 1 - \\ln x  \\right)\n",
    "$$"
   ]
  },
  {
   "cell_type": "markdown",
   "metadata": {},
   "source": [
    "---\n",
    "8. $$y = \\frac{2x}{1 - x^2}$$"
   ]
  },
  {
   "cell_type": "markdown",
   "metadata": {},
   "source": [
    "С помощью производной от частного:"
   ]
  },
  {
   "cell_type": "markdown",
   "metadata": {},
   "source": [
    "$$\n",
    "y' = \\left( \\frac{2x}{1 - x^2} \\right)' = \\frac{(2x)' \\cdot (1 - x^2) - 2x \\cdot (1 - x^2)'}{(1 - x^2)^2} = \\frac{2 \\cdot (1 - x^2) - 2x \\cdot (-2x)}{(1 - x^2)^2} = \\frac{2 \\cdot ( 1 - x^2 + 2x^2)}{(1 - x^2)^2} = \\frac{2 \\cdot ( 1 + x^2)}{(1 - x^2)^2}\n",
    "$$"
   ]
  },
  {
   "cell_type": "markdown",
   "metadata": {},
   "source": [
    "С помощью логарифмирования и производных от вложенных функций:"
   ]
  },
  {
   "cell_type": "markdown",
   "metadata": {},
   "source": [
    "$$\n",
    "y' = \\left( \\frac{2x}{1 - x^2} \\right)' = \\frac{2x}{1 - x^2} \\cdot \\left( \\ln \\left( \\frac{2x}{1 - x^2} \\right) \\right)' = \\frac{2x}{1 - x^2} \\cdot \\left( \\frac{1}{x} - \\frac{-2x}{1 - x^2} \\right) = \\frac{2x}{1 - x^2} \\cdot \\left( \\frac{{1 - x^2 + 2x^2}}{x \\cdot (1 - x^2)} \\right) = \\frac{2 \\cdot ( 1 + x^2)}{(1 - x^2)^2}\n",
    "$$"
   ]
  },
  {
   "cell_type": "markdown",
   "metadata": {},
   "source": [
    "---\n",
    "9. $$y = \\frac{x}{(x + 1) \\cdot (2 - 3x)}$$"
   ]
  },
  {
   "cell_type": "markdown",
   "metadata": {},
   "source": []
  },
  {
   "cell_type": "markdown",
   "metadata": {},
   "source": [
    "---\n",
    "10. \\* $$y = \\frac{(2 - x^2)^3 \\cdot (x - 1)^2}{(2x^3 - 3x) \\cdot e^x}$$"
   ]
  },
  {
   "cell_type": "markdown",
   "metadata": {},
   "source": []
  },
  {
   "cell_type": "markdown",
   "metadata": {},
   "source": [
    "---\n",
    "11. $$y = \\ln\\left( x + \\sqrt{x^2 + 1}\\right)$$"
   ]
  },
  {
   "cell_type": "markdown",
   "metadata": {},
   "source": []
  },
  {
   "cell_type": "markdown",
   "metadata": {},
   "source": [
    "---\n",
    "12. $$y = x \\cdot \\ln\\left(x + \\sqrt{x^2 + 1}\\right) - \\sqrt{x^2 + 1}$$"
   ]
  },
  {
   "cell_type": "markdown",
   "metadata": {},
   "source": []
  },
  {
   "cell_type": "markdown",
   "metadata": {},
   "source": [
    "---\n",
    "13. \\* $$y = \\arcsin(\\sin x)$$"
   ]
  },
  {
   "cell_type": "markdown",
   "metadata": {},
   "source": []
  },
  {
   "cell_type": "markdown",
   "metadata": {},
   "source": [
    "---\n",
    "14. \\* Найти длину 𝑥 и ширину 𝑦 прямоугольника при заданном периметре 𝑃 = 144 см, при которых данный прямоугольник имеет наибольшую площадь 𝑆."
   ]
  },
  {
   "cell_type": "markdown",
   "metadata": {},
   "source": []
  }
 ],
 "metadata": {
  "kernelspec": {
   "display_name": "Python 3",
   "language": "python",
   "name": "python3"
  },
  "language_info": {
   "codemirror_mode": {
    "name": "ipython",
    "version": 3
   },
   "file_extension": ".py",
   "mimetype": "text/x-python",
   "name": "python",
   "nbconvert_exporter": "python",
   "pygments_lexer": "ipython3",
   "version": "3.7.1"
  }
 },
 "nbformat": 4,
 "nbformat_minor": 2
}
