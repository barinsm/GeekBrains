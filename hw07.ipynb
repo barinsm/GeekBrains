{
 "cells": [
  {
   "cell_type": "markdown",
   "metadata": {},
   "source": [
    "## Урок 7. Открытые данные"
   ]
  },
  {
   "cell_type": "markdown",
   "metadata": {},
   "source": [
    "1. Создать приложение, которое будет из готового файла с данными «Сбербанка» выводить результат по параметрам:\n",
    "\n",
    "Тип данных\n",
    "\n",
    "Интервал дат\n",
    "\n",
    "Область"
   ]
  },
  {
   "cell_type": "code",
   "execution_count": null,
   "metadata": {},
   "outputs": [],
   "source": [
    "import matplotlib.pyplot as plt\n",
    "import csv\n",
    "import datetime\n",
    "\n",
    "data_type = 'Средняя зарплата'\n",
    "date1 = datetime.date(2019, 8, 1)\n",
    "date2 = datetime.date(2019, 8, 30)\n",
    "area = 'Москва'\n",
    "\n",
    "with open('opendata.csv','r') as f:\n",
    "    reader=csv.DictReader(f)\n",
    "    field_names = reader.fieldnames\n",
    "    print(field_names)\n",
    "    money = []\n",
    "    date = []\n",
    "    for row in reader:\n",
    "        if (row['name'] == data_type and\n",
    "        row['region'] == area):\n",
    "            date.append(row['date'])\n",
    "            money.append(row['value'])\n",
    "\n",
    "plt.plot(date,money)\n",
    "plt.show()\n"
   ]
  },
  {
   "cell_type": "markdown",
   "metadata": {},
   "source": [
    "2. Визуализировать выводимые данные с помощью графика"
   ]
  },
  {
   "cell_type": "code",
   "execution_count": null,
   "metadata": {},
   "outputs": [],
   "source": []
  }
 ],
 "metadata": {
  "kernelspec": {
   "display_name": "Python 3",
   "language": "python",
   "name": "python3"
  },
  "language_info": {
   "codemirror_mode": {
    "name": "ipython",
    "version": 3
   },
   "file_extension": ".py",
   "mimetype": "text/x-python",
   "name": "python",
   "nbconvert_exporter": "python",
   "pygments_lexer": "ipython3",
   "version": "3.7.1"
  }
 },
 "nbformat": 4,
 "nbformat_minor": 2
}
