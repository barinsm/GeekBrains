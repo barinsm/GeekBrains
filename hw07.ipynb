{
 "cells": [
  {
   "cell_type": "markdown",
   "metadata": {},
   "source": [
    "## ДЗ к Уроку 7.\n",
    "### Многомерный статистический анализ. Линейная регрессия"
   ]
  },
  {
   "cell_type": "markdown",
   "metadata": {},
   "source": [
    "### 1. Задание:"
   ]
  },
  {
   "cell_type": "markdown",
   "metadata": {},
   "source": [
    "_Даны значения величины заработной платы заемщиков банка (zp) и значения их поведенческого кредитного скоринга (ks): zp = [35, 45, 190, 200, 40, 70, 54, 150, 120, 110], ks = [401, 574, 874, 919, 459, 739, 653, 902, 746, 832]. Используя математические операции, посчитать коэффициенты линейной регрессии, приняв за X заработную плату (то есть, zp - признак), а за y - значения скорингового балла (то есть, ks - целевая переменная). Произвести расчет как с использованием intercept, так и без._"
   ]
  },
  {
   "cell_type": "code",
   "execution_count": 25,
   "metadata": {},
   "outputs": [
    {
     "data": {
      "text/plain": [
       "(10,\n",
       " 2.620538882402765,\n",
       " 444.1773573243596,\n",
       " array([535.89621821, 562.10160703, 942.07974498, 968.2851338 ,\n",
       "        548.99891262, 627.61507909, 585.68645697, 837.25818968,\n",
       "        758.64202321, 732.43663439]),\n",
       " array([401, 574, 874, 919, 459, 739, 653, 902, 746, 832]),\n",
       " 6470.414201176658)"
      ]
     },
     "execution_count": 25,
     "metadata": {},
     "output_type": "execute_result"
    }
   ],
   "source": [
    "import numpy as np\n",
    "zp = [35, 45, 190, 200, 40, 70, 54, 150, 120, 110]\n",
    "ks = [401, 574, 874, 919, 459, 739, 653, 902, 746, 832]\n",
    "X = np.array(zp)\n",
    "y = np.array(ks)\n",
    "n = len(X)\n",
    "b = ( (X*y).mean() - X.mean() * y.mean() ) / ( (X**2).mean() - (X.mean()**2) )\n",
    "a = y.mean() - b * X.mean()\n",
    "y_pred = a + b * X\n",
    "mse = ((y - y_pred)**2).sum() / n\n",
    "n, b, a, y_pred, y, mse"
   ]
  },
  {
   "cell_type": "code",
   "execution_count": 26,
   "metadata": {},
   "outputs": [
    {
     "name": "stdout",
     "output_type": "stream",
     "text": [
      "X: [[ 35]\n",
      " [ 45]\n",
      " [190]\n",
      " [200]\n",
      " [ 40]\n",
      " [ 70]\n",
      " [ 54]\n",
      " [150]\n",
      " [120]\n",
      " [110]]\n",
      "y: [[401]\n",
      " [574]\n",
      " [874]\n",
      " [919]\n",
      " [459]\n",
      " [739]\n",
      " [653]\n",
      " [902]\n",
      " [746]\n",
      " [832]]\n",
      "B: [[5.88982042]]\n"
     ]
    }
   ],
   "source": [
    "# без intercept\n",
    "X = X.reshape(10,1)\n",
    "print('X:', X)\n",
    "y = y.reshape(10,1)\n",
    "print('y:',y)\n",
    "B = np.dot(np.linalg.inv(np.dot(X.T, X)), X.T @ y)\n",
    "print('B:',B)"
   ]
  },
  {
   "cell_type": "code",
   "execution_count": 27,
   "metadata": {},
   "outputs": [
    {
     "name": "stdout",
     "output_type": "stream",
     "text": [
      "X: [[  1.  35.]\n",
      " [  1.  45.]\n",
      " [  1. 190.]\n",
      " [  1. 200.]\n",
      " [  1.  40.]\n",
      " [  1.  70.]\n",
      " [  1.  54.]\n",
      " [  1. 150.]\n",
      " [  1. 120.]\n",
      " [  1. 110.]]\n",
      "B: [[444.17735732]\n",
      " [  2.62053888]]\n"
     ]
    }
   ],
   "source": [
    "# с intercept\n",
    "X = np.hstack([np.ones((10,1)), X])\n",
    "print('X:', X)\n",
    "B = np.dot(np.linalg.inv(np.dot(X.T, X)), X.T @ y)\n",
    "print('B:',B)"
   ]
  },
  {
   "cell_type": "markdown",
   "metadata": {},
   "source": [
    "### 2. Задание:"
   ]
  },
  {
   "cell_type": "markdown",
   "metadata": {},
   "source": [
    "_Посчитать коэффициент линейной регрессии при заработной плате (zp), используя градиентный спуск (без intercept)._"
   ]
  },
  {
   "cell_type": "code",
   "execution_count": null,
   "metadata": {},
   "outputs": [],
   "source": []
  },
  {
   "cell_type": "markdown",
   "metadata": {},
   "source": [
    "### 3. Задание:"
   ]
  },
  {
   "cell_type": "markdown",
   "metadata": {},
   "source": [
    "_В каких случаях для вычисления доверительных интервалов и проверки статистических гипотез используется таблица значений функции Лапласа, а в каких - таблица критических точек распределения Стьюдента?_"
   ]
  },
  {
   "cell_type": "code",
   "execution_count": null,
   "metadata": {},
   "outputs": [],
   "source": []
  },
  {
   "cell_type": "markdown",
   "metadata": {},
   "source": [
    "### 4. Задание:"
   ]
  },
  {
   "cell_type": "markdown",
   "metadata": {},
   "source": [
    "_Произвести вычисления как в пункте 2, но с вычислением intercept. Учесть, что изменение коэффициентов должно производиться на каждом шаге одновременно (то есть изменение одного коэффициента не должно влиять на изменение другого во время одной итерации)._"
   ]
  },
  {
   "cell_type": "code",
   "execution_count": null,
   "metadata": {},
   "outputs": [],
   "source": []
  }
 ],
 "metadata": {
  "kernelspec": {
   "display_name": "Python 3",
   "language": "python",
   "name": "python3"
  },
  "language_info": {
   "codemirror_mode": {
    "name": "ipython",
    "version": 3
   },
   "file_extension": ".py",
   "mimetype": "text/x-python",
   "name": "python",
   "nbconvert_exporter": "python",
   "pygments_lexer": "ipython3",
   "version": "3.7.1"
  }
 },
 "nbformat": 4,
 "nbformat_minor": 2
}
