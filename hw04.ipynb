{
 "cells": [
  {
   "cell_type": "markdown",
   "metadata": {},
   "source": [
    "## Урок 4. Видеоурок “Предел функции”"
   ]
  },
  {
   "cell_type": "markdown",
   "metadata": {},
   "source": [
    "### Тема “Предел функции”"
   ]
  },
  {
   "cell_type": "markdown",
   "metadata": {},
   "source": [
    "1. Предложить пример функции, не имеющей предела в нуле и в бесконечностях."
   ]
  },
  {
   "cell_type": "code",
   "execution_count": 5,
   "metadata": {},
   "outputs": [],
   "source": [
    "# Функция f_1(x) = sin (1/x) не имеет предела в нуле, а функция f_2(x) = sin (x) не имеет предела в минус и плюс бесконечности.\n",
    "# Если их сложить то получим функцию f(x) = sin (1/x) + sin(x), которая не имеет пределов в нуле и в бесконечностях.  "
   ]
  },
  {
   "cell_type": "markdown",
   "metadata": {},
   "source": [
    "2. Привести пример функции, не имеющей предела в точке, но определенной в ней."
   ]
  },
  {
   "cell_type": "code",
   "execution_count": 13,
   "metadata": {},
   "outputs": [],
   "source": [
    "# Пример функции, для которой не существует предела в точке x = 0, но значений функции в этой точке определено и равно 0:"
   ]
  },
  {
   "cell_type": "markdown",
   "metadata": {},
   "source": [
    "$$\n",
    "f(x)=\\left\\{\\begin{array}{cc}{0,} & {x \\leq 0} \\\\ {1,} & {x>0}\\end{array}\\right.\n",
    "$$"
   ]
  },
  {
   "cell_type": "markdown",
   "metadata": {},
   "source": [
    "3. Исследовать функцию $f(x)=x^3-x^2$ по плану:"
   ]
  },
  {
   "cell_type": "markdown",
   "metadata": {},
   "source": [
    "    a. Область задания (определения) и область значений."
   ]
  },
  {
   "cell_type": "code",
   "execution_count": 4,
   "metadata": {},
   "outputs": [],
   "source": [
    "# Область определения и область значений функции на всем диапозоне x от минус бесконечности до плюс бесконечности"
   ]
  },
  {
   "cell_type": "markdown",
   "metadata": {},
   "source": [
    "    b. Нули функции и их кратность."
   ]
  },
  {
   "cell_type": "code",
   "execution_count": 6,
   "metadata": {},
   "outputs": [],
   "source": [
    "# Нули существуют при x = 0 и x = 1 и кратность первого нуля 2, а второго 1."
   ]
  },
  {
   "cell_type": "markdown",
   "metadata": {},
   "source": [
    "    c. Отрезки знакопостоянства."
   ]
  },
  {
   "cell_type": "code",
   "execution_count": 7,
   "metadata": {},
   "outputs": [],
   "source": [
    "# Функция постоянно положительна на отрезке x>1 и постоянно отрицательна на отрезках х<0 и при 0<x<1."
   ]
  },
  {
   "cell_type": "markdown",
   "metadata": {},
   "source": [
    "    d. Интервалы монотонности."
   ]
  },
  {
   "cell_type": "code",
   "execution_count": 15,
   "metadata": {},
   "outputs": [],
   "source": [
    "# Функция монотонно возрастает на отрезках x<0 и x>0.65, а монотонно убывает на отрезке 0<x<0.65."
   ]
  },
  {
   "cell_type": "markdown",
   "metadata": {},
   "source": [
    "    e. Четность функции."
   ]
  },
  {
   "cell_type": "code",
   "execution_count": 12,
   "metadata": {},
   "outputs": [],
   "source": [
    "# Нечетная."
   ]
  },
  {
   "cell_type": "markdown",
   "metadata": {},
   "source": [
    "    f. Ограниченность."
   ]
  },
  {
   "cell_type": "code",
   "execution_count": 9,
   "metadata": {},
   "outputs": [],
   "source": [
    "# Не ограничена."
   ]
  },
  {
   "cell_type": "markdown",
   "metadata": {},
   "source": [
    "    g. Периодичность."
   ]
  },
  {
   "cell_type": "code",
   "execution_count": 11,
   "metadata": {},
   "outputs": [],
   "source": [
    "# Не периодична."
   ]
  },
  {
   "cell_type": "markdown",
   "metadata": {},
   "source": [
    "4. Найти предел:"
   ]
  },
  {
   "cell_type": "markdown",
   "metadata": {},
   "source": [
    "    a.\n",
    "$$\\lim_{x \\to 0} \\frac{3 x^3 - 2 x^2}{4 x^2}$$"
   ]
  },
  {
   "cell_type": "code",
   "execution_count": 16,
   "metadata": {},
   "outputs": [],
   "source": [
    "# Выносим в числителе x^2 за скобки и сокращаем его, получаем (3*x - 2) / 4, подставляем x=0 и получаем предел = - 1/2"
   ]
  },
  {
   "cell_type": "markdown",
   "metadata": {},
   "source": [
    "    b.*\n",
    "$$\\lim_{x \\to 0} \\frac{\\sqrt{1+x}-1}{\\sqrt[3]{1+x}-1}$$"
   ]
  },
  {
   "cell_type": "code",
   "execution_count": null,
   "metadata": {},
   "outputs": [],
   "source": []
  },
  {
   "cell_type": "markdown",
   "metadata": {},
   "source": [
    "    c.*\n",
    "$$\\lim_{x \\to \\infty}\\left(\\frac{x+3}{x}\\right)^{4 x+1}$$"
   ]
  },
  {
   "cell_type": "code",
   "execution_count": null,
   "metadata": {},
   "outputs": [],
   "source": []
  },
  {
   "cell_type": "markdown",
   "metadata": {},
   "source": [
    "### Тема “Теоремы о пределах”"
   ]
  },
  {
   "cell_type": "markdown",
   "metadata": {},
   "source": [
    "1. Найти предел:"
   ]
  },
  {
   "cell_type": "markdown",
   "metadata": {},
   "source": [
    "    a.\n",
    "$$\\lim_{x \\to 0} \\frac{\\sin (2 x)}{4 x}$$"
   ]
  },
  {
   "cell_type": "code",
   "execution_count": 17,
   "metadata": {},
   "outputs": [],
   "source": [
    "# При бесконечно малой величине меняем синус на его эквиалент, то есть аргумент синуса и получаем предел = 2x / 4 x = 1/2 "
   ]
  },
  {
   "cell_type": "markdown",
   "metadata": {},
   "source": [
    "    b.\n",
    "$$\\lim_{x \\to 0} \\frac{x}{\\sin (x)}$$"
   ]
  },
  {
   "cell_type": "code",
   "execution_count": null,
   "metadata": {},
   "outputs": [],
   "source": [
    "# Отножение двух эквивалентных бесконечно малых величин равно 1, то есть предел = 1"
   ]
  },
  {
   "cell_type": "markdown",
   "metadata": {},
   "source": [
    "    c.\n",
    "$$\\lim_{x \\to 0} \\frac{x}{\\arcsin (x)}$$"
   ]
  },
  {
   "cell_type": "code",
   "execution_count": null,
   "metadata": {},
   "outputs": [],
   "source": [
    "# Отножение двух эквивалентных бесконечно малых величин равно 1, то есть предел = 1"
   ]
  },
  {
   "cell_type": "markdown",
   "metadata": {},
   "source": [
    "    d.\n",
    "$$\\lim_{x \\to \\infty}\\left(\\frac{4 x+3}{4 x-3}\\right)^{6 x}$$"
   ]
  },
  {
   "cell_type": "code",
   "execution_count": null,
   "metadata": {},
   "outputs": [],
   "source": []
  },
  {
   "cell_type": "markdown",
   "metadata": {},
   "source": [
    "    e.*\n",
    "$$\\lim_{x \\to \\infty} \\frac{\\sin x+\\ln x}{x}$$"
   ]
  },
  {
   "cell_type": "code",
   "execution_count": null,
   "metadata": {},
   "outputs": [],
   "source": []
  },
  {
   "cell_type": "markdown",
   "metadata": {},
   "source": [
    "    f.*\n",
    "$$\\lim_{x \\to \\infty} \\frac{\\sin x+\\ln x}{x}$$"
   ]
  },
  {
   "cell_type": "code",
   "execution_count": null,
   "metadata": {},
   "outputs": [],
   "source": []
  }
 ],
 "metadata": {
  "kernelspec": {
   "display_name": "Python 3",
   "language": "python",
   "name": "python3"
  },
  "language_info": {
   "codemirror_mode": {
    "name": "ipython",
    "version": 3
   },
   "file_extension": ".py",
   "mimetype": "text/x-python",
   "name": "python",
   "nbconvert_exporter": "python",
   "pygments_lexer": "ipython3",
   "version": "3.7.1"
  }
 },
 "nbformat": 4,
 "nbformat_minor": 2
}
