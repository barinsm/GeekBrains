{
 "cells": [
  {
   "cell_type": "markdown",
   "metadata": {},
   "source": [
    "## ДЗ к Уроку 4.\n",
    "### Непрерывные случайные величины. Функция распределения и плотность распределения вероятностей. Равномерное и нормальное распределение. Центральная предельная теорема"
   ]
  },
  {
   "cell_type": "markdown",
   "metadata": {},
   "source": [
    "### 1. Задание:"
   ]
  },
  {
   "cell_type": "markdown",
   "metadata": {},
   "source": [
    "_Случайная непрерывная величина A имеет равномерное распределение на промежутке (200, 800]._\n",
    "\n",
    "_Найдите ее среднее значение и дисперсию._"
   ]
  },
  {
   "cell_type": "code",
   "execution_count": 4,
   "metadata": {},
   "outputs": [
    {
     "data": {
      "text/plain": [
       "(500.0, 30000.0)"
      ]
     },
     "execution_count": 4,
     "metadata": {},
     "output_type": "execute_result"
    }
   ],
   "source": [
    "a = 200\n",
    "b = 800\n",
    "M = (a + b) / 2\n",
    "D = (b - a)**2 / 12\n",
    "M, D"
   ]
  },
  {
   "cell_type": "markdown",
   "metadata": {},
   "source": [
    "### 2. Задание:"
   ]
  },
  {
   "cell_type": "markdown",
   "metadata": {},
   "source": [
    "_О случайной непрерывной равномерно распределенной величине B известно, что ее дисперсия равна 0.2._\n",
    "\n",
    "_Можно ли найти правую границу величины B и ее среднее значение зная, что левая граница равна 0.5?_\n",
    "\n",
    "_Если да, найдите ее._"
   ]
  },
  {
   "cell_type": "code",
   "execution_count": 8,
   "metadata": {},
   "outputs": [
    {
     "data": {
      "text/plain": [
       "(2.049193338482967, 1.2745966692414834)"
      ]
     },
     "execution_count": 8,
     "metadata": {},
     "output_type": "execute_result"
    }
   ],
   "source": [
    "import numpy as np\n",
    "D = 0.2\n",
    "a = 0.5\n",
    "b = np.sqrt(12 * D) + a\n",
    "M = (a + b) / 2\n",
    "b, M"
   ]
  },
  {
   "cell_type": "markdown",
   "metadata": {},
   "source": [
    "### 3. Задание:"
   ]
  },
  {
   "cell_type": "markdown",
   "metadata": {},
   "source": [
    "_Непрерывная случайная величина X распределена нормально и задана плотностью распределения_\n",
    "\n",
    "$$ f(x) = \\frac{1}{4 \\sqrt{2\\pi}} \\cdot \\frac{e^{-(x+2)^2}}{32}$$\n",
    "\n",
    "_Найдите:\n",
    "а). M(X)\n",
    "б). D(X)\n",
    "в). std(X) (среднее квадратичное отклонение)_"
   ]
  },
  {
   "cell_type": "code",
   "execution_count": null,
   "metadata": {},
   "outputs": [],
   "source": []
  },
  {
   "cell_type": "markdown",
   "metadata": {},
   "source": [
    "### 4. Задание:"
   ]
  },
  {
   "cell_type": "markdown",
   "metadata": {},
   "source": [
    "_Рост взрослого населения города X имеет нормальное распределение._\n",
    "\n",
    "_Причем, средний рост равен 174 см, а среднее квадратичное отклонение равно 8 см._\n",
    "\n",
    "_Какова вероятность того, что случайным образом выбранный взрослый человек имеет рост:_\n",
    "_а). больше 182 см\n",
    "б). больше 190 см\n",
    "в). от 166 см до 190 см\n",
    "г). от 166 см до 182 см\n",
    "д). от 158 см до 190 см\n",
    "е). не выше 150 см или не ниже 190 см\n",
    "ё). не выше 150 см или не ниже 198 см\n",
    "ж). ниже 166 см._"
   ]
  },
  {
   "cell_type": "code",
   "execution_count": null,
   "metadata": {},
   "outputs": [],
   "source": []
  },
  {
   "cell_type": "markdown",
   "metadata": {},
   "source": [
    "### 5. Задание:"
   ]
  },
  {
   "cell_type": "markdown",
   "metadata": {},
   "source": [
    "_На сколько сигм (средних квадратичных отклонений) отклоняется рост человека, равный 190 см, от \n",
    "математического ожидания роста в популяции, в которой M(X) = 178 см и D(X) = 25 кв.см?_"
   ]
  },
  {
   "cell_type": "code",
   "execution_count": null,
   "metadata": {},
   "outputs": [],
   "source": []
  }
 ],
 "metadata": {
  "kernelspec": {
   "display_name": "Python 3",
   "language": "python",
   "name": "python3"
  },
  "language_info": {
   "codemirror_mode": {
    "name": "ipython",
    "version": 3
   },
   "file_extension": ".py",
   "mimetype": "text/x-python",
   "name": "python",
   "nbconvert_exporter": "python",
   "pygments_lexer": "ipython3",
   "version": "3.7.1"
  }
 },
 "nbformat": 4,
 "nbformat_minor": 2
}
