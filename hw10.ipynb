{
 "cells": [
  {
   "cell_type": "markdown",
   "metadata": {},
   "source": [
    "## Урок 10. Видеоурок “Интеграл. Ряды”"
   ]
  },
  {
   "cell_type": "markdown",
   "metadata": {},
   "source": [
    "### Тема 7 “Ряды”"
   ]
  },
  {
   "cell_type": "markdown",
   "metadata": {},
   "source": [
    "1. Исследовать ряд на сходимость, используя признак д’Аламбера:\n",
    "$$\\sum_{n=1}^{\\infty} \\frac{n^{n}}{(n !)^{2}}$$"
   ]
  },
  {
   "cell_type": "markdown",
   "metadata": {},
   "source": [
    "$$\n",
    "\\lim_{n \\to\\infty} \\frac{a_{n+1}}{a_{n}}=\\lim_{n \\to\\infty} \\frac{(n+1)^{n+1}}{((n+1) !)^{2}} : \\frac{n^{n}}{(n !)^{2}}=\\lim_{n \\to\\infty} \\frac{(n+1)^{n+1}}{(n+1)^{2} \\cdot n^{n}}=\\lim_{n \\to\\infty} \\frac{\\left(\\frac{n+1}{n}\\right)^{n}}{n+1}=\\lim_{n \\to\\infty} \\frac{e}{n+1}=0<1\n",
    "$$"
   ]
  },
  {
   "cell_type": "markdown",
   "metadata": {},
   "source": [
    "\\- ряд сходится"
   ]
  },
  {
   "cell_type": "markdown",
   "metadata": {},
   "source": [
    "2. Исследовать ряд на сходимость, используя радикальный признак Коши:\n",
    "$$\\sum_{n=1}^{\\infty} \\frac{n}{2^{n}}$$"
   ]
  },
  {
   "cell_type": "markdown",
   "metadata": {},
   "source": [
    "$$\n",
    "\\lim_{n \\to \\infty} \\sqrt[n]{a_{n}}=\\lim_{n \\to \\infty} \\sqrt[n]{\\frac{n}{2^{n}}}=\\lim_{n \\to \\infty} \\frac{\\sqrt[n]{n}}{2}=\\frac{1}{2}<1\n",
    "$$"
   ]
  },
  {
   "cell_type": "markdown",
   "metadata": {},
   "source": [
    "$$\n",
    "\\lim_{n \\to \\infty} \\frac{a_{n+1}}{a_{n}}=\\lim_{n \\to \\infty} \\frac{n+1}{2^{n+1}} : \\frac{n}{2^{n}}=\\lim_{n \\to \\infty} \\frac{n+1}{2 n}=\\frac{1}{2}<1\n",
    "$$"
   ]
  },
  {
   "cell_type": "markdown",
   "metadata": {},
   "source": [
    "\\- ряд сходится"
   ]
  },
  {
   "cell_type": "markdown",
   "metadata": {},
   "source": [
    "3. Исследовать ряд на сходимость, используя признак Лейбница:\n",
    "$$\\sum_{n=1}^{\\infty} \\frac{(-1)^{n}}{n+\\ln n}$$"
   ]
  },
  {
   "cell_type": "markdown",
   "metadata": {},
   "source": [
    "$$\n",
    "\\left\\{\\begin{array}{c}{\\lim_{n \\to \\infty}\\left|a_{n}\\right|=0} \\\\ {\\left|a_{n+1}\\right|<\\left|a_{n}\\right|} \\\\ {\\sum_{n=1}^{\\infty} \\frac{1}{n+\\ln n} \\sim O\\left(\\frac{1}{n^{1}}\\right)}\\end{array} \\Rightarrow \\sum_{n=1}^{\\infty} \\frac{(-1)^{n}}{n+\\ln n}\\right.\n",
    "$$"
   ]
  },
  {
   "cell_type": "markdown",
   "metadata": {},
   "source": [
    "\\- ряд сходится условно"
   ]
  },
  {
   "cell_type": "markdown",
   "metadata": {},
   "source": [
    "4. Исследовать ряд на сходимость, используя признак Раабе:\n",
    "$$\\sum_{n=1}^{\\infty} \\frac{3^{n}}{2^{n}}$$"
   ]
  },
  {
   "cell_type": "markdown",
   "metadata": {},
   "source": [
    "$$\n",
    "\\lim_{n \\to \\infty} n\\left(\\frac{a_{n}}{a_{n+1}}-1\\right)=\\lim_{n \\to \\infty} n\\left(\\frac{3^{n}}{2^{n}} : \\frac{3^{n+1}}{2^{n+1}}-1\\right)=\\lim_{n \\to \\infty} n\\left(-\\frac{1}{3}\\right)=-\\infty<1\n",
    "$$"
   ]
  },
  {
   "cell_type": "markdown",
   "metadata": {},
   "source": [
    "$$\n",
    "\\lim_{n \\to \\infty} \\frac{a_{n+1}}{a_{n}}=\\lim_{n \\to \\infty} \\frac{3^{n+1}}{2^{n+1}} : \\frac{3^{n}}{2^{n}}=\\frac{3}{2}>1\n",
    "$$"
   ]
  },
  {
   "cell_type": "markdown",
   "metadata": {},
   "source": [
    "\\- ряд расходится"
   ]
  },
  {
   "cell_type": "markdown",
   "metadata": {},
   "source": [
    "5. Разложить функцию по Тейлору в единице:\n",
    "$$f(x)=\\ln \\left(16 x^{2}\\right)$$"
   ]
  },
  {
   "cell_type": "markdown",
   "metadata": {},
   "source": [
    "$$\n",
    "\\ln \\left(16 x^{2}\\right)=\\frac{\\ln 16}{0 !}(x-1)^{0}+\\frac{2}{1 !}(x-1)^{1}-\\frac{2}{2 !}(x-1)^{2}+\\frac{2 \\cdot 2}{3 !}(x-1)^{3}-\\frac{2 \\cdot 3 !}{4 !}(x-1)^{4}+\\cdots=\\ln 16+2 \\sum_{n=1}^{\\infty}(-1)^{n-1} \\frac{(x-1)^{n}}{n}\n",
    "$$"
   ]
  },
  {
   "cell_type": "markdown",
   "metadata": {},
   "source": [
    "$$\n",
    "\\left(\\ln \\left(16 x^2\\right)\\right)'=\\frac{2}{x} \\quad \\left(\\ln \\left(16 x^2\\right)\\right)''=-\\frac{2}{x^{2}} \\\\ \\left(\\ln \\left(16 x^2\\right)\\right)'''=\\frac{2 \\cdot 2}{x^3} \\quad \\left(\\ln \\left(16 x^2\\right)\\right)''''=-\\frac{2 \\cdot 2 \\cdot 3}{x^4}\n",
    "$$"
   ]
  },
  {
   "cell_type": "markdown",
   "metadata": {},
   "source": [
    "6. \\* Дана функция\n",
    "$$f(x)=x^{2}$$"
   ]
  },
  {
   "cell_type": "markdown",
   "metadata": {},
   "source": [
    "    a. Разложить функцию в ряд Фурье по косинусам на отрезке \n",
    "$$x \\in[-2 ; 0]$$"
   ]
  },
  {
   "cell_type": "markdown",
   "metadata": {},
   "source": [
    "$$\n",
    "a_{0}=\\frac{1}{2 \\pi} \\int_{-2}^{0} f(x) d x=\\frac{1}{2 \\pi} \\int_{-2}^{0} x^{2} d x=\\frac{1}{2 \\pi}\\left.\\left(\\frac{x^{3}}{3}\\right)\\right|_{-2} ^{0}= 0 - \\frac{1}{2 \\pi}\\left(\\frac{(-2)^{3}}{3}\\right) = \\frac{4}{3 \\pi}\n",
    "$$"
   ]
  },
  {
   "cell_type": "markdown",
   "metadata": {},
   "source": [
    "$$\n",
    "a_{n}=\\frac{1}{\\pi} \\int_{-2}^{0} f(x) \\cos n x d x=\\frac{1}{\\pi} \\int_{-2}^{0} x^{2} \\cos n x d x=\\left.\\left(\\frac{1}{\\pi n} x^{2} \\sin n x\\right)\\right|_{-2}^{0}-\\frac{2}{\\pi n} \\int_{-2}^{0} x \\sin n x d x=\n",
    "$$"
   ]
  },
  {
   "cell_type": "markdown",
   "metadata": {},
   "source": [
    "$$\n",
    "= -\\frac{1}{\\pi n} (-2)^{2} \\sin (-2n) - \\frac{2}{\\pi n} \\int_{-2}^{0} x \\sin n x d x = -\\frac{4}{\\pi n} \\sin (-2n) + \\left.\\left(\\frac{2}{\\pi n^{2}} x \\cos n x\\right)\\right|_{-2}^{0}-\\frac{2}{\\pi n^{2}} \\int_{-2}^{0} \\cos n x d x=\n",
    "$$"
   ]
  },
  {
   "cell_type": "markdown",
   "metadata": {},
   "source": [
    "$$\n",
    "= -\\frac{4}{\\pi n} \\sin (-2n) - \\frac{2}{\\pi n^2} (-2) \\cos (-2n) -\\left. \\frac{2}{\\pi n^{3}} \\sin nx \\right|_{-2}^{0} = -\\frac{4}{\\pi n} \\sin (-2n) + \\frac{4}{\\pi n^2} \\cos (-2n) + \\frac{2}{\\pi n^3} \\sin (-2n)\n",
    "$$"
   ]
  },
  {
   "cell_type": "markdown",
   "metadata": {},
   "source": [
    "$$\n",
    "f(x)=\\frac{2}{3\\pi} + \\frac{4}{\\pi} \\sum_{n=1}^{\\infty} \\left(\\frac{\\sin (-2n)}{2n^{3}} + \\frac{\\cos(-2n)}{n^{2}} - \\frac{sin(-2n)}{n} \\right) \\cos (nx)\n",
    "$$"
   ]
  },
  {
   "cell_type": "markdown",
   "metadata": {},
   "source": [
    "    b. Построить график функции и ее разложения."
   ]
  },
  {
   "cell_type": "code",
   "execution_count": null,
   "metadata": {},
   "outputs": [],
   "source": []
  },
  {
   "cell_type": "markdown",
   "metadata": {},
   "source": [
    "### Тема 8 “Понятие об интеграле”"
   ]
  },
  {
   "cell_type": "markdown",
   "metadata": {},
   "source": [
    "1. Найти неопределенный интеграл:\n",
    "$$\\int\\left(2 x^{2}-2 x-1+\\sin x-\\cos x+\\ln x+e^{x}\\right) d x$$"
   ]
  },
  {
   "cell_type": "markdown",
   "metadata": {},
   "source": [
    "$$\n",
    "\\int 2 \\cdot \\frac{1}{3} \\cdot dx^3 - \\int dx^2 - \\int dx - \\int  d\\cos x - \\int d \\sin x + \\int d (x \\cdot \\ln x - x)  + \\int d e^x = \\frac{2}{3} \\cdot x^3 - x^2 - x - \\cos x - \\sin x + (x \\cdot \\ln x - x) + e^x + C\n",
    "$$"
   ]
  },
  {
   "cell_type": "markdown",
   "metadata": {},
   "source": [
    "2. Найти неопределенный интеграл:\n",
    "$$\\int\\left(2 x+6 x z^{2}-5 x^{2} y-3 \\ln z\\right) d x$$"
   ]
  },
  {
   "cell_type": "markdown",
   "metadata": {},
   "source": [
    "$$\n",
    "\\int dx^2 + \\int 3z^2 dx^2  - \\int \\frac{5}{3}y dx^3 - \\int 3 \\ln z dx = x^2 + 3z^2 x^2 - \\frac{5}{3}y x^3 - 3 \\ln z x\n",
    "$$"
   ]
  },
  {
   "cell_type": "markdown",
   "metadata": {},
   "source": [
    "3. Вычислить определенный интеграл:\n",
    "$$\\int_{0}^{\\pi} 3 x^{2} \\sin (2 x) d x$$"
   ]
  },
  {
   "cell_type": "markdown",
   "metadata": {},
   "source": [
    "$$\n",
    "-\\frac{3}{2}\\int_{0}^{\\pi} x^2 d\\cos(2x) = -\\frac{3}{2} \\left(x^2 \\cos(2x) - \\int_{0}^{\\pi} \\cos(2x) d(x^2)\\right) = -\\frac{3}{2} \\left( x^2 \\cos (2x) - \\int_{0}^{\\pi} x d\\sin(2x) \\right) = \n",
    "$$"
   ]
  },
  {
   "cell_type": "markdown",
   "metadata": {},
   "source": [
    "$$\n",
    "=-\\frac{3}{2} \\left( x^2 \\cos (2x) - \\left(x \\sin(2x) - \\int_{0}^{\\pi} \\sin(2x) dx \\right) \\right) = \\left. -\\frac{3}{2} \\left( x^2 \\cos (2x) - \\left(x \\sin(2x) + \\frac{1}{2}  \\cos(2x) \\right) \\right) \\right|_{0}^{\\pi} = \\left(-\\frac{3}{2} \\pi^2 + \\frac{3}{4}\\right) - \\frac{3}{4} = -\\frac{3}{2} \\pi^2 \n",
    "$$"
   ]
  },
  {
   "cell_type": "markdown",
   "metadata": {},
   "source": [
    "4. Найти неопределенный интеграл:\n",
    "$$\\int \\frac{1}{\\sqrt{x+1}} d x$$"
   ]
  },
  {
   "cell_type": "markdown",
   "metadata": {},
   "source": [
    "$$\n",
    "\\int \\frac{1}{\\sqrt{x+1}} d x = \\left[ \\sqrt{x+1} = t, \\quad x = t^2 -1, \\quad dx = 2t dt \\right] = \\int \\frac{1}{t} 2t dt = 2t + C = 2\\sqrt{x+1} + C\n",
    "$$"
   ]
  },
  {
   "cell_type": "code",
   "execution_count": null,
   "metadata": {},
   "outputs": [],
   "source": []
  }
 ],
 "metadata": {
  "kernelspec": {
   "display_name": "Python 3",
   "language": "python",
   "name": "python3"
  },
  "language_info": {
   "codemirror_mode": {
    "name": "ipython",
    "version": 3
   },
   "file_extension": ".py",
   "mimetype": "text/x-python",
   "name": "python",
   "nbconvert_exporter": "python",
   "pygments_lexer": "ipython3",
   "version": "3.7.1"
  }
 },
 "nbformat": 4,
 "nbformat_minor": 2
}
