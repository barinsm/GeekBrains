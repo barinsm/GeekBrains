{
 "cells": [
  {
   "cell_type": "markdown",
   "metadata": {},
   "source": [
    "## Урок 9. Вебинар “Производная функции нескольких переменных. Часть 2”"
   ]
  },
  {
   "cell_type": "markdown",
   "metadata": {},
   "source": [
    "#### Исследовать на условный экстремум:"
   ]
  },
  {
   "cell_type": "markdown",
   "metadata": {},
   "source": [
    "> 1. $U = 3 - 8x + 6y$, если $x^2 + y^2 = 36$"
   ]
  },
  {
   "cell_type": "markdown",
   "metadata": {},
   "source": [
    "$$L\\left(\\lambda_{1}, x, y\\right) = 3 - 8x + 6y+\\lambda_{1} \\cdot (x^2 + y^2 - 36)$$\n",
    "$$\\left\\{\\begin{array}{c}{L_x' = -8 + \\lambda_1 \\cdot 2x = 0} \\\\ {L_y' = 6 + \\lambda_1 \\cdot 2y = 0} \\\\ {L_{\\lambda_1}' = x^2+y^2-36=0}\\end{array} \\Rightarrow\\left\\{\\begin{array}{c}{x = \\frac{8}{2 \\lambda_1}} \\\\ {y = -\\frac{6}{2 \\lambda_1}} \\\\ {\\frac{64}{4 \\lambda_1^2}+\\frac{36}{4 \\lambda_1^2} = 36}\\end{array} \\Rightarrow\\left\\{\\begin{array}{c}{x = \\frac{8}{2 \\lambda_1}} \\\\ {y = -\\frac{6}{2 \\lambda_1}} \\\\ {\\lambda_1^2=\\frac{25}{36}}\\end{array}\\right.\\right.\\right.$$\n",
    "$$\\left(\\frac{5}{6},\\frac{48}{10},-\\frac{36}{10}\\right), \\quad\\left(-\\frac{5}{6},-\\frac{48}{10},\\frac{36}{10}\\right)$$\n",
    "$$\\begin{array}{ll}{L_{x x}'' = 2 \\lambda_1,} & {L_{y y}'' = 2 \\lambda_1,} & {L_{\\lambda_1 \\lambda_1}'' = 0} \\\\ {L_{x y}'' = 0,} & {L_{x \\lambda_1}'' = 2x,} & {L_{y \\lambda_1}'' = 2y}\\end{array}$$\n",
    "$$\\left(\\begin{array}{ccc}{L_{\\lambda_1 \\lambda_1}''} & {L_{\\lambda_1 x}''} & {L_{\\lambda_{1} y}''} \\\\ {L_{x \\lambda_{1}}''} & {L_{x x}''} & {L_{x y}''} \\\\ {L_{y \\lambda_{1}}''} & {L_{y x}''} & {L_{y y}''}\\end{array}\\right)=\\left(\\begin{array}{ccc}{0} & {2 x} & {2 y} \\\\ {2 x} & {2 \\lambda_{1}} & {0} \\\\ {2 y} & {0} & {2 \\lambda_{1}}\\end{array}\\right)$$\n",
    "$$\\left|\\begin{array}{ccc}{0} & {2 x} & {2 y} \\\\ {2 x} & {2 \\lambda_{1}} & {0} \\\\ {2 y} & {0} & {2 \\lambda_{1}}\\end{array}\\right|=0 \\cdot\\left|\\begin{array}{cc}{2 \\lambda_{1}} & {0} \\\\ {0} & {2 \\lambda_{1}}\\end{array}\\right|-2 x \\cdot\\left|\\begin{array}{cc}{2 x} & {0} \\\\ {2 y} & {2 \\lambda_{1}}\\end{array}\\right|+2 y \\cdot\\left|\\begin{array}{cc}{2 x} & {2 \\lambda_{1}} \\\\ {2 y} & {0}\\end{array}\\right|=$$\n",
    "$$\\begin{array}{c}{=0-2 x \\cdot\\left(2 x \\cdot 2 \\lambda_{1}-0\\right)+2 y \\cdot\\left(0-2 y \\cdot 2 \\lambda_{1}\\right)=} \\\\ {=-8 x^{2} \\lambda_{1}-8 y^{2} \\lambda_{1}=-8 \\lambda_{1}\\left(x^{2}+y^{2}\\right)}\\end{array}$$"
   ]
  },
  {
   "cell_type": "markdown",
   "metadata": {},
   "source": [
    "$\\left(\\frac{5}{6},\\frac{48}{10},-\\frac{36}{10}\\right)$ - условный минимум,\n",
    "$\\quad\\left(-\\frac{5}{6},-\\frac{48}{10},\\frac{36}{10}\\right)$ - условный максимум"
   ]
  },
  {
   "cell_type": "markdown",
   "metadata": {},
   "source": [
    "> 2. $U = 2x^2 + 12xy + 32y^2 + 15$, если $x^2 + 16y^2 = 64$"
   ]
  },
  {
   "cell_type": "code",
   "execution_count": null,
   "metadata": {},
   "outputs": [],
   "source": []
  },
  {
   "cell_type": "markdown",
   "metadata": {},
   "source": [
    "3. __Численно найти хотя бы один действительных корень системы нелинейных уравнений.__\n",
    "$$\\left\\{\\begin{array}{c}{x^2-y^2+3 x y^3-2 x^2 y^2+2 x-3 y-5=0} \\\\ {3 y^3-2 x^2+2 x^3 y-5 x^2 y^2+5=0}\\end{array}\\right.$$"
   ]
  },
  {
   "cell_type": "code",
   "execution_count": null,
   "metadata": {},
   "outputs": [],
   "source": []
  },
  {
   "cell_type": "markdown",
   "metadata": {},
   "source": [
    "4. \\* __Предложить алгоритм, который найдет все 5 действительных корней.__"
   ]
  },
  {
   "cell_type": "code",
   "execution_count": null,
   "metadata": {},
   "outputs": [],
   "source": []
  }
 ],
 "metadata": {
  "kernelspec": {
   "display_name": "Python 3",
   "language": "python",
   "name": "python3"
  },
  "language_info": {
   "codemirror_mode": {
    "name": "ipython",
    "version": 3
   },
   "file_extension": ".py",
   "mimetype": "text/x-python",
   "name": "python",
   "nbconvert_exporter": "python",
   "pygments_lexer": "ipython3",
   "version": "3.7.1"
  }
 },
 "nbformat": 4,
 "nbformat_minor": 2
}
