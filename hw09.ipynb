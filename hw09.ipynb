{
 "cells": [
  {
   "cell_type": "markdown",
   "metadata": {},
   "source": [
    "## Урок 9. Вебинар “Производная функции нескольких переменных. Часть 2”"
   ]
  },
  {
   "cell_type": "markdown",
   "metadata": {},
   "source": [
    "#### Исследовать на условный экстремум:"
   ]
  },
  {
   "cell_type": "markdown",
   "metadata": {},
   "source": [
    "> 1. $U = 3 - 8x + 6y$, если $x^2 + y^2 = 36$"
   ]
  },
  {
   "cell_type": "markdown",
   "metadata": {},
   "source": [
    "$$L\\left(\\lambda_{1}, x, y\\right) = 3 - 8x + 6y+\\lambda_{1} \\cdot (x^2 + y^2 - 36)$$"
   ]
  },
  {
   "cell_type": "markdown",
   "metadata": {},
   "source": [
    "$$\\left\\{\\begin{array}{l}{L_x' = -8 + \\lambda_1 \\cdot 2x = 0} \\\\ {L_y' = 6 + \\lambda_1 \\cdot 2y = 0} \\\\ {L_{\\lambda_1}' = x^2+y^2-36=0}\\end{array} \\Rightarrow\\left\\{\\begin{array}{l}{x = \\frac{8}{2 \\lambda_1}} \\\\ {y = -\\frac{6}{2 \\lambda_1}} \\\\ {\\frac{64}{4 \\lambda_1^2}+\\frac{36}{4 \\lambda_1^2} = 36}\\end{array} \\Rightarrow\\left\\{\\begin{array}{l}{x = \\frac{8}{2 \\lambda_1}} \\\\ {y = -\\frac{6}{2 \\lambda_1}} \\\\ {\\lambda_1^2=\\frac{25}{36}}\\end{array}\\right.\\right.\\right.$$"
   ]
  },
  {
   "cell_type": "markdown",
   "metadata": {},
   "source": [
    "$$\\left(\\frac{5}{6},\\frac{48}{10},-\\frac{36}{10}\\right), \\quad\\left(-\\frac{5}{6},-\\frac{48}{10},\\frac{36}{10}\\right)$$"
   ]
  },
  {
   "cell_type": "markdown",
   "metadata": {},
   "source": [
    "$$\\begin{array}{ll}{L_{x x}'' = 2 \\lambda_1,} & {L_{y y}'' = 2 \\lambda_1,} & {L_{\\lambda_1 \\lambda_1}'' = 0} \\\\ {L_{x y}'' = 0,} & {L_{x \\lambda_1}'' = 2x,} & {L_{y \\lambda_1}'' = 2y}\\end{array}$$"
   ]
  },
  {
   "cell_type": "markdown",
   "metadata": {},
   "source": [
    "$$\\left(\\begin{array}{ccc}{L_{\\lambda_1 \\lambda_1}''} & {L_{\\lambda_1 x}''} & {L_{\\lambda_{1} y}''} \\\\ {L_{x \\lambda_{1}}''} & {L_{x x}''} & {L_{x y}''} \\\\ {L_{y \\lambda_{1}}''} & {L_{y x}''} & {L_{y y}''}\\end{array}\\right)=\\left(\\begin{array}{ccc}{0} & {2 x} & {2 y} \\\\ {2 x} & {2 \\lambda_{1}} & {0} \\\\ {2 y} & {0} & {2 \\lambda_{1}}\\end{array}\\right)$$"
   ]
  },
  {
   "cell_type": "markdown",
   "metadata": {},
   "source": [
    "$$\\left|\\begin{array}{ccc}{0} & {2 x} & {2 y} \\\\ {2 x} & {2 \\lambda_{1}} & {0} \\\\ {2 y} & {0} & {2 \\lambda_{1}}\\end{array}\\right|=0 \\cdot\\left|\\begin{array}{cc}{2 \\lambda_{1}} & {0} \\\\ {0} & {2 \\lambda_{1}}\\end{array}\\right|-2 x \\cdot\\left|\\begin{array}{cc}{2 x} & {0} \\\\ {2 y} & {2 \\lambda_{1}}\\end{array}\\right|+2 y \\cdot\\left|\\begin{array}{cc}{2 x} & {2 \\lambda_{1}} \\\\ {2 y} & {0}\\end{array}\\right|=$$"
   ]
  },
  {
   "cell_type": "markdown",
   "metadata": {},
   "source": [
    "$$ = 0-2 x \\cdot\\left(2 x \\cdot 2 \\lambda_{1}-0\\right)+2 y \\cdot\\left(0-2 y \\cdot 2 \\lambda_{1}\\right)= $$"
   ]
  },
  {
   "cell_type": "markdown",
   "metadata": {},
   "source": [
    "$$ =-8 x^{2} \\lambda_{1}-8 y^{2} \\lambda_{1}=-8 \\lambda_{1}\\left(x^{2}+y^{2}\\right)$$"
   ]
  },
  {
   "cell_type": "markdown",
   "metadata": {},
   "source": [
    "$\\left(\\frac{5}{6},\\frac{48}{10},-\\frac{36}{10}\\right)$ - условный минимум,\n",
    "$\\quad\\left(-\\frac{5}{6},-\\frac{48}{10},\\frac{36}{10}\\right)$ - условный максимум"
   ]
  },
  {
   "cell_type": "markdown",
   "metadata": {},
   "source": [
    "> 2. $U = 2x^2 + 12xy + 32y^2 + 15$, если $x^2 + 16y^2 = 64$"
   ]
  },
  {
   "cell_type": "markdown",
   "metadata": {},
   "source": [
    "$$L\\left(\\lambda_{1}, x, y\\right) = 2x^2 + 12xy + 32y^2 + 15 +\\lambda_{1} \\cdot (x^2 + 16y^2 - 64)$$"
   ]
  },
  {
   "cell_type": "markdown",
   "metadata": {},
   "source": [
    "$$\\left\\{\\begin{array}{l}{L_x' = 4x + 12y + \\lambda_1 \\cdot 2x = 0} \\\\ {L_y' = 12x + 64y + \\lambda_1 \\cdot 32y = 0} \\\\ {L_{\\lambda_1}' = x^2 + 16y^2 - 64 = 0}\\end{array} \\Rightarrow\\left\\{\\begin{array}{l}{x = -\\frac{6y}{2 + \\lambda_1}} \\\\ {y = -\\frac{3x}{8(2 + \\lambda_1)} = \\frac{18y}{8(2 + \\lambda_1)^2}} \\\\ {\\frac{36y^2}{(2+\\lambda_1)^2} + \\frac{16 \\cdot 9x^2}{64(2+\\lambda_1)^2} = 64}\\end{array} \\right.\\right.$$"
   ]
  },
  {
   "cell_type": "markdown",
   "metadata": {},
   "source": [
    "3. __Численно найти хотя бы один действительных корень системы нелинейных уравнений.__\n",
    "$$\\left\\{\\begin{array}{c}{x^2-y^2+3 x y^3-2 x^2 y^2+2 x-3 y-5=0} \\\\ {3 y^3-2 x^2+2 x^3 y-5 x^2 y^2+5=0}\\end{array}\\right.$$"
   ]
  },
  {
   "cell_type": "code",
   "execution_count": 27,
   "metadata": {},
   "outputs": [
    {
     "name": "stdout",
     "output_type": "stream",
     "text": [
      "1.375687140388597 -0.17475798540737905\n",
      "1.2733020645285815 1.6620391224278988\n",
      "-0.3354880581300288 -1.1669260793756766\n"
     ]
    }
   ],
   "source": [
    "import numpy as np\n",
    "from scipy.optimize import fsolve, broyden1\n",
    "import math\n",
    "\n",
    "def equations(p):\n",
    "    x, y = p\n",
    "    return ((x**2-y**2+3*x*y**3-2*x**2*y**2+2*x-3*y-5), (3*y**3-2*x**2+2*x**3*y-5*x**2*y**2+5))\n",
    "\n",
    "# Численное решение нелинечной системы уравнений\n",
    "X1, Y1 =  fsolve(equations, (1, 1))\n",
    "print (X1, Y1)\n",
    "X2, Y2 =  fsolve(equations, (2, 2))\n",
    "print (X2, Y2)\n",
    "X3, Y3 =  fsolve(equations, (-1, -1))\n",
    "print (X3, Y3)"
   ]
  },
  {
   "cell_type": "markdown",
   "metadata": {},
   "source": [
    "4. \\* __Предложить алгоритм, который найдет все 5 действительных корней.__"
   ]
  },
  {
   "cell_type": "code",
   "execution_count": null,
   "metadata": {},
   "outputs": [],
   "source": []
  }
 ],
 "metadata": {
  "kernelspec": {
   "display_name": "Python 3",
   "language": "python",
   "name": "python3"
  },
  "language_info": {
   "codemirror_mode": {
    "name": "ipython",
    "version": 3
   },
   "file_extension": ".py",
   "mimetype": "text/x-python",
   "name": "python",
   "nbconvert_exporter": "python",
   "pygments_lexer": "ipython3",
   "version": "3.7.1"
  }
 },
 "nbformat": 4,
 "nbformat_minor": 2
}
