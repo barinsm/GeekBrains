{
 "cells": [
  {
   "cell_type": "markdown",
   "metadata": {},
   "source": [
    "## Урок 5. Вебинар “Предел функции”"
   ]
  },
  {
   "cell_type": "markdown",
   "metadata": {},
   "source": [
    "### Найти предел функции:"
   ]
  },
  {
   "cell_type": "markdown",
   "metadata": {},
   "source": [
    "1. $$\n",
    "\\lim_{x \\to \\infty} \\frac{(23-2x^2)(3x^2+17)^2}{4x^6+x-1}\n",
    "$$"
   ]
  },
  {
   "cell_type": "code",
   "execution_count": 34,
   "metadata": {},
   "outputs": [],
   "source": [
    "# Предел при x стемящемся к бесконечности имеет неопределенность вида бесконечность деленная на бесконечность.\n",
    "# Так как в числителе и знаменателе полиномы, то отбрасываем все кроме старших членов в самой большой степени."
   ]
  },
  {
   "cell_type": "markdown",
   "metadata": {},
   "source": [
    "$$\n",
    "\\lim_{x \\to \\infty} \\frac{(23-2x^2)(3x^2+17)^2}{4x^6+x-1} = \\frac{-2x^2 3^2x^4}{4x^6} = \\frac{-18x^6}{4x^6} = \\frac{-18}{4} = -\\frac{9}{2} = -4.5\n",
    "$$"
   ]
  },
  {
   "cell_type": "markdown",
   "metadata": {},
   "source": [
    "2. $$\n",
    "\\lim_{x \\to \\infty} \\frac{(97-2x)^3}{2x(3x^2+15)+8x}\n",
    "$$"
   ]
  },
  {
   "cell_type": "code",
   "execution_count": 2,
   "metadata": {},
   "outputs": [],
   "source": [
    "# Предел при x стемящемся к бесконечности имеет неопределенность вида бесконечность деленная на бесконечность.\n",
    "# Так как в числителе и знаменателе полиномы, то отбрасываем все кроме старших членов в самой большой степени."
   ]
  },
  {
   "cell_type": "markdown",
   "metadata": {},
   "source": [
    "$$\n",
    "\\lim_{x \\to \\infty} \\frac{(97-2x)^3}{2x(3x^2+15)+8x} = \\frac{(-2)^3x^3}{2x3x^2} = \\frac{-8x^3}{6x^3} = \\frac{-8}{6} = -\\frac{4}{3} = -1.(3) \n",
    "$$"
   ]
  },
  {
   "cell_type": "markdown",
   "metadata": {},
   "source": [
    "3. $$\n",
    "\\lim_{x \\to \\infty} \\frac{2x^3+13x(x+18)}{(27-x)(2x+19)^2}\n",
    "$$"
   ]
  },
  {
   "cell_type": "code",
   "execution_count": 3,
   "metadata": {},
   "outputs": [],
   "source": [
    "# Предел при x стемящемся к бесконечности имеет неопределенность вида бесконечность деленная на бесконечность.\n",
    "# Так как в числителе и знаменателе полиномы, то отбрасываем все кроме старших членов в самой большой степени."
   ]
  },
  {
   "cell_type": "markdown",
   "metadata": {},
   "source": [
    "$$\n",
    "\\lim_{x \\to \\infty} \\frac{2x^3+13x(x+18)}{(27-x)(2x+19)^2} = \\frac{2x^3}{-x2^2x^2} = \\frac{2x^3}{-4x^3} = \\frac{2}{-4} = -\\frac{1}{2} = -0.5\n",
    "$$"
   ]
  },
  {
   "cell_type": "markdown",
   "metadata": {},
   "source": [
    "4. $$\n",
    "\\lim_{x \\to 6} \\frac{x^2-36}{x^2-x-30}\n",
    "$$"
   ]
  },
  {
   "cell_type": "code",
   "execution_count": null,
   "metadata": {},
   "outputs": [],
   "source": []
  },
  {
   "cell_type": "markdown",
   "metadata": {},
   "source": [
    "5. $$\n",
    "\\lim_{x \\to 7} \\frac{x^2-49}{x^2-13x+42}\n",
    "$$"
   ]
  },
  {
   "cell_type": "code",
   "execution_count": null,
   "metadata": {},
   "outputs": [],
   "source": []
  },
  {
   "cell_type": "markdown",
   "metadata": {},
   "source": [
    "6. \\* $$\n",
    "\\lim_{x \\to 7} \\frac{\\sqrt{x+2}-\\sqrt[3]{x+20}}{\\sqrt[4]{x+9}-2}\n",
    "$$"
   ]
  },
  {
   "cell_type": "code",
   "execution_count": null,
   "metadata": {},
   "outputs": [],
   "source": []
  },
  {
   "cell_type": "markdown",
   "metadata": {},
   "source": [
    "7. $$\n",
    "\\lim_{x \\to 0} \\frac{\\sqrt 2 x^2 \\sin 4 x}{(1-\\cos 2 x)^{\\frac{3}{2}}}\n",
    "$$"
   ]
  },
  {
   "cell_type": "code",
   "execution_count": null,
   "metadata": {},
   "outputs": [],
   "source": []
  },
  {
   "cell_type": "markdown",
   "metadata": {},
   "source": [
    "8. $$\n",
    "\\lim_{x \\to 0} \\frac{3 x \\operatorname{tg} 4 x}{1-\\cos 4 x}\n",
    "$$"
   ]
  },
  {
   "cell_type": "code",
   "execution_count": null,
   "metadata": {},
   "outputs": [],
   "source": []
  },
  {
   "cell_type": "markdown",
   "metadata": {},
   "source": [
    "9. $$\n",
    "\\lim_{x \\to \\infty}\\left(\\frac{4 x}{4 x+3}\\right)^{\\frac{5 x^2}{7 x-1}}\n",
    "$$"
   ]
  },
  {
   "cell_type": "code",
   "execution_count": null,
   "metadata": {},
   "outputs": [],
   "source": []
  },
  {
   "cell_type": "markdown",
   "metadata": {},
   "source": [
    "10. \\* $$\n",
    "\\lim_{x \\to+\\infty} \\frac{\\ln (x^2-x+1)}{\\ln (x^{10}+x+1)}\n",
    "$$"
   ]
  },
  {
   "cell_type": "code",
   "execution_count": null,
   "metadata": {},
   "outputs": [],
   "source": []
  },
  {
   "cell_type": "markdown",
   "metadata": {},
   "source": [
    "11. $$\n",
    "\\lim_{x \\to 0} \\frac{5^x-1}{x}\n",
    "$$"
   ]
  },
  {
   "cell_type": "code",
   "execution_count": null,
   "metadata": {},
   "outputs": [],
   "source": []
  }
 ],
 "metadata": {
  "kernelspec": {
   "display_name": "Python 3",
   "language": "python",
   "name": "python3"
  },
  "language_info": {
   "codemirror_mode": {
    "name": "ipython",
    "version": 3
   },
   "file_extension": ".py",
   "mimetype": "text/x-python",
   "name": "python",
   "nbconvert_exporter": "python",
   "pygments_lexer": "ipython3",
   "version": "3.7.1"
  }
 },
 "nbformat": 4,
 "nbformat_minor": 2
}
