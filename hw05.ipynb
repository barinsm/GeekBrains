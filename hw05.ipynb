{
 "cells": [
  {
   "cell_type": "markdown",
   "metadata": {},
   "source": [
    "## Урок 5. SOAP"
   ]
  },
  {
   "cell_type": "markdown",
   "metadata": {},
   "source": [
    "1. Запросить курсы любой валюты за указанный период. Сохранить полученные данные в базу данных Mongo"
   ]
  },
  {
   "cell_type": "code",
   "execution_count": 245,
   "metadata": {},
   "outputs": [
    {
     "name": "stderr",
     "output_type": "stream",
     "text": [
      "Forcing soap:address location to HTTPS\n",
      "Forcing soap:address location to HTTPS\n"
     ]
    },
    {
     "name": "stdout",
     "output_type": "stream",
     "text": [
      "Курсы валюты USD с даты 2019-08-01 по дату 2019-08-30 :\n",
      "Дата        Курс в руб.\n",
      "2019-08-01  63.4172\n",
      "2019-08-02  63.834\n",
      "2019-08-03  64.6423\n",
      "2019-08-06  65.0546\n",
      "2019-08-07  65.203\n",
      "2019-08-08  65.0932\n",
      "2019-08-09  65.1299\n",
      "2019-08-10  65.2543\n",
      "2019-08-13  65.4287\n",
      "2019-08-14  65.6017\n",
      "2019-08-15  65.2032\n",
      "2019-08-16  65.8907\n",
      "2019-08-17  65.9961\n",
      "2019-08-20  66.6082\n",
      "2019-08-21  66.784\n",
      "2019-08-22  66.263\n",
      "2019-08-23  65.6196\n",
      "2019-08-24  65.6046\n",
      "2019-08-27  65.9735\n",
      "2019-08-28  66.2608\n",
      "2019-08-29  66.4127\n",
      "2019-08-30  66.7471\n"
     ]
    }
   ],
   "source": [
    "from zeep import Client\n",
    "from pprint import pprint\n",
    "from pymongo import MongoClient\n",
    "import datetime \n",
    "\n",
    "def get_valute_code(valute):\n",
    "    valutes = client.service.EnumValutes(0)\n",
    "    list_valutes = valutes._value_1._value_1\n",
    "    valute_code = ''\n",
    "    for item in list_valutes:\n",
    "        if item['EnumValutes']['VcharCode'] == valute:\n",
    "              valute_code = item['EnumValutes']['Vcode']\n",
    "    return valute_code\n",
    "\n",
    "def get_curs_period(date1, date2, valute_code):\n",
    "    dates = client.service.GetCursDynamic(date1, date2, valute_code)\n",
    "    list_dates = dates._value_1._value_1\n",
    "    curs_period = []\n",
    "    for item in list_dates:\n",
    "        curs_period.append({'Date': item['ValuteCursDynamic']['CursDate'],\n",
    "                            'Curs': float(item['ValuteCursDynamic']['Vcurs'])})\n",
    "    return curs_period\n",
    "\n",
    "url='https://www.cbr.ru/DailyInfoWebServ/DailyInfo.asmx?WSDL'\n",
    "client = Client(url)\n",
    "valute = 'USD'\n",
    "valute_code = get_valute_code(valute)\n",
    "date1 = datetime.date(2019, 8, 1)\n",
    "date2 = datetime.date(2019, 8, 30)\n",
    "curs_period = get_curs_period(date1, date2, valute_code)\n",
    "print(f'Курсы валюты {valute} с даты {date1} по дату {date2} :')\n",
    "print('Дата        Курс в руб.')\n",
    "for item in curs_period:\n",
    "    print(f\"{item['Date'].date()}  {item['Curs']}\")"
   ]
  },
  {
   "cell_type": "code",
   "execution_count": 246,
   "metadata": {},
   "outputs": [],
   "source": [
    "mongo_client = MongoClient('mongodb://127.0.0.1:27017')\n",
    "db = mongo_client['curs_db']\n",
    "curs_db = db.curs_db"
   ]
  },
  {
   "cell_type": "code",
   "execution_count": 247,
   "metadata": {},
   "outputs": [
    {
     "data": {
      "text/plain": [
       "<pymongo.results.InsertManyResult at 0x1cb65b6fa48>"
      ]
     },
     "execution_count": 247,
     "metadata": {},
     "output_type": "execute_result"
    }
   ],
   "source": [
    "curs_db.drop()\n",
    "curs_db.insert_many(curs_period)"
   ]
  },
  {
   "cell_type": "markdown",
   "metadata": {},
   "source": [
    "2. Написать функцию, которая принимает в качестве параметров две даты, ищет самую большую разницу между курсами валюты за указанный период и возвращает эти дни."
   ]
  },
  {
   "cell_type": "code",
   "execution_count": 248,
   "metadata": {},
   "outputs": [
    {
     "name": "stdout",
     "output_type": "stream",
     "text": [
      "2019-08-20 2019-08-30\n",
      "2019-08-23 2019-08-20\n",
      "65.6046 66.784\n"
     ]
    }
   ],
   "source": [
    "def find_min_max_period(date1, date2):\n",
    "    datemin, datemax = curs_db.find({'Date': {'$gt':date1}}).sort('Curs',)[0]['Date'], \\\n",
    "                        curs_db.find({'Date': {'$lt':date2}}).sort('Curs', -1)[0]['Date']\n",
    "    return datemin, datemax\n",
    "\n",
    "date1 = datetime.datetime(2019, 8, 20, 0, 0, tzinfo=datetime.timezone.utc)\n",
    "date2 = datetime.datetime(2019, 8, 30, 0, 0, tzinfo=datetime.timezone.utc)\n",
    "datemin, datemax = find_min_max_period(date1, date2)\n",
    "cursmin, cursmax = curs_db.find_one({'Date': datemin})['Curs'], curs_db.find_one({'Date': datemax})['Curs'] \n",
    "print(date1.date(), date2.date())\n",
    "print(datemin.date(), datemax.date())\n",
    "print(cursmin, cursmax)"
   ]
  },
  {
   "cell_type": "markdown",
   "metadata": {},
   "source": [
    "3. Сделать вывод информативным: Валюту <Валюта> выгодно было купить <Дата>, а продать <Дата>. Прибыль: <Разница в цене валюты>"
   ]
  },
  {
   "cell_type": "code",
   "execution_count": 250,
   "metadata": {},
   "outputs": [
    {
     "name": "stdout",
     "output_type": "stream",
     "text": [
      "Валюту USD выгодно было купить 2019-08-23, а продать 2019-08-20. Прибыль: 1.179 руб.\n"
     ]
    }
   ],
   "source": [
    "print(f'Валюту {valute} выгодно было купить {datemin.date()}, а продать {datemax.date()}. Прибыль: {cursmax-cursmin:.4} руб.')"
   ]
  },
  {
   "cell_type": "markdown",
   "metadata": {},
   "source": [
    "4. Доработать приложение по вакансиям. При наличии вакансии с зарплатой отличной от руб. приложение должно осущетсвлять автоматический перевод по курсу валюты на сегодняшний день. Информацию получать через SOAP-сервис центробанка."
   ]
  },
  {
   "cell_type": "code",
   "execution_count": null,
   "metadata": {},
   "outputs": [],
   "source": []
  }
 ],
 "metadata": {
  "kernelspec": {
   "display_name": "Python 3",
   "language": "python",
   "name": "python3"
  },
  "language_info": {
   "codemirror_mode": {
    "name": "ipython",
    "version": 3
   },
   "file_extension": ".py",
   "mimetype": "text/x-python",
   "name": "python",
   "nbconvert_exporter": "python",
   "pygments_lexer": "ipython3",
   "version": "3.7.1"
  }
 },
 "nbformat": 4,
 "nbformat_minor": 2
}
