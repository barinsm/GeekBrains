{
 "cells": [
  {
   "cell_type": "markdown",
   "metadata": {},
   "source": [
    "## Урок 5. Подготовка к продакшену. Планировщик задач и перенос проекта из Jupyter в PyCharm"
   ]
  },
  {
   "cell_type": "markdown",
   "metadata": {},
   "source": [
    "Готовое решение работает, как правило, автономно, в том смысле, что исполняемый код хранится на сервере и по заранее спланированной логике выполняется в нужный момент. Решения, написанные на Python, представляют из себя в основном набор из файлов с расширением \\*.py, в которых содержатся все необходимые для работы программы модули, методы, операции чтения, обработки и записи информации.\n",
    "\n",
    "После того, что первая версия решения создана и протестирована в визуально удобной среде Jupyter Notebook, код следует реорганизовать в \\*.py модули с разбиением на некоторые логические части. Например, один модуль отвечает за загрузку сырых данных, другой - за их обработку и создание датасета. С крупными проектами и большим кол-вом файлов удобно работать в IDE (Integrated development environment), такой как __PyCharm__. Это, де-факто, самая широко используемая среда разработки на Python в наши дни. "
   ]
  },
  {
   "cell_type": "markdown",
   "metadata": {},
   "source": [
    "### Планировщик задач"
   ]
  },
  {
   "cell_type": "markdown",
   "metadata": {},
   "source": [
    "Прежде, чем перебираться в IDE, разберем еще один мощный инструмент автоматизации процессов - __Cron__, а точнее модуль для Python - __crontab__. Cron - это утилита, позволяющая планировать исполнение задач на Unix-подобных системах. Задачи (команды) определяются в тестовом файле [определенного формата](http://www.nncron.ru/nncronlt/help/RU/working/cron-format.htm), содержащем исполняемые команды. Модуль crontab позволяет читать конфигурационные файлы и получать доступ к Cron.\n",
    "\n",
    "Настроить Cron можно двумя основными способами:\n",
    "\n",
    "1. Сделать импорт модуля (*from crontab import CronTab*) и настроить расписание, используя методы класса CronTab.\n",
    "2. Создать \\*.txt файл с описанием задач в формате crontab и добавить файл в Cron.\n",
    "\n",
    "\\*.txt файл может иметь примерно следующий формат:"
   ]
  },
  {
   "cell_type": "raw",
   "metadata": {},
   "source": [
    "00 14 * * 4 /usr/bin/python script.py"
   ]
  },
  {
   "cell_type": "markdown",
   "metadata": {},
   "source": [
    "Это означает, что каждый четверг указанный скрипт будет запускаться в 14:00.\n",
    "\n",
    "Также можно запланировать выполнение не только \\*.py скриптов, но и ноутбуков \\*.ipynb:"
   ]
  },
  {
   "cell_type": "raw",
   "metadata": {},
   "source": [
    "SHELL=/bin/bash\n",
    "30 14 * * 4 /usr/local/bin/jupyter nbconvert --to notebook --execute /full_directory/task.ipynb --ExecutePreprocessor.timeout=1800 --output /full_directory/task.ipynb 2>&1 >/full_directory/cron.log 2>&1"
   ]
  },
  {
   "cell_type": "markdown",
   "metadata": {},
   "source": [
    "Помимо периодичности запуска, в данном коде указан конкретный shell, в котором исполняются команды, прописан запуск именно Jupyter ноутбука с лимитом по времени выполнения, указан вывод результатов работы в тот же файл (то есть если в ноутбуке есть какие-то выводы в output'е ячеек, то после отработки Cron файл ноутбука изменится соответственно), также настроена запись логов работы Cron в файл. Инструкция 2>&1 означает, что сообщения об ошибках (stderr) будут перенаправляться в видимую командную строку (stdout)."
   ]
  },
  {
   "cell_type": "markdown",
   "metadata": {},
   "source": [
    "Основные команды Cron следующие:"
   ]
  },
  {
   "cell_type": "raw",
   "metadata": {},
   "source": [
    "# Добавить расписание\n",
    "crontab /full_directory/cronjobs.txt\n",
    "\n",
    "# Посмотреть действующее расписание\n",
    "crontab -l\n",
    "\n",
    "# Удалить действующее расписание\n",
    "crontab -r\n",
    "\n",
    "# Посмотреть логи\n",
    "cat /full_directory/cron.log"
   ]
  },
  {
   "cell_type": "markdown",
   "metadata": {},
   "source": [
    "### Создание проекта в PyCharm"
   ]
  },
  {
   "cell_type": "markdown",
   "metadata": {},
   "source": [
    "Познакомившись с Cron, вернемся к переносу кода в PyCharm, создадим проект и распределим используемый в проекте код по модулям."
   ]
  },
  {
   "cell_type": "markdown",
   "metadata": {},
   "source": [
    "---"
   ]
  },
  {
   "cell_type": "markdown",
   "metadata": {},
   "source": [
    "__Демонстрация в PyCharm__\n",
    "\n",
    "1. Пример оформления кода по модулям и общей структуры проекта.\n",
    "2. Комментарии для методов и модулей.\n",
    "3. Функционал контроля версий."
   ]
  },
  {
   "cell_type": "markdown",
   "metadata": {},
   "source": [
    "---"
   ]
  },
  {
   "cell_type": "markdown",
   "metadata": {},
   "source": [
    "### Литература"
   ]
  },
  {
   "cell_type": "markdown",
   "metadata": {},
   "source": [
    "1. [python-crontab](https://pypi.python.org/pypi/python-crontab)\n",
    "2. [Scheduling Jobs with python-crontab](https://stackabuse.com/scheduling-jobs-with-python-crontab/)\n",
    "3. [PyCharm](https://www.jetbrains.com/pycharm/)\n",
    "4. [Get started with PyCharm - User Guide](https://www.jetbrains.com/help/pycharm/quick-start-guide.html)"
   ]
  },
  {
   "cell_type": "markdown",
   "metadata": {},
   "source": [
    "### Д/З"
   ]
  },
  {
   "cell_type": "markdown",
   "metadata": {},
   "source": [
    "Перенести курсовой проект в PyCharm, убедиться в корректности взаимодействия модулей, свести выполнение проекта к нескольким командам, например:\n",
    "\n",
    "* python3 build_dataset.py\n",
    "* python3 train_model.py\n",
    "* python3 make_prediction.py\n",
    "\n",
    "Убедитесь, что ход выполнения каждого из скриптов наглядно выводится. Сделайте итоговые предсказания для тестовой выборки."
   ]
  },
  {
   "cell_type": "markdown",
   "metadata": {},
   "source": [
    "## EXTRA"
   ]
  },
  {
   "cell_type": "markdown",
   "metadata": {},
   "source": [
    "1. [Библиотека logging](https://docs.python.org/3/library/logging.html)\n",
    "2. [Apache Airflow Documentation](https://airflow.apache.org/docs/1.10.3/)\n",
    "3. [Airflow Workshop: сложные DAG’и без костылей](https://habr.com/ru/company/mailru/blog/344398/)\n",
    "4. [Как стать Data Engineer](https://khashtamov.com/ru/data-engineer/)\n",
    "5. [Введение в Data Engineering. ETL, схема «звезды» и Airflow](https://habr.com/ru/company/newprolab/blog/358530/)\n",
    "6. [Dask Documentation](https://docs.dask.org/en/latest/)\n",
    "7. [Get Started with Amazon SageMaker Studio](https://docs.aws.amazon.com/sagemaker/latest/dg/gs-studio.html)"
   ]
  },
  {
   "cell_type": "markdown",
   "metadata": {},
   "source": [
    "__Вопросы с собеседований__"
   ]
  },
  {
   "cell_type": "markdown",
   "metadata": {},
   "source": [
    "* Честная ли монетка\n",
    "* Метриĸи для регрессии и ĸлассифиĸации\n",
    "* ROC ĸривая, ĸаĸ строится\n",
    "* Написать фунĸцию для N-го числа Фибоначчи\n",
    "* Каĸ работает сортировĸа ĸучей, q-sort, их сложность\n",
    "* Сложность моделей ML (деревья, knn...)\n",
    "* АБ тесты, сравнение долей и средних\n",
    "* Произведение всех значений в колонке таблицы (SQL)\n",
    "* Каĸими ĸачествами должен обладать ĸод в продаĸшене\n",
    "* Отличия градиентного бустинга от случайного леса\n",
    "* Есть лист из чисел, нужно вывести 5 самых часто встречаемых числа\n",
    "* Логит, основные модели\n",
    "* R-ĸвадрат\n",
    "* Метриĸи для регрессии\n",
    "* Loss в логите ĸаĸ выводится через ММП\n",
    "* enumerate, zip, **kwargs, decorator, generator\n",
    "* Having, оĸонные фунĸции\n",
    "* Индеĸс в БД\n",
    "* Матожидание и дисперсия суммы случ. велич.\n",
    "* Всегда ли существует у СВ матожидание\n",
    "* Формула нормального распределения\n",
    "* Ошибĸи 1,2 рода для гипотез и ĸлассифиĸатора\n",
    "* P-value, alpha, уровни значимости и доверия\n",
    "* Ко всем ли СВ применима ЦПТ\n",
    "* Метриĸи ĸачества ĸлассифиĸации и регрессии\n",
    "* Инвариантное преобразование вероятностей, чтобы ROC не изменилась\n",
    "* Ошибĸи разброса и смещения\n",
    "* Модели МЛ для таргета реĸламы\n",
    "* Метриrи оценĸи ранжирования\n",
    "* Сетĸи (Semantic Segmentation, Detection, понимание принципов работы)\n",
    "* Каĸ оценивать ĸачество распознавания теĸстового доĸумента\n",
    "* Модели - Random Forest, kNN, XGBoost, LinReg, Logit\n",
    "* Батч нормализация\n",
    "* Focal-loss\n",
    "* Tmux (для сохранения сессий SSH)\n",
    "* Docker - общее понимание\n",
    "* Есть 2 выборĸи средних трат юзеров, ĸаĸ сравнить средние двухвыбороĸ\n",
    "* Мощность статистичесĸого ĸритерия\n",
    "* Доверительный интервал, стандартное отĸлонение, почему в знаменателе N-1\n",
    "* Бутстрап выборĸи, почему получается нормальное распределение выборочной статистиĸи\n",
    "* Питон: взять 1000 значений из X~exp(a) с масштабом 1, сделать 10000 бутстрап выбороĸ, построить гистограмму выборочного среднего\n",
    "* Каĸ проверить, что распределение нормальное (стат ĸритерий или логарифм взять и будет парабола, таĸ ĸаĸ логарифм фунĸции норм.распр.)"
   ]
  },
  {
   "cell_type": "code",
   "execution_count": null,
   "metadata": {},
   "outputs": [],
   "source": []
  }
 ],
 "metadata": {
  "kernelspec": {
   "display_name": "Python 3",
   "language": "python",
   "name": "python3"
  },
  "language_info": {
   "codemirror_mode": {
    "name": "ipython",
    "version": 3
   },
   "file_extension": ".py",
   "mimetype": "text/x-python",
   "name": "python",
   "nbconvert_exporter": "python",
   "pygments_lexer": "ipython3",
   "version": "3.7.3"
  }
 },
 "nbformat": 4,
 "nbformat_minor": 2
}
