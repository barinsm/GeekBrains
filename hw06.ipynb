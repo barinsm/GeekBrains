{
 "cells": [
  {
   "cell_type": "markdown",
   "metadata": {},
   "source": [
    "## Урок 6. Видеоурок “Производная функции одной переменной”"
   ]
  },
  {
   "cell_type": "markdown",
   "metadata": {},
   "source": [
    "---\n",
    "1. Найти производную выражения:"
   ]
  },
  {
   "cell_type": "markdown",
   "metadata": {},
   "source": [
    "---\n",
    "    a.\n",
    "$$\n",
    "\\sin x \\cdot \\cos x\n",
    "$$"
   ]
  },
  {
   "cell_type": "code",
   "execution_count": 1,
   "metadata": {},
   "outputs": [],
   "source": [
    "# Производная произведения функций равна сумме произведений производной 1-й на 2-ю функцию и 1-й функции на производную 2-й."
   ]
  },
  {
   "cell_type": "markdown",
   "metadata": {},
   "source": [
    "$$\n",
    "(U \\cdot V)'=U' \\cdot V+U \\cdot V' = (\\sin x \\cdot \\cos x)' =  (\\sin x)' \\cdot \\cos x + \\sin x \\cdot (\\cos x)' = \\cos x \\cdot \\cos x + \\sin x \\cdot (-\\sin x) = \\cos^2 x - \\sin^2 x \n",
    "$$"
   ]
  },
  {
   "cell_type": "markdown",
   "metadata": {},
   "source": [
    "---\n",
    "    b.\n",
    "$$\n",
    "\\ln (2x+1)^3\n",
    "$$"
   ]
  },
  {
   "cell_type": "code",
   "execution_count": 2,
   "metadata": {},
   "outputs": [],
   "source": [
    "# Производная функции от функции (и т.д.) равна произведению производных этих функций."
   ]
  },
  {
   "cell_type": "markdown",
   "metadata": {},
   "source": [
    "$$\n",
    "y'=f'(g(h(x))) \\cdot g'(h(x)) \\cdot h'(x) = (\\ln (2x+1)^3)' \\cdot ((2x+1)^3)' \\cdot (2x+1)' = \\frac{1}{(2x+1)^3} \\cdot 3(2x+1)^2 \\cdot 2 = \\frac{6}{2x+1} \n",
    "$$"
   ]
  },
  {
   "cell_type": "code",
   "execution_count": 6,
   "metadata": {},
   "outputs": [],
   "source": [
    "# Так же можно использовать упрощенную формулу производной логарифма от степени: показатель степени делить на ее основание."
   ]
  },
  {
   "cell_type": "markdown",
   "metadata": {},
   "source": [
    "$$\n",
    "y'=f'(g(x)) \\cdot g'(x) = (\\ln (2x+1)^3)' \\cdot (2x+1)' = \\frac{3}{(2x+1)} \\cdot 2 = \\frac{6}{2x+1} \n",
    "$$"
   ]
  },
  {
   "cell_type": "markdown",
   "metadata": {},
   "source": [
    "---\n",
    "    c.\n",
    "$$\n",
    "\\sqrt{\\sin^2(\\ln(x^3))}\n",
    "$$"
   ]
  },
  {
   "cell_type": "code",
   "execution_count": 3,
   "metadata": {},
   "outputs": [],
   "source": [
    "# Производная функции от функции (и т.д.) равна произведению производных этих функций."
   ]
  },
  {
   "cell_type": "markdown",
   "metadata": {},
   "source": [
    "$$\n",
    "y'=f'(g(h(x))) \\cdot g'(h(x)) \\cdot h'(x) = (\\sin(\\ln(x^3)))' \\cdot (\\ln(x^3))' \\cdot (x^3)' = \\cos(\\ln(x^3)) \\cdot \\frac{1}{x^3} \\cdot 3x^2 = \\cos(\\ln(x^3)) \\cdot \\frac{3}{x}\n",
    "$$"
   ]
  },
  {
   "cell_type": "code",
   "execution_count": 3,
   "metadata": {},
   "outputs": [],
   "source": [
    "# Если не сокращать корень из квадрата синуса и провести расчет производной, то получим недифференцируемую функцию!"
   ]
  },
  {
   "cell_type": "markdown",
   "metadata": {},
   "source": [
    "$$\n",
    "y'=f'(g(h(k(x)))) \\cdot g'(h(k(x))) \\cdot h'(k(x)) \\cdot k'(x) = (\\sqrt{\\sin^2(\\ln(x^3))})' \\cdot (\\sin^2(\\ln(x^3)))' \\cdot (\\sin(\\ln(x^3)))' \\cdot (\\ln(x^3))' = \\frac{1}{2\\sqrt{\\sin^2(\\ln(x^3))}} \\cdot 2\\sin(\\ln(x^3)) \\cdot \\cos(\\ln(x^3)) \\cdot \\frac{3}{x} = \\frac{\\sin(\\ln(x^3))}{|\\sin(\\ln(x^3))|} \\cdot \\cos(\\ln(x^3)) \\cdot \\frac{3}{x} = \\operatorname{sgn}(\\sin(\\ln(x^3))) \\cdot \\cos(\\ln(x^3)) \\cdot \\frac{3}{x}\n",
    "$$"
   ]
  },
  {
   "cell_type": "code",
   "execution_count": 9,
   "metadata": {},
   "outputs": [],
   "source": [
    "# Также можно в начале заменить корень из квадрата синуса на модуль синуса и сразу получим недифференцируемую функцию!"
   ]
  },
  {
   "cell_type": "markdown",
   "metadata": {},
   "source": [
    "$$\n",
    "y'=\\left(\\sqrt{\\sin^2(\\ln(x^3)}\\right)' = |\\sin(\\ln(x^3))|' \\implies \\nexists y'\n",
    "$$"
   ]
  },
  {
   "cell_type": "markdown",
   "metadata": {},
   "source": [
    "---\n",
    "    d.\n",
    "$$\n",
    "\\frac{x^4}{\\ln(x)}\n",
    "$$"
   ]
  },
  {
   "cell_type": "code",
   "execution_count": 4,
   "metadata": {},
   "outputs": [],
   "source": [
    "# Производная частного функций равна разнице произведений производной 1-й на 2-ю и 1-й на производную 2-й функций\n",
    "# , деленной на квадрат 2-й функции."
   ]
  },
  {
   "cell_type": "markdown",
   "metadata": {},
   "source": [
    "$$\n",
    "\\left(\\frac{U}{V}\\right)'=\\frac{U' \\cdot V-U \\cdot V'}{V^{2}} = \\left(\\frac{x^4}{\\ln(x)}\\right)' = \\frac{(x^4)' \\cdot \\ln x - x^4 \\cdot (\\ln x)'}{\\ln^2(x)} = \\frac{4x^3 \\cdot \\ln x - x^4 \\cdot \\frac{1}{x}}{\\ln^2(x)} = \\frac{4x^3 \\cdot \\ln x - x^3}{\\ln^2(x)} = x^3 \\cdot \\frac{4\\ln x - 1}{\\ln^2(x)}\n",
    "$$"
   ]
  },
  {
   "cell_type": "markdown",
   "metadata": {},
   "source": [
    "---\n",
    "2. Найти выражение производной функции и ее значение в точке:\n",
    "$$\n",
    "f(x)=\\cos(x^2+3x),x_0=\\sqrt\\pi\n",
    "$$"
   ]
  },
  {
   "cell_type": "code",
   "execution_count": null,
   "metadata": {},
   "outputs": [],
   "source": []
  },
  {
   "cell_type": "markdown",
   "metadata": {},
   "source": [
    "---\n",
    "3. \\* Найти значение производной функции в точке:\n",
    "$$\n",
    "f(x)=\\frac{x^3-x^2-x-1}{1+2x+3x^2-4x^3},x_0=0\n",
    "$$"
   ]
  },
  {
   "cell_type": "code",
   "execution_count": null,
   "metadata": {},
   "outputs": [],
   "source": []
  },
  {
   "cell_type": "markdown",
   "metadata": {},
   "source": [
    "---\n",
    "4. Найти угол наклона касательной к графику функции в точке:\n",
    "$$\n",
    "f(x)=\\sqrt{3x}\\cdot\\ln x,x_0=1\n",
    "$$"
   ]
  },
  {
   "cell_type": "code",
   "execution_count": null,
   "metadata": {},
   "outputs": [],
   "source": []
  }
 ],
 "metadata": {
  "kernelspec": {
   "display_name": "Python 3",
   "language": "python",
   "name": "python3"
  },
  "language_info": {
   "codemirror_mode": {
    "name": "ipython",
    "version": 3
   },
   "file_extension": ".py",
   "mimetype": "text/x-python",
   "name": "python",
   "nbconvert_exporter": "python",
   "pygments_lexer": "ipython3",
   "version": "3.7.1"
  }
 },
 "nbformat": 4,
 "nbformat_minor": 2
}
