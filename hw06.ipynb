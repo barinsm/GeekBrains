{
 "cells": [
  {
   "cell_type": "markdown",
   "metadata": {},
   "source": [
    "## Урок 6. Видеоурок “Производная функции одной переменной”"
   ]
  },
  {
   "cell_type": "markdown",
   "metadata": {},
   "source": [
    "1. Найти производную выражения:"
   ]
  },
  {
   "cell_type": "markdown",
   "metadata": {},
   "source": [
    "    a.\n",
    "$$\n",
    "\\sin x \\cdot \\cos x\n",
    "$$"
   ]
  },
  {
   "cell_type": "code",
   "execution_count": 1,
   "metadata": {},
   "outputs": [],
   "source": [
    "# Производная от произведения функций равна сумме произведений производной от 1-й на 2-ю и 1-й на производную от 2-й функций."
   ]
  },
  {
   "cell_type": "markdown",
   "metadata": {},
   "source": [
    "$$\n",
    "\\sin x \\cdot \\cos x =  (\\sin x)' \\cdot \\cos x + \\sin x \\cdot (\\cos x)' = \\cos x \\cdot \\cos x + \\sin x \\cdot (-\\sin x) = \\cos^2 x - \\sin^2 x \n",
    "$$"
   ]
  },
  {
   "cell_type": "markdown",
   "metadata": {},
   "source": [
    "    b.\n",
    "$$\n",
    "\\ln (2x+1)^3\n",
    "$$"
   ]
  },
  {
   "cell_type": "code",
   "execution_count": 2,
   "metadata": {},
   "outputs": [],
   "source": [
    "# Производная от функции от функции от функции (и т.д.) равна произведению производных этих функций."
   ]
  },
  {
   "cell_type": "markdown",
   "metadata": {},
   "source": [
    "$$\n",
    "\\ln (2x+1)^3 = (\\ln (2x+1)^3)' \\cdot ((2x+1)^3)' \\cdot (2x+1)' = \\frac{1}{(2x+1)^3} \\cdot 3(2x+1)^2 \\cdot 2 = \\frac{6}{2x+1} \n",
    "$$"
   ]
  },
  {
   "cell_type": "markdown",
   "metadata": {},
   "source": [
    "    c.\n",
    "$$\n",
    "\\sqrt{\\sin^2(\\ln(x^3))}\n",
    "$$"
   ]
  },
  {
   "cell_type": "code",
   "execution_count": 3,
   "metadata": {},
   "outputs": [],
   "source": [
    "# Производная от функции от функции от функции (и т.д.) равна произведению производных этих функций."
   ]
  },
  {
   "cell_type": "markdown",
   "metadata": {},
   "source": [
    "$$\n",
    "\\sqrt{\\sin^2(\\ln(x^3))} = (\\sin(\\ln(x^3)))' \\cdot (\\ln(x^3))' \\cdot (x^3)'\n",
    "$$"
   ]
  },
  {
   "cell_type": "code",
   "execution_count": 5,
   "metadata": {},
   "outputs": [],
   "source": [
    "# Однако если действовать правильно и не сокращать корень из квадрата синуса, то получим недифференцируемую функцию!"
   ]
  },
  {
   "cell_type": "markdown",
   "metadata": {},
   "source": [
    "    d.\n",
    "$$\n",
    "\\frac{x^4}{\\ln(x)}\n",
    "$$"
   ]
  },
  {
   "cell_type": "code",
   "execution_count": 4,
   "metadata": {},
   "outputs": [],
   "source": [
    "# Производная от частного функций равна разнице произведений производной от 1-й на 2-ю и 1-й на производную от 2-й функций, деленной на квадрат 2-й функции."
   ]
  },
  {
   "cell_type": "markdown",
   "metadata": {},
   "source": [
    "$$\n",
    "\\frac{x^4}{\\ln(x)} = \\frac{(x^4)' \\cdot \\ln x - x^4 \\cdot (\\ln x)'}{\\ln^2(x)}\n",
    "$$"
   ]
  },
  {
   "cell_type": "markdown",
   "metadata": {},
   "source": [
    "2. Найти выражение производной функции и ее значение в точке:\n",
    "$$\n",
    "f(x)=\\cos(x^2+3x),x_0=\\sqrt\\pi\n",
    "$$"
   ]
  },
  {
   "cell_type": "code",
   "execution_count": null,
   "metadata": {},
   "outputs": [],
   "source": []
  },
  {
   "cell_type": "markdown",
   "metadata": {},
   "source": [
    "3. \\* Найти значение производной функции в точке:\n",
    "$$\n",
    "f(x)=\\frac{x^3-x^2-x-1}{1+2x+3x^2-4x^3},x_0=0\n",
    "$$"
   ]
  },
  {
   "cell_type": "code",
   "execution_count": null,
   "metadata": {},
   "outputs": [],
   "source": []
  },
  {
   "cell_type": "markdown",
   "metadata": {},
   "source": [
    "4. Найти угол наклона касательной к графику функции в точке:\n",
    "$$\n",
    "f(x)=\\sqrt{3x}\\cdot\\ln x,x_0=1\n",
    "$$"
   ]
  },
  {
   "cell_type": "code",
   "execution_count": null,
   "metadata": {},
   "outputs": [],
   "source": []
  }
 ],
 "metadata": {
  "kernelspec": {
   "display_name": "Python 3",
   "language": "python",
   "name": "python3"
  },
  "language_info": {
   "codemirror_mode": {
    "name": "ipython",
    "version": 3
   },
   "file_extension": ".py",
   "mimetype": "text/x-python",
   "name": "python",
   "nbconvert_exporter": "python",
   "pygments_lexer": "ipython3",
   "version": "3.7.1"
  }
 },
 "nbformat": 4,
 "nbformat_minor": 2
}
