{
 "cells": [
  {
   "cell_type": "markdown",
   "metadata": {},
   "source": [
    "## Урок 11. Вебинар “Интеграл. Ряды”"
   ]
  },
  {
   "cell_type": "markdown",
   "metadata": {},
   "source": [
    "#### Вычислить интегралы."
   ]
  },
  {
   "cell_type": "markdown",
   "metadata": {},
   "source": [
    "> 1. $$\\int \\frac{2 x+3}{(x-2)(x+5)} d x$$"
   ]
  },
  {
   "cell_type": "markdown",
   "metadata": {},
   "source": [
    "$$\n",
    "\\int \\frac{2x+3}{(x-2)(x+5)} dx = \\int\\left(\\frac{A}{x-2}+\\frac{B}{x+5}\\right) dx = \\int \\frac{A(x+5) + B(x-2)}{(x-2)(x+5)} dx = \\int \\frac{(A+B)x+5A-2B}{(x-2)(x+5)} dx =\n",
    "$$"
   ]
  },
  {
   "cell_type": "markdown",
   "metadata": {},
   "source": [
    "$$\n",
    "\\left\\{\\begin{array}{l}{A+B=2} \\\\ {5A-2B=3}\\end{array} \\quad \\Rightarrow \\left\\{\\begin{array}{c}{A=1} \\\\ {B=1} \\end{array}\\right.\\right.\n",
    "$$"
   ]
  },
  {
   "cell_type": "markdown",
   "metadata": {},
   "source": [
    "$$\n",
    "= \\int\\left(\\frac{1}{x-2}+\\frac{1}{x+5}\\right) dx = \\ln |x-2| + \\ln |x+5| + C = = \\ln (|x-2| \\cdot |x+5|) + C\n",
    "$$"
   ]
  },
  {
   "cell_type": "markdown",
   "metadata": {},
   "source": [
    "> 2. $$\\int e^{2 x} \\cos 3 x d x$$"
   ]
  },
  {
   "cell_type": "markdown",
   "metadata": {},
   "source": []
  },
  {
   "cell_type": "markdown",
   "metadata": {},
   "source": [
    "> 3. $$\\int_{0}^{\\ln 2} x e^{-x} d x$$"
   ]
  },
  {
   "cell_type": "markdown",
   "metadata": {},
   "source": []
  },
  {
   "cell_type": "markdown",
   "metadata": {},
   "source": [
    "4. \\* __Разложить функцию $y=e^x$ в ряд Маклорена, а также в ряд Фурье на отрезке $[-\\pi;\\pi]$. Построить график функции и разложения.__"
   ]
  },
  {
   "cell_type": "markdown",
   "metadata": {},
   "source": []
  }
 ],
 "metadata": {
  "kernelspec": {
   "display_name": "Python 3",
   "language": "python",
   "name": "python3"
  },
  "language_info": {
   "codemirror_mode": {
    "name": "ipython",
    "version": 3
   },
   "file_extension": ".py",
   "mimetype": "text/x-python",
   "name": "python",
   "nbconvert_exporter": "python",
   "pygments_lexer": "ipython3",
   "version": "3.7.1"
  }
 },
 "nbformat": 4,
 "nbformat_minor": 2
}
