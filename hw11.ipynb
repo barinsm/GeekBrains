{
 "cells": [
  {
   "cell_type": "markdown",
   "metadata": {},
   "source": [
    "## Урок 11. Вебинар “Интеграл. Ряды”"
   ]
  },
  {
   "cell_type": "markdown",
   "metadata": {},
   "source": [
    "#### Вычислить интегралы."
   ]
  },
  {
   "cell_type": "markdown",
   "metadata": {},
   "source": [
    "> 1. $$\\int \\frac{2 x+3}{(x-2)(x+5)} d x$$"
   ]
  },
  {
   "cell_type": "markdown",
   "metadata": {},
   "source": [
    "$$\n",
    "\\int \\frac{2x+3}{(x-2)(x+5)} dx = \\int\\left(\\frac{A}{x-2}+\\frac{B}{x+5}\\right) dx = \\int \\frac{A(x+5) + B(x-2)}{(x-2)(x+5)} dx = \\int \\frac{(A+B)x+5A-2B}{(x-2)(x+5)} dx =\n",
    "$$"
   ]
  },
  {
   "cell_type": "markdown",
   "metadata": {},
   "source": [
    "$$\n",
    "\\left\\{\\begin{array}{l}{A+B=2} \\\\ {5A-2B=3}\\end{array} \\quad \\Rightarrow \\left\\{\\begin{array}{c}{A=1} \\\\ {B=1} \\end{array}\\right.\\right.\n",
    "$$"
   ]
  },
  {
   "cell_type": "markdown",
   "metadata": {},
   "source": [
    "$$\n",
    "= \\int\\left(\\frac{1}{x-2}+\\frac{1}{x+5}\\right) dx = \\ln |x-2| + \\ln |x+5| + C = \\ln (|x-2| \\cdot |x+5|) + C\n",
    "$$"
   ]
  },
  {
   "cell_type": "markdown",
   "metadata": {},
   "source": [
    "> 2. $$\\int e^{2x} \\cos 3x dx$$"
   ]
  },
  {
   "cell_type": "markdown",
   "metadata": {},
   "source": [
    "$$\n",
    "\\int e^{2x} \\cos 3x dx = \\frac{1}{3} e^{2x} \\sin 3x - \\frac{2}{3} \\int e^{2x} \\sin 3x dx = \\frac{1}{3} e^{2x} \\sin 3x - \\frac{2}{3} \\left( -\\frac{1}{3} e^{2x} \\cos 3x + \\frac{2}{3} \\int e^{2x} \\cos 3x dx \\right) = \\frac{1}{3} e^{2x} \\sin 3x + \\frac{2}{9} e^{2x} \\cos 3x - \\frac{4}{9} \\int e^{2x} \\cos 3x dx\n",
    "$$"
   ]
  },
  {
   "cell_type": "markdown",
   "metadata": {},
   "source": [
    "$$\n",
    "\\int e^{2x} \\cos 3x dx = \\frac{9}{13} \\left( \\frac{1}{3} e^{2x} \\sin 3x + \\frac{2}{9} e^{2x} \\cos 3x \\right) = \\frac{3}{13} e^{2x} \\sin 3x + \\frac{2}{13} e^{2x} \\cos 3x\n",
    "$$"
   ]
  },
  {
   "cell_type": "markdown",
   "metadata": {},
   "source": [
    "Проверка взятием производной."
   ]
  },
  {
   "cell_type": "markdown",
   "metadata": {},
   "source": [
    "$$\n",
    "\\left( \\frac{3}{13} e^{2x} \\sin 3x + \\frac{2}{13} e^{2x} \\cos 3x \\right)' = \\frac{3}{13} \\left( 2 e^{2x} \\sin 3x + 3 e^{2x} \\cos 3x \\right) + \\frac{2}{13} \\left(2 e^{2x} \\cos 3x - 3 e^{2x} \\sin 3x \\right) = e^{2x} \\cos 3x\n",
    "$$"
   ]
  },
  {
   "cell_type": "markdown",
   "metadata": {},
   "source": [
    "> 3. $$\\int_{0}^{\\ln 2} x e^{-x} dx$$"
   ]
  },
  {
   "cell_type": "markdown",
   "metadata": {},
   "source": [
    "$$\n",
    "\\int_{0}^{\\ln 2} x e^{-x} dx = \\left. - x e^{-x} \\right|_{0}^{\\ln 2} + \\int_{0}^{\\ln 2} e^{-x} dx = -\\frac{\\ln 2}{2} - \\left. e^{-x} \\right|_{0}^{\\ln 2} = -\\frac{\\ln 2}{2} - \\frac{1}{2} + 1 =  \\frac{1 - \\ln 2}{2} \n",
    "$$"
   ]
  },
  {
   "cell_type": "markdown",
   "metadata": {},
   "source": [
    "4. \\* __Разложить функцию $y=e^x$ в ряд Маклорена, а также в ряд Фурье на отрезке $[-\\pi;\\pi]$. Построить график функции и разложения.__"
   ]
  },
  {
   "cell_type": "markdown",
   "metadata": {},
   "source": [
    "$$\n",
    "f(x)=\\sum_{n=0}^{\\infty} \\frac{f^{(n)}(0)}{n !} x^{n}\n",
    "$$"
   ]
  },
  {
   "cell_type": "markdown",
   "metadata": {},
   "source": [
    "$$\n",
    "e^x = \\frac{e^0}{0!} x^0 + \\frac{e^0}{1!}x^1 + \\frac{e^0}{2!}x^2 + \\frac{e^0}{3!}x^3 + \\frac{e^0}{4!}x^4 + \\cdots =\n",
    "$$ "
   ]
  },
  {
   "cell_type": "markdown",
   "metadata": {},
   "source": [
    "$$\n",
    "=1 + x + \\frac{x^2}{2!}+\\frac{x^3}{3!}+\\frac{x^4}{4!} + \\cdots = \\sum_{n=0}^{\\infty} \\frac{x^{n}}{n !}\n",
    "$$"
   ]
  },
  {
   "cell_type": "markdown",
   "metadata": {},
   "source": [
    "$$\n",
    "f(x) = a_0+\\sum_{n=1}^{\\infty} \\left( a_n \\cos nx + b_n \\sin nx \\right) \\text{ на отрезке }[-\\pi ; \\pi]\n",
    "$$"
   ]
  },
  {
   "cell_type": "markdown",
   "metadata": {},
   "source": [
    "$$\n",
    "a_0 = \\frac{1}{2 \\pi} \\int_{-\\pi}^{\\pi} f(x) dx=\\frac{1}{2 \\pi} \\int_{-\\pi}^{\\pi} e^x d x = \\left.\\frac{e^x}{2 \\pi}\\right|_{-\\pi}^{\\pi} = \\frac{e^{\\pi}}{2 \\pi} - \\frac{e^{-\\pi}}{2 \\pi} = \\frac{e^{\\pi} - e^{-\\pi}}{2 \\pi}\n",
    "$$"
   ]
  },
  {
   "cell_type": "markdown",
   "metadata": {},
   "source": [
    "$$\n",
    "a_n = \\frac{1}{\\pi} \\int_{-\\pi}^{\\pi} f(x) \\cos nx dx = \\frac{1}{\\pi} \\int_{-\\pi}^{\\pi} e^x \\cos nx dx = \\left.\\left(\\frac{1}{\\pi n} e^x \\sin n x\\right)\\right|_{-\\pi} ^{\\pi}-\\frac{1}{\\pi n} \\int_{-\\pi}^{\\pi} e^x \\sin nx dx =\n",
    "$$"
   ]
  },
  {
   "cell_type": "markdown",
   "metadata": {},
   "source": [
    "$$\n",
    "= 0 -\\frac{1}{\\pi n} \\int_{-\\pi}^{\\pi} e^x \\sin nx dx = \\left.\\left(\\frac{1}{\\pi n^2} e^x \\cos n x\\right)\\right|_{-\\pi} ^{\\pi} - \\frac{1}{\\pi n^2} \\int_{-\\pi}^{\\pi} e^x \\cos nx dx = \\frac{1}{\\pi n^2} e^{\\pi} \\cos n\\pi - \\frac{1}{\\pi n^2} e^{-\\pi} \\cos n(-\\pi) - \\frac{1}{\\pi n^2} \\int_{-\\pi}^{\\pi} e^x \\cos nx dx \n",
    "$$"
   ]
  },
  {
   "cell_type": "markdown",
   "metadata": {},
   "source": [
    "$$\n",
    "\\int_{-\\pi}^{\\pi} e^x \\cos nx dx = \\frac{1}{n^2} e^{\\pi} \\cdot (-1)^n - \\frac{1}{n^2} e^{-\\pi} \\cdot (-1)^n - \\frac{1}{n^2} \\int_{-\\pi}^{\\pi} e^x \\cos nx dx\n",
    "$$"
   ]
  },
  {
   "cell_type": "markdown",
   "metadata": {},
   "source": [
    "$$\n",
    "\\int_{-\\pi}^{\\pi} e^x \\cos nx dx = (-1)^n \\cdot \\frac{e^{\\pi} - e^{-\\pi}}{n^2 + 1}\n",
    "$$"
   ]
  },
  {
   "cell_type": "markdown",
   "metadata": {},
   "source": [
    "$$\n",
    "a_n = \\frac{1}{\\pi} \\int_{-\\pi}^{\\pi} e^x \\cos nx dx = \\frac{(-1)^n}{\\pi} \\cdot \\frac{e^{\\pi} - e^{-\\pi}}{n^2 + 1}\n",
    "$$"
   ]
  },
  {
   "cell_type": "markdown",
   "metadata": {},
   "source": [
    "$$\n",
    "b_n = \\frac{1}{\\pi} \\int_{-\\pi}^{\\pi} f(x) \\sin nx dx = \\frac{1}{\\pi} \\int_{-\\pi}^{\\pi} e^x \\sin nx dx = \\left.\\left( -\\frac{1}{\\pi n} e^x \\cos nx \\right)\\right|_{-\\pi}^{\\pi} + \\frac{1}{\\pi n} \\int_{-\\pi}^{\\pi} e^x \\cos nx dx =\n",
    "$$"
   ]
  },
  {
   "cell_type": "markdown",
   "metadata": {},
   "source": [
    "$$\n",
    "= - \\frac{1}{\\pi n} e^{\\pi} \\cos n\\pi + \\frac{1}{\\pi n} e^{-\\pi} \\cos n(-\\pi) + \\frac{1}{\\pi n} \\int_{-\\pi}^{\\pi} e^x \\cos nx dx = - \\frac{(-1)^n}{\\pi n} e^{\\pi} + \\frac{(-1)^n}{\\pi n} e^{-\\pi} + \\left.\\left( \\frac{1}{\\pi n^2} e^x \\sin nx \\right)\\right|_{-\\pi}^{\\pi} - \\frac{1}{\\pi n^2} \\int_{-\\pi}^{\\pi} e^x \\sin nx dx\n",
    "$$"
   ]
  },
  {
   "cell_type": "markdown",
   "metadata": {},
   "source": [
    "$$\n",
    "\\int_{-\\pi}^{\\pi} e^x \\sin nx dx = - \\frac{(-1)^n}{n} e^{\\pi} + \\frac{(-1)^n}{n} e^{-\\pi} - \\frac{1}{n^2} \\int_{-\\pi}^{\\pi} e^x \\sin nx dx\n",
    "$$"
   ]
  },
  {
   "cell_type": "markdown",
   "metadata": {},
   "source": [
    "$$\n",
    "\\int_{-\\pi}^{\\pi} e^x \\sin nx dx = (-1)^{n+1} \\cdot n \\cdot \\frac{e^{\\pi} - e^{-\\pi}}{n^2 + 1}\n",
    "$$"
   ]
  },
  {
   "cell_type": "markdown",
   "metadata": {},
   "source": [
    "$$\n",
    "b_n = \\frac{1}{\\pi} \\int_{-\\pi}^{\\pi} e^x \\sin nx dx = \\frac{n(-1)^{n+1}}{\\pi} \\cdot \\frac{e^{\\pi} - e^{-\\pi}}{n^2 + 1}\n",
    "$$"
   ]
  },
  {
   "cell_type": "markdown",
   "metadata": {},
   "source": [
    "$$\n",
    "e^x = \\frac{e^{\\pi} - e^{-\\pi}}{2 \\pi} + \\sum_{n=1}^{\\infty} \\left( \\frac{(-1)^n}{\\pi} \\cdot \\frac{e^{\\pi} - e^{-\\pi}}{n^2 + 1} \\cdot \\cos nx + \\frac{n(-1)^{n+1}}{\\pi} \\cdot \\frac{e^{\\pi} - e^{-\\pi}}{n^2 + 1} \\cdot \\sin nx \\right) =\n",
    "$$"
   ]
  },
  {
   "cell_type": "markdown",
   "metadata": {},
   "source": [
    "$$\n",
    "= \\frac{e^{\\pi} - e^{-\\pi}}{2 \\pi} + \\frac{(-1)^n (e^{\\pi} - e^{-\\pi})}{\\pi(n^2 + 1)} \\sum_{n=1}^{\\infty} \\left( \\cos nx - n \\cdot \\sin nx \\right) = \\frac{e^{\\pi} - e^{-\\pi}}{2\\pi} \\left( 1 + \\frac{2(-1)^n}{n^2 + 1} \\sum_{n=1}^{\\infty} \\left( \\cos nx - n \\cdot \\sin nx \\right) \\right) \\text{ на отрезке }[-\\pi ; \\pi]\n",
    "$$"
   ]
  },
  {
   "cell_type": "code",
   "execution_count": null,
   "metadata": {},
   "outputs": [],
   "source": []
  }
 ],
 "metadata": {
  "kernelspec": {
   "display_name": "Python 3",
   "language": "python",
   "name": "python3"
  },
  "language_info": {
   "codemirror_mode": {
    "name": "ipython",
    "version": 3
   },
   "file_extension": ".py",
   "mimetype": "text/x-python",
   "name": "python",
   "nbconvert_exporter": "python",
   "pygments_lexer": "ipython3",
   "version": "3.7.1"
  }
 },
 "nbformat": 4,
 "nbformat_minor": 2
}
